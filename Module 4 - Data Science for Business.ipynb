{
 "cells": [
  {
   "cell_type": "markdown",
   "metadata": {},
   "source": [
    "# Module 4 - Data Science for Business"
   ]
  },
  {
   "cell_type": "markdown",
   "metadata": {},
   "source": [
    "## Cole Bailey - colebailey@sandiego.edu"
   ]
  },
  {
   "cell_type": "markdown",
   "metadata": {},
   "source": [
    "### Background"
   ]
  },
  {
   "cell_type": "markdown",
   "metadata": {},
   "source": [
    "A national veterans’ organization wishes to develop a predictive model to improve the cost-effectiveness of their direct marketing campaign. The organization, with its in-house database of over 13 million donors, is one of the largest direct-mail fundraisers in the United States. According to their recent mailing records, the overall response rate is 5.1%. Out of those who responded (donated), the average donation is $13.00. Each mailing, which includes a gift of personalized address labels and assortments of cards and envelopes, costs $0.68 to produce and send. Using these facts, we take a sample of this dataset to develop a classification model that can effectively capture donors so that the expected net profit is maximized. Weighted sampling is used, under-representing the non-responders so that the sample has equal numbers of donors and non-donors.\n"
   ]
  },
  {
   "cell_type": "code",
   "execution_count": 1,
   "metadata": {},
   "outputs": [
    {
     "name": "stdout",
     "output_type": "stream",
     "text": [
      "no display found. Using non-interactive Agg backend\n"
     ]
    }
   ],
   "source": [
    "# Load Packages\n",
    "%matplotlib inline\n",
    "import pandas as pd\n",
    "import numpy as np\n",
    "import random\n",
    "import seaborn as sns\n",
    "import matplotlib.pyplot as plt\n",
    "import matplotlib.pylab as pylab\n",
    "\n",
    "from sklearn.model_selection import train_test_split\n",
    "from sklearn.neighbors import KNeighborsClassifier\n",
    "from sklearn.tree import DecisionTreeRegressor, DecisionTreeClassifier\n",
    "from sklearn import metrics\n",
    "from scipy import stats\n",
    "from sklearn import preprocessing\n",
    "import statsmodels.api as sm\n",
    "import scikitplot as skplt\n",
    "from sklearn.ensemble import RandomForestClassifier\n",
    "from sklearn.neighbors import KNeighborsClassifier\n",
    "\n",
    "\n",
    "from sklearn.naive_bayes import GaussianNB\n",
    "\n",
    "\n",
    "import statsmodels.api as sm\n",
    "from sklearn.linear_model import LogisticRegression, LogisticRegressionCV, LinearRegression\n",
    "from sklearn.metrics import classification_report, confusion_matrix, accuracy_score, recall_score\n",
    "\n",
    "from dmba import gainsChart\n",
    "from pathlib import Path\n",
    "DATA = Path('.').resolve().parent / 'data'"
   ]
  },
  {
   "cell_type": "markdown",
   "metadata": {},
   "source": [
    "# 1.\tData preparation: Load the data and prepare it for predictive analysis. ("
   ]
  },
  {
   "cell_type": "code",
   "execution_count": 2,
   "metadata": {},
   "outputs": [
    {
     "data": {
      "text/html": [
       "<div>\n",
       "<style scoped>\n",
       "    .dataframe tbody tr th:only-of-type {\n",
       "        vertical-align: middle;\n",
       "    }\n",
       "\n",
       "    .dataframe tbody tr th {\n",
       "        vertical-align: top;\n",
       "    }\n",
       "\n",
       "    .dataframe thead th {\n",
       "        text-align: right;\n",
       "    }\n",
       "</style>\n",
       "<table border=\"1\" class=\"dataframe\">\n",
       "  <thead>\n",
       "    <tr style=\"text-align: right;\">\n",
       "      <th></th>\n",
       "      <th>Row Id</th>\n",
       "      <th>Row Id.</th>\n",
       "      <th>zipconvert_2</th>\n",
       "      <th>zipconvert_3</th>\n",
       "      <th>zipconvert_4</th>\n",
       "      <th>zipconvert_5</th>\n",
       "      <th>homeowner dummy</th>\n",
       "      <th>NUMCHLD</th>\n",
       "      <th>INCOME</th>\n",
       "      <th>gender dummy</th>\n",
       "      <th>...</th>\n",
       "      <th>IC15</th>\n",
       "      <th>NUMPROM</th>\n",
       "      <th>RAMNTALL</th>\n",
       "      <th>MAXRAMNT</th>\n",
       "      <th>LASTGIFT</th>\n",
       "      <th>totalmonths</th>\n",
       "      <th>TIMELAG</th>\n",
       "      <th>AVGGIFT</th>\n",
       "      <th>TARGET_B</th>\n",
       "      <th>TARGET_D</th>\n",
       "    </tr>\n",
       "  </thead>\n",
       "  <tbody>\n",
       "    <tr>\n",
       "      <th>0</th>\n",
       "      <td>1</td>\n",
       "      <td>17</td>\n",
       "      <td>0</td>\n",
       "      <td>1</td>\n",
       "      <td>0</td>\n",
       "      <td>0</td>\n",
       "      <td>1</td>\n",
       "      <td>1</td>\n",
       "      <td>5</td>\n",
       "      <td>1</td>\n",
       "      <td>...</td>\n",
       "      <td>1</td>\n",
       "      <td>74</td>\n",
       "      <td>102.0</td>\n",
       "      <td>6.0</td>\n",
       "      <td>5.0</td>\n",
       "      <td>29</td>\n",
       "      <td>3</td>\n",
       "      <td>4.857143</td>\n",
       "      <td>1</td>\n",
       "      <td>5.0</td>\n",
       "    </tr>\n",
       "    <tr>\n",
       "      <th>1</th>\n",
       "      <td>2</td>\n",
       "      <td>25</td>\n",
       "      <td>1</td>\n",
       "      <td>0</td>\n",
       "      <td>0</td>\n",
       "      <td>0</td>\n",
       "      <td>1</td>\n",
       "      <td>1</td>\n",
       "      <td>1</td>\n",
       "      <td>0</td>\n",
       "      <td>...</td>\n",
       "      <td>4</td>\n",
       "      <td>46</td>\n",
       "      <td>94.0</td>\n",
       "      <td>12.0</td>\n",
       "      <td>12.0</td>\n",
       "      <td>34</td>\n",
       "      <td>6</td>\n",
       "      <td>9.400000</td>\n",
       "      <td>1</td>\n",
       "      <td>10.0</td>\n",
       "    </tr>\n",
       "    <tr>\n",
       "      <th>2</th>\n",
       "      <td>3</td>\n",
       "      <td>29</td>\n",
       "      <td>0</td>\n",
       "      <td>0</td>\n",
       "      <td>0</td>\n",
       "      <td>1</td>\n",
       "      <td>0</td>\n",
       "      <td>2</td>\n",
       "      <td>5</td>\n",
       "      <td>1</td>\n",
       "      <td>...</td>\n",
       "      <td>13</td>\n",
       "      <td>32</td>\n",
       "      <td>30.0</td>\n",
       "      <td>10.0</td>\n",
       "      <td>5.0</td>\n",
       "      <td>29</td>\n",
       "      <td>7</td>\n",
       "      <td>4.285714</td>\n",
       "      <td>1</td>\n",
       "      <td>5.0</td>\n",
       "    </tr>\n",
       "    <tr>\n",
       "      <th>3</th>\n",
       "      <td>4</td>\n",
       "      <td>38</td>\n",
       "      <td>0</td>\n",
       "      <td>0</td>\n",
       "      <td>0</td>\n",
       "      <td>1</td>\n",
       "      <td>1</td>\n",
       "      <td>1</td>\n",
       "      <td>3</td>\n",
       "      <td>0</td>\n",
       "      <td>...</td>\n",
       "      <td>4</td>\n",
       "      <td>94</td>\n",
       "      <td>177.0</td>\n",
       "      <td>10.0</td>\n",
       "      <td>8.0</td>\n",
       "      <td>30</td>\n",
       "      <td>3</td>\n",
       "      <td>7.080000</td>\n",
       "      <td>0</td>\n",
       "      <td>0.0</td>\n",
       "    </tr>\n",
       "    <tr>\n",
       "      <th>4</th>\n",
       "      <td>5</td>\n",
       "      <td>40</td>\n",
       "      <td>0</td>\n",
       "      <td>1</td>\n",
       "      <td>0</td>\n",
       "      <td>0</td>\n",
       "      <td>1</td>\n",
       "      <td>1</td>\n",
       "      <td>4</td>\n",
       "      <td>0</td>\n",
       "      <td>...</td>\n",
       "      <td>7</td>\n",
       "      <td>20</td>\n",
       "      <td>23.0</td>\n",
       "      <td>11.0</td>\n",
       "      <td>11.0</td>\n",
       "      <td>30</td>\n",
       "      <td>6</td>\n",
       "      <td>7.666667</td>\n",
       "      <td>0</td>\n",
       "      <td>0.0</td>\n",
       "    </tr>\n",
       "  </tbody>\n",
       "</table>\n",
       "<p>5 rows × 24 columns</p>\n",
       "</div>"
      ],
      "text/plain": [
       "   Row Id  Row Id.  zipconvert_2  zipconvert_3  zipconvert_4  zipconvert_5  \\\n",
       "0       1       17             0             1             0             0   \n",
       "1       2       25             1             0             0             0   \n",
       "2       3       29             0             0             0             1   \n",
       "3       4       38             0             0             0             1   \n",
       "4       5       40             0             1             0             0   \n",
       "\n",
       "   homeowner dummy  NUMCHLD  INCOME  gender dummy  ...  IC15  NUMPROM  \\\n",
       "0                1        1       5             1  ...     1       74   \n",
       "1                1        1       1             0  ...     4       46   \n",
       "2                0        2       5             1  ...    13       32   \n",
       "3                1        1       3             0  ...     4       94   \n",
       "4                1        1       4             0  ...     7       20   \n",
       "\n",
       "   RAMNTALL  MAXRAMNT  LASTGIFT  totalmonths  TIMELAG   AVGGIFT  TARGET_B  \\\n",
       "0     102.0       6.0       5.0           29        3  4.857143         1   \n",
       "1      94.0      12.0      12.0           34        6  9.400000         1   \n",
       "2      30.0      10.0       5.0           29        7  4.285714         1   \n",
       "3     177.0      10.0       8.0           30        3  7.080000         0   \n",
       "4      23.0      11.0      11.0           30        6  7.666667         0   \n",
       "\n",
       "   TARGET_D  \n",
       "0       5.0  \n",
       "1      10.0  \n",
       "2       5.0  \n",
       "3       0.0  \n",
       "4       0.0  \n",
       "\n",
       "[5 rows x 24 columns]"
      ]
     },
     "execution_count": 2,
     "metadata": {},
     "output_type": "execute_result"
    }
   ],
   "source": [
    "# Load Data\n",
    "\n",
    "fun = pd.read_csv('/Users/colebailey/Documents/USD/Data Science for Business/Module 4/Fundraising.csv')\n",
    "\n",
    "fun.head(5)"
   ]
  },
  {
   "cell_type": "code",
   "execution_count": 3,
   "metadata": {},
   "outputs": [
    {
     "data": {
      "text/html": [
       "<div>\n",
       "<style scoped>\n",
       "    .dataframe tbody tr th:only-of-type {\n",
       "        vertical-align: middle;\n",
       "    }\n",
       "\n",
       "    .dataframe tbody tr th {\n",
       "        vertical-align: top;\n",
       "    }\n",
       "\n",
       "    .dataframe thead th {\n",
       "        text-align: right;\n",
       "    }\n",
       "</style>\n",
       "<table border=\"1\" class=\"dataframe\">\n",
       "  <thead>\n",
       "    <tr style=\"text-align: right;\">\n",
       "      <th></th>\n",
       "      <th>Row Id</th>\n",
       "      <th>Row Id.</th>\n",
       "      <th>zipconvert_2</th>\n",
       "      <th>zipconvert_3</th>\n",
       "      <th>zipconvert_4</th>\n",
       "      <th>zipconvert_5</th>\n",
       "      <th>homeowner dummy</th>\n",
       "      <th>NUMCHLD</th>\n",
       "      <th>INCOME</th>\n",
       "      <th>gender dummy</th>\n",
       "      <th>...</th>\n",
       "      <th>IC15</th>\n",
       "      <th>NUMPROM</th>\n",
       "      <th>RAMNTALL</th>\n",
       "      <th>MAXRAMNT</th>\n",
       "      <th>LASTGIFT</th>\n",
       "      <th>totalmonths</th>\n",
       "      <th>TIMELAG</th>\n",
       "      <th>AVGGIFT</th>\n",
       "      <th>TARGET_B</th>\n",
       "      <th>TARGET_D</th>\n",
       "    </tr>\n",
       "  </thead>\n",
       "  <tbody>\n",
       "    <tr>\n",
       "      <th>count</th>\n",
       "      <td>3120.000000</td>\n",
       "      <td>3120.000000</td>\n",
       "      <td>3120.000000</td>\n",
       "      <td>3120.000000</td>\n",
       "      <td>3120.000000</td>\n",
       "      <td>3120.000000</td>\n",
       "      <td>3120.000000</td>\n",
       "      <td>3120.000000</td>\n",
       "      <td>3120.000000</td>\n",
       "      <td>3120.000000</td>\n",
       "      <td>...</td>\n",
       "      <td>3120.000000</td>\n",
       "      <td>3120.000000</td>\n",
       "      <td>3120.000000</td>\n",
       "      <td>3120.000000</td>\n",
       "      <td>3120.000000</td>\n",
       "      <td>3120.000000</td>\n",
       "      <td>3120.000000</td>\n",
       "      <td>3120.000000</td>\n",
       "      <td>3120.000000</td>\n",
       "      <td>3120.000000</td>\n",
       "    </tr>\n",
       "    <tr>\n",
       "      <th>mean</th>\n",
       "      <td>1560.500000</td>\n",
       "      <td>11615.770833</td>\n",
       "      <td>0.214423</td>\n",
       "      <td>0.185256</td>\n",
       "      <td>0.214423</td>\n",
       "      <td>0.384615</td>\n",
       "      <td>0.770192</td>\n",
       "      <td>1.069231</td>\n",
       "      <td>3.893910</td>\n",
       "      <td>0.609295</td>\n",
       "      <td>...</td>\n",
       "      <td>14.702885</td>\n",
       "      <td>49.089423</td>\n",
       "      <td>110.399875</td>\n",
       "      <td>16.651397</td>\n",
       "      <td>13.522917</td>\n",
       "      <td>31.136859</td>\n",
       "      <td>6.861859</td>\n",
       "      <td>10.690713</td>\n",
       "      <td>0.500000</td>\n",
       "      <td>6.499612</td>\n",
       "    </tr>\n",
       "    <tr>\n",
       "      <th>std</th>\n",
       "      <td>900.810746</td>\n",
       "      <td>6698.678131</td>\n",
       "      <td>0.410487</td>\n",
       "      <td>0.388568</td>\n",
       "      <td>0.410487</td>\n",
       "      <td>0.486582</td>\n",
       "      <td>0.420777</td>\n",
       "      <td>0.347688</td>\n",
       "      <td>1.636186</td>\n",
       "      <td>0.487987</td>\n",
       "      <td>...</td>\n",
       "      <td>12.079882</td>\n",
       "      <td>22.717130</td>\n",
       "      <td>147.299933</td>\n",
       "      <td>22.223521</td>\n",
       "      <td>10.581439</td>\n",
       "      <td>4.132952</td>\n",
       "      <td>5.561209</td>\n",
       "      <td>7.443980</td>\n",
       "      <td>0.500080</td>\n",
       "      <td>10.597849</td>\n",
       "    </tr>\n",
       "    <tr>\n",
       "      <th>min</th>\n",
       "      <td>1.000000</td>\n",
       "      <td>17.000000</td>\n",
       "      <td>0.000000</td>\n",
       "      <td>0.000000</td>\n",
       "      <td>0.000000</td>\n",
       "      <td>0.000000</td>\n",
       "      <td>0.000000</td>\n",
       "      <td>1.000000</td>\n",
       "      <td>1.000000</td>\n",
       "      <td>0.000000</td>\n",
       "      <td>...</td>\n",
       "      <td>0.000000</td>\n",
       "      <td>11.000000</td>\n",
       "      <td>15.000000</td>\n",
       "      <td>5.000000</td>\n",
       "      <td>0.000000</td>\n",
       "      <td>17.000000</td>\n",
       "      <td>0.000000</td>\n",
       "      <td>2.138889</td>\n",
       "      <td>0.000000</td>\n",
       "      <td>0.000000</td>\n",
       "    </tr>\n",
       "    <tr>\n",
       "      <th>25%</th>\n",
       "      <td>780.750000</td>\n",
       "      <td>5820.750000</td>\n",
       "      <td>0.000000</td>\n",
       "      <td>0.000000</td>\n",
       "      <td>0.000000</td>\n",
       "      <td>0.000000</td>\n",
       "      <td>1.000000</td>\n",
       "      <td>1.000000</td>\n",
       "      <td>3.000000</td>\n",
       "      <td>0.000000</td>\n",
       "      <td>...</td>\n",
       "      <td>5.000000</td>\n",
       "      <td>29.000000</td>\n",
       "      <td>45.000000</td>\n",
       "      <td>10.000000</td>\n",
       "      <td>7.000000</td>\n",
       "      <td>29.000000</td>\n",
       "      <td>3.000000</td>\n",
       "      <td>6.356092</td>\n",
       "      <td>0.000000</td>\n",
       "      <td>0.000000</td>\n",
       "    </tr>\n",
       "    <tr>\n",
       "      <th>50%</th>\n",
       "      <td>1560.500000</td>\n",
       "      <td>11735.500000</td>\n",
       "      <td>0.000000</td>\n",
       "      <td>0.000000</td>\n",
       "      <td>0.000000</td>\n",
       "      <td>0.000000</td>\n",
       "      <td>1.000000</td>\n",
       "      <td>1.000000</td>\n",
       "      <td>4.000000</td>\n",
       "      <td>1.000000</td>\n",
       "      <td>...</td>\n",
       "      <td>12.000000</td>\n",
       "      <td>48.000000</td>\n",
       "      <td>81.000000</td>\n",
       "      <td>15.000000</td>\n",
       "      <td>10.000000</td>\n",
       "      <td>31.000000</td>\n",
       "      <td>5.000000</td>\n",
       "      <td>9.000000</td>\n",
       "      <td>0.500000</td>\n",
       "      <td>0.500000</td>\n",
       "    </tr>\n",
       "    <tr>\n",
       "      <th>75%</th>\n",
       "      <td>2340.250000</td>\n",
       "      <td>17435.750000</td>\n",
       "      <td>0.000000</td>\n",
       "      <td>0.000000</td>\n",
       "      <td>0.000000</td>\n",
       "      <td>1.000000</td>\n",
       "      <td>1.000000</td>\n",
       "      <td>1.000000</td>\n",
       "      <td>5.000000</td>\n",
       "      <td>1.000000</td>\n",
       "      <td>...</td>\n",
       "      <td>21.000000</td>\n",
       "      <td>65.000000</td>\n",
       "      <td>134.625000</td>\n",
       "      <td>20.000000</td>\n",
       "      <td>16.000000</td>\n",
       "      <td>34.000000</td>\n",
       "      <td>9.000000</td>\n",
       "      <td>12.811652</td>\n",
       "      <td>1.000000</td>\n",
       "      <td>10.000000</td>\n",
       "    </tr>\n",
       "    <tr>\n",
       "      <th>max</th>\n",
       "      <td>3120.000000</td>\n",
       "      <td>23293.000000</td>\n",
       "      <td>1.000000</td>\n",
       "      <td>1.000000</td>\n",
       "      <td>1.000000</td>\n",
       "      <td>1.000000</td>\n",
       "      <td>1.000000</td>\n",
       "      <td>5.000000</td>\n",
       "      <td>7.000000</td>\n",
       "      <td>1.000000</td>\n",
       "      <td>...</td>\n",
       "      <td>90.000000</td>\n",
       "      <td>157.000000</td>\n",
       "      <td>5674.900000</td>\n",
       "      <td>1000.000000</td>\n",
       "      <td>219.000000</td>\n",
       "      <td>37.000000</td>\n",
       "      <td>77.000000</td>\n",
       "      <td>122.166667</td>\n",
       "      <td>1.000000</td>\n",
       "      <td>200.000000</td>\n",
       "    </tr>\n",
       "  </tbody>\n",
       "</table>\n",
       "<p>8 rows × 24 columns</p>\n",
       "</div>"
      ],
      "text/plain": [
       "            Row Id       Row Id. zipconvert_2 zipconvert_3 zipconvert_4  \\\n",
       "count  3120.000000   3120.000000  3120.000000  3120.000000  3120.000000   \n",
       "mean   1560.500000  11615.770833     0.214423     0.185256     0.214423   \n",
       "std     900.810746   6698.678131     0.410487     0.388568     0.410487   \n",
       "min       1.000000     17.000000     0.000000     0.000000     0.000000   \n",
       "25%     780.750000   5820.750000     0.000000     0.000000     0.000000   \n",
       "50%    1560.500000  11735.500000     0.000000     0.000000     0.000000   \n",
       "75%    2340.250000  17435.750000     0.000000     0.000000     0.000000   \n",
       "max    3120.000000  23293.000000     1.000000     1.000000     1.000000   \n",
       "\n",
       "      zipconvert_5 homeowner dummy      NUMCHLD       INCOME gender dummy  \\\n",
       "count  3120.000000     3120.000000  3120.000000  3120.000000  3120.000000   \n",
       "mean      0.384615        0.770192     1.069231     3.893910     0.609295   \n",
       "std       0.486582        0.420777     0.347688     1.636186     0.487987   \n",
       "min       0.000000        0.000000     1.000000     1.000000     0.000000   \n",
       "25%       0.000000        1.000000     1.000000     3.000000     0.000000   \n",
       "50%       0.000000        1.000000     1.000000     4.000000     1.000000   \n",
       "75%       1.000000        1.000000     1.000000     5.000000     1.000000   \n",
       "max       1.000000        1.000000     5.000000     7.000000     1.000000   \n",
       "\n",
       "       ...         IC15      NUMPROM     RAMNTALL     MAXRAMNT     LASTGIFT  \\\n",
       "count  ...  3120.000000  3120.000000  3120.000000  3120.000000  3120.000000   \n",
       "mean   ...    14.702885    49.089423   110.399875    16.651397    13.522917   \n",
       "std    ...    12.079882    22.717130   147.299933    22.223521    10.581439   \n",
       "min    ...     0.000000    11.000000    15.000000     5.000000     0.000000   \n",
       "25%    ...     5.000000    29.000000    45.000000    10.000000     7.000000   \n",
       "50%    ...    12.000000    48.000000    81.000000    15.000000    10.000000   \n",
       "75%    ...    21.000000    65.000000   134.625000    20.000000    16.000000   \n",
       "max    ...    90.000000   157.000000  5674.900000  1000.000000   219.000000   \n",
       "\n",
       "       totalmonths      TIMELAG      AVGGIFT     TARGET_B     TARGET_D  \n",
       "count  3120.000000  3120.000000  3120.000000  3120.000000  3120.000000  \n",
       "mean     31.136859     6.861859    10.690713     0.500000     6.499612  \n",
       "std       4.132952     5.561209     7.443980     0.500080    10.597849  \n",
       "min      17.000000     0.000000     2.138889     0.000000     0.000000  \n",
       "25%      29.000000     3.000000     6.356092     0.000000     0.000000  \n",
       "50%      31.000000     5.000000     9.000000     0.500000     0.500000  \n",
       "75%      34.000000     9.000000    12.811652     1.000000    10.000000  \n",
       "max      37.000000    77.000000   122.166667     1.000000   200.000000  \n",
       "\n",
       "[8 rows x 24 columns]"
      ]
     },
     "execution_count": 3,
     "metadata": {},
     "output_type": "execute_result"
    }
   ],
   "source": [
    "#Data exploration for numerical\n",
    "fun.nunique(axis=0)\n",
    "fun.describe().apply(lambda s: s.apply(lambda x: format(x, 'f')))"
   ]
  },
  {
   "cell_type": "code",
   "execution_count": 4,
   "metadata": {},
   "outputs": [
    {
     "data": {
      "text/plain": [
       "Row Id             0\n",
       "Row Id.            0\n",
       "zipconvert_2       0\n",
       "zipconvert_3       0\n",
       "zipconvert_4       0\n",
       "zipconvert_5       0\n",
       "homeowner dummy    0\n",
       "NUMCHLD            0\n",
       "INCOME             0\n",
       "gender dummy       0\n",
       "WEALTH             0\n",
       "HV                 0\n",
       "Icmed              0\n",
       "Icavg              0\n",
       "IC15               0\n",
       "NUMPROM            0\n",
       "RAMNTALL           0\n",
       "MAXRAMNT           0\n",
       "LASTGIFT           0\n",
       "totalmonths        0\n",
       "TIMELAG            0\n",
       "AVGGIFT            0\n",
       "TARGET_B           0\n",
       "TARGET_D           0\n",
       "dtype: int64"
      ]
     },
     "execution_count": 4,
     "metadata": {},
     "output_type": "execute_result"
    }
   ],
   "source": [
    "fun.isnull().sum()"
   ]
  },
  {
   "cell_type": "markdown",
   "metadata": {},
   "source": [
    "There are no null values in the data set."
   ]
  },
  {
   "cell_type": "code",
   "execution_count": 5,
   "metadata": {},
   "outputs": [
    {
     "data": {
      "text/plain": [
       "Row Id               int64\n",
       "Row Id.              int64\n",
       "zipconvert_2         int64\n",
       "zipconvert_3         int64\n",
       "zipconvert_4         int64\n",
       "zipconvert_5         int64\n",
       "homeowner dummy      int64\n",
       "NUMCHLD              int64\n",
       "INCOME               int64\n",
       "gender dummy         int64\n",
       "WEALTH               int64\n",
       "HV                   int64\n",
       "Icmed                int64\n",
       "Icavg                int64\n",
       "IC15                 int64\n",
       "NUMPROM              int64\n",
       "RAMNTALL           float64\n",
       "MAXRAMNT           float64\n",
       "LASTGIFT           float64\n",
       "totalmonths          int64\n",
       "TIMELAG              int64\n",
       "AVGGIFT            float64\n",
       "TARGET_B             int64\n",
       "TARGET_D           float64\n",
       "dtype: object"
      ]
     },
     "execution_count": 5,
     "metadata": {},
     "output_type": "execute_result"
    }
   ],
   "source": [
    "fun.dtypes"
   ]
  },
  {
   "cell_type": "markdown",
   "metadata": {},
   "source": [
    "There are no categorical variables that will need to be made into dummies or numerical values."
   ]
  },
  {
   "cell_type": "code",
   "execution_count": 6,
   "metadata": {},
   "outputs": [
    {
     "data": {
      "text/plain": [
       "1    1560\n",
       "0    1560\n",
       "Name: TARGET_B, dtype: int64"
      ]
     },
     "execution_count": 6,
     "metadata": {},
     "output_type": "execute_result"
    }
   ],
   "source": [
    "fun['TARGET_B'].value_counts()"
   ]
  },
  {
   "cell_type": "code",
   "execution_count": 7,
   "metadata": {},
   "outputs": [],
   "source": [
    "fun = fun.drop('TARGET_D', axis=1)"
   ]
  },
  {
   "cell_type": "markdown",
   "metadata": {},
   "source": [
    "### 2. Step 1—Partitioning: Partition the dataset into 60% training and 40% validation (set the seed to 12345). "
   ]
  },
  {
   "cell_type": "code",
   "execution_count": 24,
   "metadata": {},
   "outputs": [],
   "source": [
    "#Creation of training and validation sets\n",
    "X = fun.drop('TARGET_B', axis=1)\n",
    "y = fun['TARGET_B']\n",
    "\n",
    "X_train, X_val, y_train, y_val = train_test_split(\n",
    "    X, y, test_size=0.4, random_state=12345)"
   ]
  },
  {
   "cell_type": "markdown",
   "metadata": {},
   "source": [
    "### 3.\tStep 2—Model Building: Follow the following steps to build, evaluate, and choose a model."
   ]
  },
  {
   "cell_type": "markdown",
   "metadata": {},
   "source": [
    "#### Select classification tool and parameters: Run at least two classification models of your choosing. Be sure NOT to use TARGET_D in your analysis. Describe the two models that you chose, with sufficient detail (method, parameters, variables, etc.) so that it can be replicated. "
   ]
  },
  {
   "cell_type": "code",
   "execution_count": 25,
   "metadata": {},
   "outputs": [
    {
     "name": "stdout",
     "output_type": "stream",
     "text": [
      "Accuracy = 0.55 Recall = 0.55\n",
      "[[351 287]\n",
      " [276 334]]\n"
     ]
    }
   ],
   "source": [
    "# Random Forest\n",
    "#Target D was dropped already\n",
    "model = RandomForestClassifier(random_state=12345)\n",
    "model.fit(X_train, y_train)\n",
    "pred1 = model.predict(X_val)\n",
    "\n",
    "print(f'Accuracy = {accuracy_score(y_val, pred1):.2f} Recall = {recall_score(y_val, pred1):.2f}')\n",
    "cm = confusion_matrix(y_val, pred1)\n",
    "print(cm)"
   ]
  },
  {
   "cell_type": "code",
   "execution_count": 26,
   "metadata": {},
   "outputs": [
    {
     "name": "stdout",
     "output_type": "stream",
     "text": [
      "Accuracy = 0.50 Recall = 0.53\n",
      "[[293 345]\n",
      " [284 326]]\n"
     ]
    }
   ],
   "source": [
    "#K Neearest Neighbors\n",
    "\n",
    "model3 = KNeighborsClassifier(n_neighbors=25)\n",
    "model3.fit(X_train, y_train)\n",
    "pred3 = model3.predict(X_val)\n",
    "\n",
    "print(f'Accuracy = {accuracy_score(y_val, pred3):.2f} Recall = {recall_score(y_val, pred3):.2f}')\n",
    "cm3 = confusion_matrix(y_val, pred3)\n",
    "print(cm3)"
   ]
  },
  {
   "cell_type": "markdown",
   "metadata": {},
   "source": [
    "The first model chosen was based off the random forest classifier. The random forest classifier was chosen because it combines multiple decision trees to arrive at the most optimal solution. The output that is arrived at the most by the decision trees becomes the final classification based on the respective input variables. Since all the predictor variables were numerical, they were all included in the model to arrive at a balanced solution."
   ]
  },
  {
   "cell_type": "markdown",
   "metadata": {},
   "source": [
    "The second model chosen was the K Nearest neighbor model. This model creates \"neighbors\" and measures the distance from these neighbors to the points. The closer an output is to the most points earns the respective classification. For this result, the amount of neighbors was set to 25 with a random seed of 12345. This resulted in an accuracy of 50% and a recall of 53%. It classified 293 records as true positives and 326 as false negatives."
   ]
  },
  {
   "cell_type": "markdown",
   "metadata": {},
   "source": [
    "### 3.2. Classification under asymmetric response and cost: What is the reasoning behind using weighted sampling to produce a training set with equal numbers of donors and non-donors? Why not use a simple random sample from the original dataset? "
   ]
  },
  {
   "cell_type": "markdown",
   "metadata": {},
   "source": [
    "Weighted sampling is necessary for classification problems since a random sample may result in a disparity in the imbalance may have a negative impact on the model results. A simple random sample may be bias depending on which set the outcome results have an overwhelming majority in. This can lead to issues such as over or underfitting and have unrealistic results transpose to the validation/testing set. "
   ]
  },
  {
   "cell_type": "markdown",
   "metadata": {},
   "source": [
    "### 3.3. Calculate net profit: For each method, calculate the cumulative gains of net profit for both the training and validation sets based on the actual response rate (5.1%.) Again, the expected donation, given that they are donors, is $13.00, and the total cost of each mailing is $0.68. (Hint: To calculate estimated net profit, we will need to undo the effects of the weighted sampling and calculate the net profit that would reflect the actual response distribution of 5.1% donors and 94.9% non-donors. To do this, divide each row’s net profit by the oversampling weights applicable to the actual status of that row. The oversampling weight for actual donors is 50%/5.1% = 9.8. The oversampling weight for actual non-donors is 50%/94.9% = 0.53.) "
   ]
  },
  {
   "cell_type": "code",
   "execution_count": 34,
   "metadata": {},
   "outputs": [
    {
     "name": "stdout",
     "output_type": "stream",
     "text": [
      "19914.58\n",
      "13440.44\n",
      "41184\n"
     ]
    }
   ],
   "source": [
    "print(round(X_train['AVGGIFT'].sum(),2))\n",
    "print(round(X_val['AVGGIFT'].sum(),2))\n",
    "print(X_train.size)"
   ]
  },
  {
   "cell_type": "markdown",
   "metadata": {},
   "source": [
    "The total amount received is the train set is 19914.58"
   ]
  },
  {
   "cell_type": "code",
   "execution_count": 36,
   "metadata": {},
   "outputs": [
    {
     "name": "stdout",
     "output_type": "stream",
     "text": [
      "28005.120000000003\n",
      "There was a total of 28,005.12 dollars spent on mailings for the training set.\n"
     ]
    }
   ],
   "source": [
    "#Calculate Net on Train Set\n",
    "print(X_train.size*0.68)\n",
    "print(\"There was a total of 28,005.12 dollars spent on mailings for the training set.\")"
   ]
  },
  {
   "cell_type": "code",
   "execution_count": 38,
   "metadata": {},
   "outputs": [
    {
     "name": "stdout",
     "output_type": "stream",
     "text": [
      "The cumulative net for the training set at 5.1% is dollars\n"
     ]
    }
   ],
   "source": [
    "print(\"The cumulative net for the training set at 5.1% is \"\"dollars\")"
   ]
  },
  {
   "cell_type": "markdown",
   "metadata": {},
   "source": [
    "### 3.4. Draw cumulative gains curves: Draw the different models’ net profit cumulative gains curves for the validation set in a single plot (net profit on the y-axis, proportion of list or number mailed on the x-axis). Is there a model that dominates? "
   ]
  },
  {
   "cell_type": "code",
   "execution_count": 39,
   "metadata": {},
   "outputs": [
    {
     "name": "stderr",
     "output_type": "stream",
     "text": [
      "<ipython-input-39-0f8e4dce4cb3>:9: UserWarning: Matplotlib is currently using agg, which is a non-GUI backend, so cannot show the figure.\n",
      "  plt.show()\n"
     ]
    }
   ],
   "source": [
    "#KNN Gains Chart\n",
    "gains_df = pd.DataFrame({\n",
    "    'actual': y_val,\n",
    "    'prob': model3.predict_proba(X_val)[:, 1]\n",
    "})\n",
    "\n",
    "gains_df = gains_df.sort_values(by=['prob'], ascending=False).reset_index(drop=True)\n",
    "\n",
    "gainsChart(gains_df.actual)\n",
    "plt.show()"
   ]
  },
  {
   "cell_type": "code",
   "execution_count": 40,
   "metadata": {},
   "outputs": [
    {
     "name": "stderr",
     "output_type": "stream",
     "text": [
      "<ipython-input-40-e45931907a0c>:11: UserWarning: Matplotlib is currently using agg, which is a non-GUI backend, so cannot show the figure.\n",
      "  plt.show()\n"
     ]
    }
   ],
   "source": [
    "#Random Forest Gains Chart\n",
    "\n",
    "gains_df = pd.DataFrame({\n",
    "    'actual': y_val,\n",
    "    'prob': model.predict_proba(X_val)[:, 1]\n",
    "})\n",
    "\n",
    "gains_df = gains_df.sort_values(by=['prob'], ascending=False).reset_index(drop=True)\n",
    "\n",
    "gainsChart(gains_df.actual)\n",
    "plt.show()"
   ]
  },
  {
   "cell_type": "markdown",
   "metadata": {},
   "source": [
    "### 3.5. Select the best model: From your answer in (4), what do you think is the “best” model? "
   ]
  },
  {
   "cell_type": "markdown",
   "metadata": {},
   "source": [
    "Since the random forest model has nearly the same accuracy and recall results as the KNN, I would opt to move forward with the KNN model. It is comutationally less expensive than its counterpart and it is more difficult to train when moving into its hyperparameters. Also, since the data is mostly numerical, the KNN model seems to be a better fit for this particular case."
   ]
  },
  {
   "cell_type": "markdown",
   "metadata": {},
   "source": [
    "### 4.1. Using your “best” model from Step 2 (number 5), which of these candidates do you predict as donors and non-donors? List them in descending order of the probability of being a donor. Starting at the top of this sorted list, roughly how far down would you go in a mailing campaign? "
   ]
  },
  {
   "cell_type": "code",
   "execution_count": 41,
   "metadata": {},
   "outputs": [
    {
     "data": {
      "text/html": [
       "<div>\n",
       "<style scoped>\n",
       "    .dataframe tbody tr th:only-of-type {\n",
       "        vertical-align: middle;\n",
       "    }\n",
       "\n",
       "    .dataframe tbody tr th {\n",
       "        vertical-align: top;\n",
       "    }\n",
       "\n",
       "    .dataframe thead th {\n",
       "        text-align: right;\n",
       "    }\n",
       "</style>\n",
       "<table border=\"1\" class=\"dataframe\">\n",
       "  <thead>\n",
       "    <tr style=\"text-align: right;\">\n",
       "      <th></th>\n",
       "      <th>Row Id</th>\n",
       "      <th>Row Id.</th>\n",
       "      <th>zipconvert_2</th>\n",
       "      <th>zipconvert_3</th>\n",
       "      <th>zipconvert_4</th>\n",
       "      <th>zipconvert_5</th>\n",
       "      <th>homeowner dummy</th>\n",
       "      <th>NUMCHLD</th>\n",
       "      <th>INCOME</th>\n",
       "      <th>gender dummy</th>\n",
       "      <th>...</th>\n",
       "      <th>IC15</th>\n",
       "      <th>NUMPROM</th>\n",
       "      <th>RAMNTALL</th>\n",
       "      <th>MAXRAMNT</th>\n",
       "      <th>LASTGIFT</th>\n",
       "      <th>totalmonths</th>\n",
       "      <th>TIMELAG</th>\n",
       "      <th>AVGGIFT</th>\n",
       "      <th>TARGET_B</th>\n",
       "      <th>TARGET_D</th>\n",
       "    </tr>\n",
       "  </thead>\n",
       "  <tbody>\n",
       "    <tr>\n",
       "      <th>0</th>\n",
       "      <td>1</td>\n",
       "      <td>3</td>\n",
       "      <td>0</td>\n",
       "      <td>1</td>\n",
       "      <td>0</td>\n",
       "      <td>0</td>\n",
       "      <td>1</td>\n",
       "      <td>1</td>\n",
       "      <td>1</td>\n",
       "      <td>1</td>\n",
       "      <td>...</td>\n",
       "      <td>3</td>\n",
       "      <td>42</td>\n",
       "      <td>92.0</td>\n",
       "      <td>29.0</td>\n",
       "      <td>15.0</td>\n",
       "      <td>17</td>\n",
       "      <td>8</td>\n",
       "      <td>15.333333</td>\n",
       "      <td>NaN</td>\n",
       "      <td>NaN</td>\n",
       "    </tr>\n",
       "    <tr>\n",
       "      <th>1</th>\n",
       "      <td>2</td>\n",
       "      <td>4</td>\n",
       "      <td>0</td>\n",
       "      <td>0</td>\n",
       "      <td>1</td>\n",
       "      <td>0</td>\n",
       "      <td>0</td>\n",
       "      <td>1</td>\n",
       "      <td>2</td>\n",
       "      <td>1</td>\n",
       "      <td>...</td>\n",
       "      <td>4</td>\n",
       "      <td>21</td>\n",
       "      <td>30.0</td>\n",
       "      <td>20.0</td>\n",
       "      <td>20.0</td>\n",
       "      <td>33</td>\n",
       "      <td>9</td>\n",
       "      <td>15.000000</td>\n",
       "      <td>NaN</td>\n",
       "      <td>NaN</td>\n",
       "    </tr>\n",
       "    <tr>\n",
       "      <th>2</th>\n",
       "      <td>3</td>\n",
       "      <td>5</td>\n",
       "      <td>0</td>\n",
       "      <td>0</td>\n",
       "      <td>0</td>\n",
       "      <td>1</td>\n",
       "      <td>0</td>\n",
       "      <td>1</td>\n",
       "      <td>1</td>\n",
       "      <td>0</td>\n",
       "      <td>...</td>\n",
       "      <td>10</td>\n",
       "      <td>61</td>\n",
       "      <td>220.0</td>\n",
       "      <td>35.0</td>\n",
       "      <td>25.0</td>\n",
       "      <td>31</td>\n",
       "      <td>9</td>\n",
       "      <td>24.444444</td>\n",
       "      <td>NaN</td>\n",
       "      <td>NaN</td>\n",
       "    </tr>\n",
       "    <tr>\n",
       "      <th>3</th>\n",
       "      <td>4</td>\n",
       "      <td>1</td>\n",
       "      <td>0</td>\n",
       "      <td>0</td>\n",
       "      <td>0</td>\n",
       "      <td>0</td>\n",
       "      <td>1</td>\n",
       "      <td>1</td>\n",
       "      <td>4</td>\n",
       "      <td>0</td>\n",
       "      <td>...</td>\n",
       "      <td>21</td>\n",
       "      <td>32</td>\n",
       "      <td>41.0</td>\n",
       "      <td>19.0</td>\n",
       "      <td>19.0</td>\n",
       "      <td>31</td>\n",
       "      <td>13</td>\n",
       "      <td>13.666667</td>\n",
       "      <td>NaN</td>\n",
       "      <td>NaN</td>\n",
       "    </tr>\n",
       "    <tr>\n",
       "      <th>4</th>\n",
       "      <td>5</td>\n",
       "      <td>4</td>\n",
       "      <td>0</td>\n",
       "      <td>0</td>\n",
       "      <td>1</td>\n",
       "      <td>0</td>\n",
       "      <td>1</td>\n",
       "      <td>1</td>\n",
       "      <td>7</td>\n",
       "      <td>1</td>\n",
       "      <td>...</td>\n",
       "      <td>1</td>\n",
       "      <td>47</td>\n",
       "      <td>46.0</td>\n",
       "      <td>10.0</td>\n",
       "      <td>10.0</td>\n",
       "      <td>28</td>\n",
       "      <td>8</td>\n",
       "      <td>5.750000</td>\n",
       "      <td>NaN</td>\n",
       "      <td>NaN</td>\n",
       "    </tr>\n",
       "  </tbody>\n",
       "</table>\n",
       "<p>5 rows × 24 columns</p>\n",
       "</div>"
      ],
      "text/plain": [
       "   Row Id  Row Id.  zipconvert_2  zipconvert_3  zipconvert_4  zipconvert_5  \\\n",
       "0       1        3             0             1             0             0   \n",
       "1       2        4             0             0             1             0   \n",
       "2       3        5             0             0             0             1   \n",
       "3       4        1             0             0             0             0   \n",
       "4       5        4             0             0             1             0   \n",
       "\n",
       "   homeowner dummy  NUMCHLD  INCOME  gender dummy  ...  IC15  NUMPROM  \\\n",
       "0                1        1       1             1  ...     3       42   \n",
       "1                0        1       2             1  ...     4       21   \n",
       "2                0        1       1             0  ...    10       61   \n",
       "3                1        1       4             0  ...    21       32   \n",
       "4                1        1       7             1  ...     1       47   \n",
       "\n",
       "   RAMNTALL  MAXRAMNT  LASTGIFT  totalmonths  TIMELAG    AVGGIFT  TARGET_B  \\\n",
       "0      92.0      29.0      15.0           17        8  15.333333       NaN   \n",
       "1      30.0      20.0      20.0           33        9  15.000000       NaN   \n",
       "2     220.0      35.0      25.0           31        9  24.444444       NaN   \n",
       "3      41.0      19.0      19.0           31       13  13.666667       NaN   \n",
       "4      46.0      10.0      10.0           28        8   5.750000       NaN   \n",
       "\n",
       "   TARGET_D  \n",
       "0       NaN  \n",
       "1       NaN  \n",
       "2       NaN  \n",
       "3       NaN  \n",
       "4       NaN  \n",
       "\n",
       "[5 rows x 24 columns]"
      ]
     },
     "execution_count": 41,
     "metadata": {},
     "output_type": "execute_result"
    }
   ],
   "source": [
    "# Load Data\n",
    "\n",
    "fund = pd.read_csv('/Users/colebailey/Documents/USD/Data Science for Business/Module 4/FutureFundraising.csv')\n",
    "\n",
    "fund.head(5)"
   ]
  },
  {
   "cell_type": "code",
   "execution_count": 45,
   "metadata": {},
   "outputs": [
    {
     "data": {
      "text/plain": [
       "(2000, 24)"
      ]
     },
     "execution_count": 45,
     "metadata": {},
     "output_type": "execute_result"
    }
   ],
   "source": [
    "fund.shape"
   ]
  },
  {
   "cell_type": "code",
   "execution_count": 42,
   "metadata": {},
   "outputs": [],
   "source": [
    "X = fund.drop('TARGET_B', axis=1)\n",
    "y = fund['TARGET_B']\n",
    "\n",
    "X_train, X_test, y_train, y_test = train_test_split(\n",
    "    X, y, test_size=0.4, random_state=12345)"
   ]
  },
  {
   "cell_type": "markdown",
   "metadata": {},
   "source": [
    "After using the original models on the new future fundraising test set,the optimal way to go down the list would be roughly 600 records. This is the area where the maximum profit is secured before spending additional funds on other fundraisiong customers. Though more moeny would be accumulated by proceeding further down the list, it is optimal to cut when the proportions of profits are highest, or roughly after 600 of the 2000 future fundraising customers."
   ]
  },
  {
   "cell_type": "markdown",
   "metadata": {},
   "source": [
    "### Briefly explain, in two to three paragraphs, the business objective, the data mining models used, why they were used, the model results, and your recommendations to your non-technical stakeholder team. "
   ]
  },
  {
   "cell_type": "markdown",
   "metadata": {},
   "source": [
    "The business objective is to maximize profits by analyzing the optimal number of customers to reach out to and expect responses from. Since there is a 0.68 cent charge for every customer and only a 5.1% average response rate, it is the goal of the models used to determine the likelihood of a customer responding in order to maximize profits. In this sense, individuals with a high likelihood of replying are worth the investment of the 68 cents. The data mining models used were random forest and K nearest neighbors. These models were used for classification because the random forest model reduces overfitting and errors by using smaller trees until the optimal threshold is reached. The KNN model can be fine tuned to group individuals into a potential donor or non-donor list. The models were relatively successful in prediciting donors and non donors. When appplying the models to the future fundraising dataset, the individual probabilities were shown. As a result, these models can be used to identify highly potential donors to maximize profits."
   ]
  },
  {
   "cell_type": "code",
   "execution_count": null,
   "metadata": {},
   "outputs": [],
   "source": []
  },
  {
   "cell_type": "code",
   "execution_count": null,
   "metadata": {},
   "outputs": [],
   "source": []
  }
 ],
 "metadata": {
  "kernelspec": {
   "display_name": "Python 3",
   "language": "python",
   "name": "python3"
  },
  "language_info": {
   "codemirror_mode": {
    "name": "ipython",
    "version": 3
   },
   "file_extension": ".py",
   "mimetype": "text/x-python",
   "name": "python",
   "nbconvert_exporter": "python",
   "pygments_lexer": "ipython3",
   "version": "3.8.3"
  }
 },
 "nbformat": 4,
 "nbformat_minor": 4
}
