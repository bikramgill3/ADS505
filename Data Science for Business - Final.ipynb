{
 "cells": [
  {
   "cell_type": "markdown",
   "metadata": {},
   "source": [
    "# Data Science for Business - Final Project"
   ]
  },
  {
   "cell_type": "markdown",
   "metadata": {},
   "source": [
    "## Cole Bailey - Bikram Gill - Christopher Robinson"
   ]
  },
  {
   "cell_type": "markdown",
   "metadata": {},
   "source": [
    "### Background"
   ]
  },
  {
   "cell_type": "markdown",
   "metadata": {},
   "source": [
    "Banks are required to report suspected vulnerable (elder and dependent adult) financial exploitation. Today, much of this activity is limited to human interaction (bankers working with customers on the phone or in person), through which bankers may pick up queues, or red flags or customers self-reporting scams or financial abuse to their financial institution. Digital payments have a degree of reported fraud and claims, with the assumption that much more unreported losses occur, especially perpetrated against older adults (60 years of age or older). \n",
    "\n",
    "As digital payments continue to expand across all demographics, research shows that older adults are showing the biggest uptick in adoption during the 2020/21 period due to the pandemic. Currently, digital payment data is not analyzed specifically under the vulnerable (elder and dependent adult) financial exploitation lens. Banks are required to report elder financial abuse but, unless a customer reports fraud and files a claim, financial abuse can go undetected and repeated fraud via digital payments can continue without the banks’ knowledge. Without detection models, a large amount of fraud is left unreported by consumers and elder and vulnerable adult populations will be at greater risk of being targeted and losing savings to fraudulent payments.\n",
    "\n",
    "Banks need better methods to help protect elder and vulnerable adults against fraud in the digital payments landscape. Predictive modeling may also be applied in some form to alert consumers and bankers in advance of a fraud attempt and potentially pre-empt certain transactions and monetary losses. As the older adult segment continues to adopt digital technology, including digital payments, banks need better ways to predict and analyze transaction data to detect high risk payment patterns or transaction attributes that signal high risk for fraud, especially for older and vulnerable adult customers, which could be targeted by scammers."
   ]
  },
  {
   "cell_type": "code",
   "execution_count": 1,
   "metadata": {},
   "outputs": [],
   "source": [
    "# Load Packages\n",
    "\n",
    "%matplotlib inline\n",
    "import pandas as pd\n",
    "import numpy as np\n",
    "import random\n",
    "import seaborn as sns\n",
    "import matplotlib.pyplot as plt\n",
    "import matplotlib.pylab as pylab\n",
    "\n",
    "from sklearn.model_selection import train_test_split\n",
    "from sklearn.neighbors import KNeighborsClassifier\n",
    "from sklearn.tree import DecisionTreeRegressor, DecisionTreeClassifier\n",
    "from sklearn import metrics\n",
    "from scipy import stats\n",
    "from sklearn import preprocessing\n",
    "import statsmodels.api as sm\n",
    "import scikitplot as skplt\n",
    "from sklearn.ensemble import RandomForestClassifier\n",
    "from sklearn.neighbors import KNeighborsClassifier\n",
    "from sklearn.naive_bayes import GaussianNB\n",
    "import statsmodels.api as sm\n",
    "from sklearn.linear_model import LogisticRegression, LogisticRegressionCV, LinearRegression\n",
    "from sklearn.metrics import classification_report, confusion_matrix, accuracy_score, recall_score"
   ]
  },
  {
   "cell_type": "code",
   "execution_count": 2,
   "metadata": {},
   "outputs": [],
   "source": [
    "# Load in the data\n",
    "#Testing and Training set already set\n",
    "\n",
    "dftest = pd.read_csv('/Users/colebailey/Documents/USD/Data Science for Business/Test Set Final.csv')\n",
    "\n",
    "dftrain = pd.read_csv('/Users/colebailey/Documents/USD/Data Science for Business/Train Set Final.csv')\n",
    "\n",
    "#Opting to keep the test and train sets separated to keep align with competition requirements\n",
    "# EDA and preprocess steps to be duplicated on each DF"
   ]
  },
  {
   "cell_type": "markdown",
   "metadata": {},
   "source": [
    "#### Explatory Data Analysis"
   ]
  },
  {
   "cell_type": "markdown",
   "metadata": {},
   "source": [
    "Training Set"
   ]
  },
  {
   "cell_type": "code",
   "execution_count": 3,
   "metadata": {},
   "outputs": [
    {
     "data": {
      "text/html": [
       "<div>\n",
       "<style scoped>\n",
       "    .dataframe tbody tr th:only-of-type {\n",
       "        vertical-align: middle;\n",
       "    }\n",
       "\n",
       "    .dataframe tbody tr th {\n",
       "        vertical-align: top;\n",
       "    }\n",
       "\n",
       "    .dataframe thead th {\n",
       "        text-align: right;\n",
       "    }\n",
       "</style>\n",
       "<table border=\"1\" class=\"dataframe\">\n",
       "  <thead>\n",
       "    <tr style=\"text-align: right;\">\n",
       "      <th></th>\n",
       "      <th>TRAN_AMT</th>\n",
       "      <th>ACCT_PRE_TRAN_AVAIL_BAL</th>\n",
       "      <th>CUST_AGE</th>\n",
       "      <th>OPEN_ACCT_CT</th>\n",
       "      <th>WF_dvc_age</th>\n",
       "      <th>PWD_UPDT_TS</th>\n",
       "      <th>CARR_NAME</th>\n",
       "      <th>RGN_NAME</th>\n",
       "      <th>STATE_PRVNC_TXT</th>\n",
       "      <th>ALERT_TRGR_CD</th>\n",
       "      <th>...</th>\n",
       "      <th>CUST_STATE</th>\n",
       "      <th>PH_NUM_UPDT_TS</th>\n",
       "      <th>CUST_SINCE_DT</th>\n",
       "      <th>TRAN_TS</th>\n",
       "      <th>TRAN_DT</th>\n",
       "      <th>ACTN_CD</th>\n",
       "      <th>ACTN_INTNL_TXT</th>\n",
       "      <th>TRAN_TYPE_CD</th>\n",
       "      <th>ACTVY_DT</th>\n",
       "      <th>FRAUD_NONFRAUD</th>\n",
       "    </tr>\n",
       "  </thead>\n",
       "  <tbody>\n",
       "    <tr>\n",
       "      <th>0</th>\n",
       "      <td>5.38</td>\n",
       "      <td>23619.91</td>\n",
       "      <td>47</td>\n",
       "      <td>4</td>\n",
       "      <td>2777</td>\n",
       "      <td>1/16/2018 11:3:58</td>\n",
       "      <td>cox communications inc.</td>\n",
       "      <td>southwest</td>\n",
       "      <td>nevada</td>\n",
       "      <td>MOBL</td>\n",
       "      <td>...</td>\n",
       "      <td>NV</td>\n",
       "      <td>2/24/2021 15:55:10</td>\n",
       "      <td>1993-01-06 00:00:00</td>\n",
       "      <td>5/3/2021 18:3:58</td>\n",
       "      <td>5/3/2021</td>\n",
       "      <td>SCHPMT</td>\n",
       "      <td>P2P_COMMIT</td>\n",
       "      <td>P2P</td>\n",
       "      <td>5/3/2021</td>\n",
       "      <td>Non-Fraud</td>\n",
       "    </tr>\n",
       "    <tr>\n",
       "      <th>1</th>\n",
       "      <td>65.19</td>\n",
       "      <td>0.00</td>\n",
       "      <td>45</td>\n",
       "      <td>5</td>\n",
       "      <td>2721</td>\n",
       "      <td>NaN</td>\n",
       "      <td>charter communications</td>\n",
       "      <td>southwest</td>\n",
       "      <td>california</td>\n",
       "      <td>MOBL</td>\n",
       "      <td>...</td>\n",
       "      <td>CA</td>\n",
       "      <td>NaN</td>\n",
       "      <td>1971-01-07 00:00:00</td>\n",
       "      <td>1/13/2021 19:19:37</td>\n",
       "      <td>1/13/2021</td>\n",
       "      <td>SCHPMT</td>\n",
       "      <td>P2P_COMMIT</td>\n",
       "      <td>P2P</td>\n",
       "      <td>1/13/2021</td>\n",
       "      <td>Non-Fraud</td>\n",
       "    </tr>\n",
       "    <tr>\n",
       "      <th>2</th>\n",
       "      <td>54.84</td>\n",
       "      <td>34570.63</td>\n",
       "      <td>36</td>\n",
       "      <td>8</td>\n",
       "      <td>1531</td>\n",
       "      <td>12/22/2021 10:42:51</td>\n",
       "      <td>utah broadband llc</td>\n",
       "      <td>mountain</td>\n",
       "      <td>utah</td>\n",
       "      <td>ONLN</td>\n",
       "      <td>...</td>\n",
       "      <td>MD</td>\n",
       "      <td>5/5/2019 1:8:39</td>\n",
       "      <td>1994-02-01 00:00:00</td>\n",
       "      <td>4/8/2021 9:42:51</td>\n",
       "      <td>4/8/2021</td>\n",
       "      <td>SCHPMT</td>\n",
       "      <td>P2P_COMMIT</td>\n",
       "      <td>P2P</td>\n",
       "      <td>4/8/2021</td>\n",
       "      <td>Fraud</td>\n",
       "    </tr>\n",
       "    <tr>\n",
       "      <th>3</th>\n",
       "      <td>0.01</td>\n",
       "      <td>0.00</td>\n",
       "      <td>62</td>\n",
       "      <td>3</td>\n",
       "      <td>835</td>\n",
       "      <td>2/8/2020 7:28:31</td>\n",
       "      <td>t-mobile usa  inc.</td>\n",
       "      <td>southwest</td>\n",
       "      <td>california</td>\n",
       "      <td>MOBL</td>\n",
       "      <td>...</td>\n",
       "      <td>NV</td>\n",
       "      <td>2/16/2019 6:45:37</td>\n",
       "      <td>2001-11-01 00:00:00</td>\n",
       "      <td>8/10/2021 15:28:31</td>\n",
       "      <td>8/10/2021</td>\n",
       "      <td>SCHPMT</td>\n",
       "      <td>P2P_COMMIT</td>\n",
       "      <td>P2P</td>\n",
       "      <td>8/10/2021</td>\n",
       "      <td>Non-Fraud</td>\n",
       "    </tr>\n",
       "    <tr>\n",
       "      <th>4</th>\n",
       "      <td>497.08</td>\n",
       "      <td>12725.18</td>\n",
       "      <td>81</td>\n",
       "      <td>2</td>\n",
       "      <td>1095</td>\n",
       "      <td>12/28/2020 12:12:44</td>\n",
       "      <td>cogent communications</td>\n",
       "      <td>south central</td>\n",
       "      <td>texas</td>\n",
       "      <td>MOBL</td>\n",
       "      <td>...</td>\n",
       "      <td>UT</td>\n",
       "      <td>5/8/2020 10:27:6</td>\n",
       "      <td>1987-02-07 00:00:00</td>\n",
       "      <td>6/27/2021 11:12:44</td>\n",
       "      <td>6/27/2021</td>\n",
       "      <td>SCHPMT</td>\n",
       "      <td>P2P_COMMIT</td>\n",
       "      <td>P2P</td>\n",
       "      <td>6/27/2021</td>\n",
       "      <td>Fraud</td>\n",
       "    </tr>\n",
       "  </tbody>\n",
       "</table>\n",
       "<p>5 rows × 24 columns</p>\n",
       "</div>"
      ],
      "text/plain": [
       "   TRAN_AMT  ACCT_PRE_TRAN_AVAIL_BAL  CUST_AGE  OPEN_ACCT_CT  WF_dvc_age  \\\n",
       "0      5.38                 23619.91        47             4        2777   \n",
       "1     65.19                     0.00        45             5        2721   \n",
       "2     54.84                 34570.63        36             8        1531   \n",
       "3      0.01                     0.00        62             3         835   \n",
       "4    497.08                 12725.18        81             2        1095   \n",
       "\n",
       "           PWD_UPDT_TS                CARR_NAME       RGN_NAME  \\\n",
       "0    1/16/2018 11:3:58  cox communications inc.      southwest   \n",
       "1                  NaN   charter communications      southwest   \n",
       "2  12/22/2021 10:42:51       utah broadband llc       mountain   \n",
       "3     2/8/2020 7:28:31       t-mobile usa  inc.      southwest   \n",
       "4  12/28/2020 12:12:44    cogent communications  south central   \n",
       "\n",
       "  STATE_PRVNC_TXT ALERT_TRGR_CD  ... CUST_STATE      PH_NUM_UPDT_TS  \\\n",
       "0          nevada          MOBL  ...         NV  2/24/2021 15:55:10   \n",
       "1      california          MOBL  ...         CA                 NaN   \n",
       "2            utah          ONLN  ...         MD     5/5/2019 1:8:39   \n",
       "3      california          MOBL  ...         NV   2/16/2019 6:45:37   \n",
       "4           texas          MOBL  ...         UT    5/8/2020 10:27:6   \n",
       "\n",
       "         CUST_SINCE_DT             TRAN_TS    TRAN_DT ACTN_CD ACTN_INTNL_TXT  \\\n",
       "0  1993-01-06 00:00:00    5/3/2021 18:3:58   5/3/2021  SCHPMT     P2P_COMMIT   \n",
       "1  1971-01-07 00:00:00  1/13/2021 19:19:37  1/13/2021  SCHPMT     P2P_COMMIT   \n",
       "2  1994-02-01 00:00:00    4/8/2021 9:42:51   4/8/2021  SCHPMT     P2P_COMMIT   \n",
       "3  2001-11-01 00:00:00  8/10/2021 15:28:31  8/10/2021  SCHPMT     P2P_COMMIT   \n",
       "4  1987-02-07 00:00:00  6/27/2021 11:12:44  6/27/2021  SCHPMT     P2P_COMMIT   \n",
       "\n",
       "  TRAN_TYPE_CD   ACTVY_DT FRAUD_NONFRAUD  \n",
       "0          P2P   5/3/2021      Non-Fraud  \n",
       "1          P2P  1/13/2021      Non-Fraud  \n",
       "2          P2P   4/8/2021          Fraud  \n",
       "3          P2P  8/10/2021      Non-Fraud  \n",
       "4          P2P  6/27/2021          Fraud  \n",
       "\n",
       "[5 rows x 24 columns]"
      ]
     },
     "execution_count": 3,
     "metadata": {},
     "output_type": "execute_result"
    }
   ],
   "source": [
    "dftrain.head(5)"
   ]
  },
  {
   "cell_type": "markdown",
   "metadata": {},
   "source": [
    "The test set contains 24 variables and 6,000 records. \n",
    "The train set contains 24 variables and 14,000 records."
   ]
  },
  {
   "cell_type": "code",
   "execution_count": 4,
   "metadata": {},
   "outputs": [
    {
     "data": {
      "text/html": [
       "<div>\n",
       "<style scoped>\n",
       "    .dataframe tbody tr th:only-of-type {\n",
       "        vertical-align: middle;\n",
       "    }\n",
       "\n",
       "    .dataframe tbody tr th {\n",
       "        vertical-align: top;\n",
       "    }\n",
       "\n",
       "    .dataframe thead th {\n",
       "        text-align: right;\n",
       "    }\n",
       "</style>\n",
       "<table border=\"1\" class=\"dataframe\">\n",
       "  <thead>\n",
       "    <tr style=\"text-align: right;\">\n",
       "      <th></th>\n",
       "      <th>TRAN_AMT</th>\n",
       "      <th>ACCT_PRE_TRAN_AVAIL_BAL</th>\n",
       "      <th>CUST_AGE</th>\n",
       "      <th>OPEN_ACCT_CT</th>\n",
       "      <th>WF_dvc_age</th>\n",
       "      <th>CUST_ZIP</th>\n",
       "    </tr>\n",
       "  </thead>\n",
       "  <tbody>\n",
       "    <tr>\n",
       "      <th>count</th>\n",
       "      <td>14000.000000</td>\n",
       "      <td>14000.000000</td>\n",
       "      <td>14000.000000</td>\n",
       "      <td>14000.000000</td>\n",
       "      <td>14000.000000</td>\n",
       "      <td>14000.000000</td>\n",
       "    </tr>\n",
       "    <tr>\n",
       "      <th>mean</th>\n",
       "      <td>275.377747</td>\n",
       "      <td>10233.110609</td>\n",
       "      <td>53.937214</td>\n",
       "      <td>6.666714</td>\n",
       "      <td>611.061571</td>\n",
       "      <td>74007.681071</td>\n",
       "    </tr>\n",
       "    <tr>\n",
       "      <th>std</th>\n",
       "      <td>317.892333</td>\n",
       "      <td>29967.453812</td>\n",
       "      <td>18.829836</td>\n",
       "      <td>9.059419</td>\n",
       "      <td>668.113489</td>\n",
       "      <td>24948.053588</td>\n",
       "    </tr>\n",
       "    <tr>\n",
       "      <th>min</th>\n",
       "      <td>0.010000</td>\n",
       "      <td>0.000000</td>\n",
       "      <td>13.000000</td>\n",
       "      <td>0.000000</td>\n",
       "      <td>-117.000000</td>\n",
       "      <td>0.000000</td>\n",
       "    </tr>\n",
       "    <tr>\n",
       "      <th>25%</th>\n",
       "      <td>11.322500</td>\n",
       "      <td>0.000000</td>\n",
       "      <td>39.000000</td>\n",
       "      <td>3.000000</td>\n",
       "      <td>75.000000</td>\n",
       "      <td>63123.000000</td>\n",
       "    </tr>\n",
       "    <tr>\n",
       "      <th>50%</th>\n",
       "      <td>161.355000</td>\n",
       "      <td>2410.395000</td>\n",
       "      <td>59.000000</td>\n",
       "      <td>5.000000</td>\n",
       "      <td>365.500000</td>\n",
       "      <td>85037.000000</td>\n",
       "    </tr>\n",
       "    <tr>\n",
       "      <th>75%</th>\n",
       "      <td>488.822500</td>\n",
       "      <td>4732.695000</td>\n",
       "      <td>68.000000</td>\n",
       "      <td>7.000000</td>\n",
       "      <td>961.000000</td>\n",
       "      <td>92201.000000</td>\n",
       "    </tr>\n",
       "    <tr>\n",
       "      <th>max</th>\n",
       "      <td>2376.060000</td>\n",
       "      <td>361519.050000</td>\n",
       "      <td>105.000000</td>\n",
       "      <td>227.000000</td>\n",
       "      <td>2783.000000</td>\n",
       "      <td>99835.000000</td>\n",
       "    </tr>\n",
       "  </tbody>\n",
       "</table>\n",
       "</div>"
      ],
      "text/plain": [
       "           TRAN_AMT ACCT_PRE_TRAN_AVAIL_BAL      CUST_AGE  OPEN_ACCT_CT  \\\n",
       "count  14000.000000            14000.000000  14000.000000  14000.000000   \n",
       "mean     275.377747            10233.110609     53.937214      6.666714   \n",
       "std      317.892333            29967.453812     18.829836      9.059419   \n",
       "min        0.010000                0.000000     13.000000      0.000000   \n",
       "25%       11.322500                0.000000     39.000000      3.000000   \n",
       "50%      161.355000             2410.395000     59.000000      5.000000   \n",
       "75%      488.822500             4732.695000     68.000000      7.000000   \n",
       "max     2376.060000           361519.050000    105.000000    227.000000   \n",
       "\n",
       "         WF_dvc_age      CUST_ZIP  \n",
       "count  14000.000000  14000.000000  \n",
       "mean     611.061571  74007.681071  \n",
       "std      668.113489  24948.053588  \n",
       "min     -117.000000      0.000000  \n",
       "25%       75.000000  63123.000000  \n",
       "50%      365.500000  85037.000000  \n",
       "75%      961.000000  92201.000000  \n",
       "max     2783.000000  99835.000000  "
      ]
     },
     "execution_count": 4,
     "metadata": {},
     "output_type": "execute_result"
    }
   ],
   "source": [
    "#Data exploration for numerical\n",
    "dftrain.nunique(axis=0)\n",
    "dftrain.describe().apply(lambda s: s.apply(lambda x: format(x, 'f')))"
   ]
  },
  {
   "cell_type": "code",
   "execution_count": 5,
   "metadata": {},
   "outputs": [
    {
     "data": {
      "text/plain": [
       "Non-Fraud    9836\n",
       "Fraud        4164\n",
       "Name: FRAUD_NONFRAUD, dtype: int64"
      ]
     },
     "execution_count": 5,
     "metadata": {},
     "output_type": "execute_result"
    }
   ],
   "source": [
    "dftrain['FRAUD_NONFRAUD'].value_counts()"
   ]
  },
  {
   "cell_type": "code",
   "execution_count": 6,
   "metadata": {},
   "outputs": [],
   "source": [
    "#value of this column needs to be 0 (FRAUD) and 1 (NonFraud)\n",
    "dict_edu = {\"FRAUD_NONFRAUD\": {\"Fraud\" : 0, \"Non-Fraud\" :1}}\n",
    "dftrain.replace(dict_edu, inplace = True)"
   ]
  },
  {
   "cell_type": "code",
   "execution_count": 7,
   "metadata": {},
   "outputs": [
    {
     "data": {
      "image/png": "[encoded data removed]",
      "text/plain": [
       "<Figure size 720x432 with 1 Axes>"
      ]
     },
     "metadata": {
      "needs_background": "light"
     },
     "output_type": "display_data"
    }
   ],
   "source": [
    "ax = dftrain['FRAUD_NONFRAUD'].value_counts().plot(kind='bar', figsize=(10, 6), fontsize=13, color='green')\n",
    "ax.set_title('Fraud Counts (0 = Fraud, 1 = Non-Fraud)', size=20, pad=30)\n",
    "ax.set_ylabel('Results', fontsize=14)\n",
    "#display values\n",
    "for i in ax.patches:\n",
    "    ax.text(i.get_x() + 0.19, i.get_height() + 700, str(round(i.get_height(), 2)), fontsize=15)"
   ]
  },
  {
   "cell_type": "code",
   "execution_count": 8,
   "metadata": {},
   "outputs": [
    {
     "data": {
      "text/plain": [
       "PH_NUM_UPDT_TS             0.504357\n",
       "PWD_UPDT_TS                0.223214\n",
       "CARR_NAME                  0.193500\n",
       "RGN_NAME                   0.193500\n",
       "STATE_PRVNC_TXT            0.193500\n",
       "DVC_TYPE_TXT               0.125786\n",
       "AUTHC_SCNDRY_STAT_TXT      0.005286\n",
       "CUST_STATE                 0.002571\n",
       "FRAUD_NONFRAUD             0.000000\n",
       "ALERT_TRGR_CD              0.000000\n",
       "ACCT_PRE_TRAN_AVAIL_BAL    0.000000\n",
       "CUST_AGE                   0.000000\n",
       "OPEN_ACCT_CT               0.000000\n",
       "WF_dvc_age                 0.000000\n",
       "AUTHC_PRIM_TYPE_CD         0.000000\n",
       "ACTVY_DT                   0.000000\n",
       "CUST_ZIP                   0.000000\n",
       "CUST_SINCE_DT              0.000000\n",
       "TRAN_TS                    0.000000\n",
       "TRAN_DT                    0.000000\n",
       "ACTN_CD                    0.000000\n",
       "ACTN_INTNL_TXT             0.000000\n",
       "TRAN_TYPE_CD               0.000000\n",
       "TRAN_AMT                   0.000000\n",
       "dtype: float64"
      ]
     },
     "execution_count": 8,
     "metadata": {},
     "output_type": "execute_result"
    }
   ],
   "source": [
    "# Identify the columns with missing values\n",
    "dftrain.isnull().sum().sort_values(ascending = False)/len(dftrain)"
   ]
  },
  {
   "cell_type": "markdown",
   "metadata": {},
   "source": [
    "There are eight variables with missing values. Six of those variables have at least 10% of the total data missing. Since 'PH_NUM_UPDT_TS' is a date and more than 50% of the data is missing, this variable will be removed as it is unreliable. 'PWD_UPDT_TS' will be removed for the same reasons although it is missing roughly 22% of rows. For 'CARR_NAME','RGN_NAME','STATE_PRVNC_TXT', these null values will be separated into a category of 'unknown'. Lastly, we will remove the rest of the rows containing nulls since the total nulls left is very low and will not obscure the data further."
   ]
  },
  {
   "cell_type": "code",
   "execution_count": 9,
   "metadata": {},
   "outputs": [],
   "source": [
    "dftrain.drop(['PWD_UPDT_TS','PH_NUM_UPDT_TS'],inplace=True,axis=1)\n",
    "\n",
    "dftrain[\"CARR_NAME\"].fillna(\"Unknown\", inplace = True)\n",
    "dftrain[\"RGN_NAME\"].fillna(\"Unknown\", inplace = True)\n",
    "dftrain[\"STATE_PRVNC_TXT\"].fillna(\"Unknown\", inplace = True)\n",
    "\n",
    "dftrain = dftrain.dropna()"
   ]
  },
  {
   "cell_type": "code",
   "execution_count": 10,
   "metadata": {},
   "outputs": [
    {
     "name": "stdout",
     "output_type": "stream",
     "text": [
      "SCHPMT    12141\n",
      "Name: ACTN_CD, dtype: int64\n",
      "P2P_COMMIT    12141\n",
      "Name: ACTN_INTNL_TXT, dtype: int64\n",
      "P2P    12141\n",
      "Name: TRAN_TYPE_CD, dtype: int64\n"
     ]
    }
   ],
   "source": [
    "print(dftrain['ACTN_CD'].value_counts())\n",
    "print(dftrain['ACTN_INTNL_TXT'].value_counts())\n",
    "print(dftrain['TRAN_TYPE_CD'].value_counts())"
   ]
  },
  {
   "cell_type": "markdown",
   "metadata": {},
   "source": [
    "Since the three columns above only have one constant and distinct unit, they offer nothing in predicitve capability. They will be removed."
   ]
  },
  {
   "cell_type": "code",
   "execution_count": 11,
   "metadata": {},
   "outputs": [],
   "source": [
    "dftrain.drop(['ACTN_CD','ACTN_INTNL_TXT','TRAN_TYPE_CD'],inplace=True,axis=1)\n"
   ]
  },
  {
   "cell_type": "code",
   "execution_count": 12,
   "metadata": {},
   "outputs": [
    {
     "name": "stdout",
     "output_type": "stream",
     "text": [
      "2/28/2021              178\n",
      "3/3/2021               115\n",
      "3/5/2021               102\n",
      "6/30/2021               98\n",
      "3/1/2021                97\n",
      "                      ... \n",
      "2021-03-10 00:00:00      1\n",
      "2021-10-09 00:00:00      1\n",
      "2021-11-22 00:00:00      1\n",
      "2021-08-11 00:00:00      1\n",
      "2021-11-07 00:00:00      1\n",
      "Name: TRAN_DT, Length: 334, dtype: int64\n",
      "2/28/2021              178\n",
      "3/3/2021               115\n",
      "3/5/2021               102\n",
      "6/30/2021               98\n",
      "3/1/2021                97\n",
      "                      ... \n",
      "2021-03-10 00:00:00      1\n",
      "2021-10-09 00:00:00      1\n",
      "2021-11-22 00:00:00      1\n",
      "2021-08-11 00:00:00      1\n",
      "2021-11-07 00:00:00      1\n",
      "Name: ACTVY_DT, Length: 334, dtype: int64\n"
     ]
    }
   ],
   "source": [
    "print(dftrain['TRAN_DT'].value_counts())\n",
    "print(dftrain['ACTVY_DT'].value_counts())\n",
    "#The columns are redundant. We can remove one.\n",
    "dftrain.drop(['TRAN_DT'],inplace=True,axis=1)"
   ]
  },
  {
   "cell_type": "code",
   "execution_count": 13,
   "metadata": {},
   "outputs": [],
   "source": [
    "#Remove final columns with information that is redundant or not useful such as zipcode\n",
    "dftrain.drop(['CUST_ZIP','CUST_SINCE_DT','TRAN_TS','ACTVY_DT'], inplace = True,axis=1)"
   ]
  },
  {
   "cell_type": "markdown",
   "metadata": {},
   "source": [
    "Now we will look at feautures withhigh cardinality. These feautures give the model a difficult time to find patterns and analyze feautures outside the training set."
   ]
  },
  {
   "cell_type": "code",
   "execution_count": 14,
   "metadata": {},
   "outputs": [
    {
     "data": {
      "text/plain": [
       "TRAN_AMT                   float64\n",
       "ACCT_PRE_TRAN_AVAIL_BAL    float64\n",
       "CUST_AGE                     int64\n",
       "OPEN_ACCT_CT                 int64\n",
       "WF_dvc_age                   int64\n",
       "CARR_NAME                   object\n",
       "RGN_NAME                    object\n",
       "STATE_PRVNC_TXT             object\n",
       "ALERT_TRGR_CD               object\n",
       "DVC_TYPE_TXT                object\n",
       "AUTHC_PRIM_TYPE_CD          object\n",
       "AUTHC_SCNDRY_STAT_TXT       object\n",
       "CUST_STATE                  object\n",
       "FRAUD_NONFRAUD               int64\n",
       "dtype: object"
      ]
     },
     "execution_count": 14,
     "metadata": {},
     "output_type": "execute_result"
    }
   ],
   "source": [
    "dftrain.dtypes"
   ]
  },
  {
   "cell_type": "code",
   "execution_count": 15,
   "metadata": {},
   "outputs": [],
   "source": [
    "# obj_df = dftrain.select_dtypes(include=['object']).copy()\n",
    "# obj_df.head()"
   ]
  },
  {
   "cell_type": "code",
   "execution_count": 16,
   "metadata": {},
   "outputs": [],
   "source": [
    "# obj_df[\"STATE_PRVNC_TXT\"] = obj_df[\"STATE_PRVNC_TXT\"].astype('category')\n",
    "# obj_df[\"RGN_NAME\"] = obj_df[\"RGN_NAME\"].astype('category')\n",
    "# obj_df[\"CARR_NAME\"] = obj_df[\"CARR_NAME\"].astype('category')\n",
    "# obj_df[\"DVC_TYPE_TXT\"] = obj_df[\"DVC_TYPE_TXT\"].astype('category')\n",
    "# obj_df[\"CUST_STATE\"] = obj_df[\"CUST_STATE\"].astype('category')\n",
    "# obj_df[\"AUTHC_PRIM_TYPE_CD\"] = obj_df[\"AUTHC_PRIM_TYPE_CD\"].astype('category')\n",
    "# obj_df[\"AUTHC_SCNDRY_STAT_TXT\"] = obj_df[\"AUTHC_SCNDRY_STAT_TXT\"].astype('category')\n",
    "# obj_df[\"ALERT_TRGR_CD\"] = obj_df[\"ALERT_TRGR_CD\"].astype('category')\n",
    "# obj_df.dtypes"
   ]
  },
  {
   "cell_type": "code",
   "execution_count": 17,
   "metadata": {},
   "outputs": [],
   "source": [
    "# obj_df[\"ALERT_TRGR_CD\"] = obj_df[\"ALERT_TRGR_CD\"].cat.codes\n",
    "# obj_df[\"STATE_PRVNC_TXT\"] = obj_df[\"STATE_PRVNC_TXT\"].cat.codes\n",
    "# obj_df[\"RGN_NAME\"] = obj_df[\"RGN_NAME\"].cat.codes\n",
    "# obj_df[\"CARR_NAME\"] = obj_df[\"CARR_NAME\"].cat.codes\n",
    "# obj_df[\"DVC_TYPE_TXT\"] = obj_df[\"DVC_TYPE_TXT\"].cat.codes\n",
    "# obj_df[\"CUST_STATE\"] = obj_df[\"CUST_STATE\"].cat.codes\n",
    "# obj_df[\"AUTHC_PRIM_TYPE_CD\"] = obj_df[\"AUTHC_PRIM_TYPE_CD\"].cat.codes\n",
    "# obj_df[\"AUTHC_SCNDRY_STAT_TXT\"] = obj_df[\"AUTHC_SCNDRY_STAT_TXT\"].cat.codes\n",
    "# obj_df.head()"
   ]
  },
  {
   "cell_type": "code",
   "execution_count": 18,
   "metadata": {},
   "outputs": [
    {
     "data": {
      "text/plain": [
       "TRAN_AMT                   float64\n",
       "ACCT_PRE_TRAN_AVAIL_BAL    float64\n",
       "CUST_AGE                     int64\n",
       "OPEN_ACCT_CT                 int64\n",
       "WF_dvc_age                   int64\n",
       "CARR_NAME                  float64\n",
       "RGN_NAME                   float64\n",
       "STATE_PRVNC_TXT            float64\n",
       "ALERT_TRGR_CD              float64\n",
       "DVC_TYPE_TXT               float64\n",
       "AUTHC_PRIM_TYPE_CD         float64\n",
       "AUTHC_SCNDRY_STAT_TXT      float64\n",
       "CUST_STATE                 float64\n",
       "FRAUD_NONFRAUD               int64\n",
       "dtype: object"
      ]
     },
     "execution_count": 18,
     "metadata": {},
     "output_type": "execute_result"
    }
   ],
   "source": [
    "from sklearn.preprocessing import OrdinalEncoder\n",
    "\n",
    "ord_enc = OrdinalEncoder()\n",
    "dftrain[\"RGN_NAME\"] = ord_enc.fit_transform(dftrain[[\"RGN_NAME\"]])\n",
    "dftrain[\"STATE_PRVNC_TXT\"] = ord_enc.fit_transform(dftrain[[\"STATE_PRVNC_TXT\"]])\n",
    "dftrain[\"CARR_NAME\"] = ord_enc.fit_transform(dftrain[[\"CARR_NAME\"]])\n",
    "dftrain[\"ALERT_TRGR_CD\"] = ord_enc.fit_transform(dftrain[[\"ALERT_TRGR_CD\"]])\n",
    "dftrain[\"DVC_TYPE_TXT\"] = ord_enc.fit_transform(dftrain[[\"DVC_TYPE_TXT\"]])\n",
    "dftrain[\"AUTHC_PRIM_TYPE_CD\"] = ord_enc.fit_transform(dftrain[[\"AUTHC_PRIM_TYPE_CD\"]])\n",
    "dftrain[\"AUTHC_SCNDRY_STAT_TXT\"] = ord_enc.fit_transform(dftrain[[\"AUTHC_SCNDRY_STAT_TXT\"]])\n",
    "dftrain[\"CUST_STATE\"] = ord_enc.fit_transform(dftrain[[\"CUST_STATE\"]])\n",
    "dftrain.dtypes"
   ]
  },
  {
   "cell_type": "code",
   "execution_count": 19,
   "metadata": {},
   "outputs": [
    {
     "data": {
      "image/png": "[encoded data removed]",
      "text/plain": [
       "<Figure size 432x288 with 2 Axes>"
      ]
     },
     "metadata": {
      "needs_background": "light"
     },
     "output_type": "display_data"
    }
   ],
   "source": [
    "#Examine correlations between variables and response\n",
    "corr = dftrain.corr()\n",
    "ax = sns.heatmap(\n",
    "    corr, \n",
    "    vmin=-1, vmax=1, center=0,\n",
    "    cmap=sns.diverging_palette(20, 220, n=200),\n",
    "    square=True\n",
    ")\n",
    "ax.set_xticklabels(\n",
    "    ax.get_xticklabels(),\n",
    "    rotation=45,\n",
    "    horizontalalignment='right'\n",
    ");"
   ]
  },
  {
   "cell_type": "markdown",
   "metadata": {},
   "source": [
    "Testing Set"
   ]
  },
  {
   "cell_type": "code",
   "execution_count": 22,
   "metadata": {},
   "outputs": [
    {
     "data": {
      "text/html": [
       "<div>\n",
       "<style scoped>\n",
       "    .dataframe tbody tr th:only-of-type {\n",
       "        vertical-align: middle;\n",
       "    }\n",
       "\n",
       "    .dataframe tbody tr th {\n",
       "        vertical-align: top;\n",
       "    }\n",
       "\n",
       "    .dataframe thead th {\n",
       "        text-align: right;\n",
       "    }\n",
       "</style>\n",
       "<table border=\"1\" class=\"dataframe\">\n",
       "  <thead>\n",
       "    <tr style=\"text-align: right;\">\n",
       "      <th></th>\n",
       "      <th>dataset_id</th>\n",
       "      <th>TRAN_AMT</th>\n",
       "      <th>ACCT_PRE_TRAN_AVAIL_BAL</th>\n",
       "      <th>CUST_AGE</th>\n",
       "      <th>OPEN_ACCT_CT</th>\n",
       "      <th>WF_dvc_age</th>\n",
       "      <th>PWD_UPDT_TS</th>\n",
       "      <th>CARR_NAME</th>\n",
       "      <th>RGN_NAME</th>\n",
       "      <th>STATE_PRVNC_TXT</th>\n",
       "      <th>...</th>\n",
       "      <th>CUST_ZIP</th>\n",
       "      <th>CUST_STATE</th>\n",
       "      <th>PH_NUM_UPDT_TS</th>\n",
       "      <th>CUST_SINCE_DT</th>\n",
       "      <th>TRAN_TS</th>\n",
       "      <th>TRAN_DT</th>\n",
       "      <th>ACTN_CD</th>\n",
       "      <th>ACTN_INTNL_TXT</th>\n",
       "      <th>TRAN_TYPE_CD</th>\n",
       "      <th>ACTVY_DT</th>\n",
       "    </tr>\n",
       "  </thead>\n",
       "  <tbody>\n",
       "    <tr>\n",
       "      <th>0</th>\n",
       "      <td>1</td>\n",
       "      <td>54.25</td>\n",
       "      <td>0.0</td>\n",
       "      <td>23</td>\n",
       "      <td>4</td>\n",
       "      <td>634</td>\n",
       "      <td>9/18/2020 9:33:44</td>\n",
       "      <td>charter communications inc</td>\n",
       "      <td>southwest</td>\n",
       "      <td>california</td>\n",
       "      <td>...</td>\n",
       "      <td>55414</td>\n",
       "      <td>MN</td>\n",
       "      <td>7/8/2018 9:45:37</td>\n",
       "      <td>2011-02-19 00:00:00</td>\n",
       "      <td>1/8/2021 11:33:44</td>\n",
       "      <td>1/8/2021</td>\n",
       "      <td>SCHPMT</td>\n",
       "      <td>P2P_COMMIT</td>\n",
       "      <td>P2P</td>\n",
       "      <td>1/8/2021</td>\n",
       "    </tr>\n",
       "    <tr>\n",
       "      <th>1</th>\n",
       "      <td>2</td>\n",
       "      <td>110.30</td>\n",
       "      <td>0.0</td>\n",
       "      <td>56</td>\n",
       "      <td>3</td>\n",
       "      <td>1876</td>\n",
       "      <td>5/16/2021 17:2:31</td>\n",
       "      <td>comcast</td>\n",
       "      <td>mountain</td>\n",
       "      <td>colorado</td>\n",
       "      <td>...</td>\n",
       "      <td>77095</td>\n",
       "      <td>TX</td>\n",
       "      <td>NaN</td>\n",
       "      <td>2001-11-20 00:00:00</td>\n",
       "      <td>2/27/2021 7:2:31</td>\n",
       "      <td>2/27/2021</td>\n",
       "      <td>SCHPMT</td>\n",
       "      <td>P2P_COMMIT</td>\n",
       "      <td>P2P</td>\n",
       "      <td>2/27/2021</td>\n",
       "    </tr>\n",
       "    <tr>\n",
       "      <th>2</th>\n",
       "      <td>3</td>\n",
       "      <td>515.95</td>\n",
       "      <td>0.0</td>\n",
       "      <td>33</td>\n",
       "      <td>5</td>\n",
       "      <td>40</td>\n",
       "      <td>NaN</td>\n",
       "      <td>point broadband fiber holding  llc</td>\n",
       "      <td>mid atlantic</td>\n",
       "      <td>virginia</td>\n",
       "      <td>...</td>\n",
       "      <td>94102</td>\n",
       "      <td>CA</td>\n",
       "      <td>8/28/2018 1:4:7</td>\n",
       "      <td>1999-10-17 00:00:00</td>\n",
       "      <td>4/22/2021 11:25:16</td>\n",
       "      <td>4/22/2021</td>\n",
       "      <td>SCHPMT</td>\n",
       "      <td>P2P_COMMIT</td>\n",
       "      <td>P2P</td>\n",
       "      <td>4/22/2021</td>\n",
       "    </tr>\n",
       "    <tr>\n",
       "      <th>3</th>\n",
       "      <td>4</td>\n",
       "      <td>42.78</td>\n",
       "      <td>0.0</td>\n",
       "      <td>60</td>\n",
       "      <td>3</td>\n",
       "      <td>367</td>\n",
       "      <td>2/18/2021 4:5:0</td>\n",
       "      <td>t-mobile usa  inc.</td>\n",
       "      <td>southwest</td>\n",
       "      <td>california</td>\n",
       "      <td>...</td>\n",
       "      <td>93263</td>\n",
       "      <td>CA</td>\n",
       "      <td>7/3/2019 6:29:28</td>\n",
       "      <td>1998-07-03 00:00:00</td>\n",
       "      <td>6/17/2021 11:5:0</td>\n",
       "      <td>6/17/2021</td>\n",
       "      <td>SCHPMT</td>\n",
       "      <td>P2P_COMMIT</td>\n",
       "      <td>P2P</td>\n",
       "      <td>6/17/2021</td>\n",
       "    </tr>\n",
       "    <tr>\n",
       "      <th>4</th>\n",
       "      <td>5</td>\n",
       "      <td>0.01</td>\n",
       "      <td>0.0</td>\n",
       "      <td>61</td>\n",
       "      <td>12</td>\n",
       "      <td>518</td>\n",
       "      <td>2/18/2018 4:7:20</td>\n",
       "      <td>comcast cable communications  llc</td>\n",
       "      <td>southwest</td>\n",
       "      <td>california</td>\n",
       "      <td>...</td>\n",
       "      <td>93313</td>\n",
       "      <td>CA</td>\n",
       "      <td>7/8/2020 11:45:37</td>\n",
       "      <td>2002-07-30 00:00:00</td>\n",
       "      <td>5/8/2021 10:0:51</td>\n",
       "      <td>5/8/2021</td>\n",
       "      <td>SCHPMT</td>\n",
       "      <td>P2P_COMMIT</td>\n",
       "      <td>P2P</td>\n",
       "      <td>5/8/2021</td>\n",
       "    </tr>\n",
       "  </tbody>\n",
       "</table>\n",
       "<p>5 rows × 24 columns</p>\n",
       "</div>"
      ],
      "text/plain": [
       "   dataset_id  TRAN_AMT  ACCT_PRE_TRAN_AVAIL_BAL  CUST_AGE  OPEN_ACCT_CT  \\\n",
       "0           1     54.25                      0.0        23             4   \n",
       "1           2    110.30                      0.0        56             3   \n",
       "2           3    515.95                      0.0        33             5   \n",
       "3           4     42.78                      0.0        60             3   \n",
       "4           5      0.01                      0.0        61            12   \n",
       "\n",
       "   WF_dvc_age        PWD_UPDT_TS                           CARR_NAME  \\\n",
       "0         634  9/18/2020 9:33:44          charter communications inc   \n",
       "1        1876  5/16/2021 17:2:31                             comcast   \n",
       "2          40                NaN  point broadband fiber holding  llc   \n",
       "3         367    2/18/2021 4:5:0                  t-mobile usa  inc.   \n",
       "4         518   2/18/2018 4:7:20   comcast cable communications  llc   \n",
       "\n",
       "       RGN_NAME STATE_PRVNC_TXT  ... CUST_ZIP CUST_STATE     PH_NUM_UPDT_TS  \\\n",
       "0     southwest      california  ...    55414         MN   7/8/2018 9:45:37   \n",
       "1      mountain        colorado  ...    77095         TX                NaN   \n",
       "2  mid atlantic        virginia  ...    94102         CA    8/28/2018 1:4:7   \n",
       "3     southwest      california  ...    93263         CA   7/3/2019 6:29:28   \n",
       "4     southwest      california  ...    93313         CA  7/8/2020 11:45:37   \n",
       "\n",
       "         CUST_SINCE_DT             TRAN_TS    TRAN_DT ACTN_CD ACTN_INTNL_TXT  \\\n",
       "0  2011-02-19 00:00:00   1/8/2021 11:33:44   1/8/2021  SCHPMT     P2P_COMMIT   \n",
       "1  2001-11-20 00:00:00    2/27/2021 7:2:31  2/27/2021  SCHPMT     P2P_COMMIT   \n",
       "2  1999-10-17 00:00:00  4/22/2021 11:25:16  4/22/2021  SCHPMT     P2P_COMMIT   \n",
       "3  1998-07-03 00:00:00    6/17/2021 11:5:0  6/17/2021  SCHPMT     P2P_COMMIT   \n",
       "4  2002-07-30 00:00:00    5/8/2021 10:0:51   5/8/2021  SCHPMT     P2P_COMMIT   \n",
       "\n",
       "  TRAN_TYPE_CD   ACTVY_DT  \n",
       "0          P2P   1/8/2021  \n",
       "1          P2P  2/27/2021  \n",
       "2          P2P  4/22/2021  \n",
       "3          P2P  6/17/2021  \n",
       "4          P2P   5/8/2021  \n",
       "\n",
       "[5 rows x 24 columns]"
      ]
     },
     "execution_count": 22,
     "metadata": {},
     "output_type": "execute_result"
    }
   ],
   "source": [
    "dftest.head(5)"
   ]
  },
  {
   "cell_type": "markdown",
   "metadata": {},
   "source": [
    "The test set contains 24 variables and 6,000 records. "
   ]
  },
  {
   "cell_type": "code",
   "execution_count": 23,
   "metadata": {},
   "outputs": [
    {
     "data": {
      "text/html": [
       "<div>\n",
       "<style scoped>\n",
       "    .dataframe tbody tr th:only-of-type {\n",
       "        vertical-align: middle;\n",
       "    }\n",
       "\n",
       "    .dataframe tbody tr th {\n",
       "        vertical-align: top;\n",
       "    }\n",
       "\n",
       "    .dataframe thead th {\n",
       "        text-align: right;\n",
       "    }\n",
       "</style>\n",
       "<table border=\"1\" class=\"dataframe\">\n",
       "  <thead>\n",
       "    <tr style=\"text-align: right;\">\n",
       "      <th></th>\n",
       "      <th>dataset_id</th>\n",
       "      <th>TRAN_AMT</th>\n",
       "      <th>ACCT_PRE_TRAN_AVAIL_BAL</th>\n",
       "      <th>CUST_AGE</th>\n",
       "      <th>OPEN_ACCT_CT</th>\n",
       "      <th>WF_dvc_age</th>\n",
       "      <th>CUST_ZIP</th>\n",
       "    </tr>\n",
       "  </thead>\n",
       "  <tbody>\n",
       "    <tr>\n",
       "      <th>count</th>\n",
       "      <td>6000.000000</td>\n",
       "      <td>6000.000000</td>\n",
       "      <td>6000.000000</td>\n",
       "      <td>6000.000000</td>\n",
       "      <td>6000.000000</td>\n",
       "      <td>6000.000000</td>\n",
       "      <td>6000.000000</td>\n",
       "    </tr>\n",
       "    <tr>\n",
       "      <th>mean</th>\n",
       "      <td>3000.500000</td>\n",
       "      <td>266.761870</td>\n",
       "      <td>10707.551100</td>\n",
       "      <td>53.690333</td>\n",
       "      <td>6.644833</td>\n",
       "      <td>614.424833</td>\n",
       "      <td>74763.916167</td>\n",
       "    </tr>\n",
       "    <tr>\n",
       "      <th>std</th>\n",
       "      <td>1732.195139</td>\n",
       "      <td>300.251429</td>\n",
       "      <td>30657.706826</td>\n",
       "      <td>18.845750</td>\n",
       "      <td>9.974113</td>\n",
       "      <td>669.629549</td>\n",
       "      <td>24346.009155</td>\n",
       "    </tr>\n",
       "    <tr>\n",
       "      <th>min</th>\n",
       "      <td>1.000000</td>\n",
       "      <td>0.010000</td>\n",
       "      <td>0.000000</td>\n",
       "      <td>13.000000</td>\n",
       "      <td>0.000000</td>\n",
       "      <td>-88.000000</td>\n",
       "      <td>0.000000</td>\n",
       "    </tr>\n",
       "    <tr>\n",
       "      <th>25%</th>\n",
       "      <td>1500.750000</td>\n",
       "      <td>11.432500</td>\n",
       "      <td>0.000000</td>\n",
       "      <td>39.000000</td>\n",
       "      <td>3.000000</td>\n",
       "      <td>71.000000</td>\n",
       "      <td>75002.000000</td>\n",
       "    </tr>\n",
       "    <tr>\n",
       "      <th>50%</th>\n",
       "      <td>3000.500000</td>\n",
       "      <td>144.195000</td>\n",
       "      <td>2492.690000</td>\n",
       "      <td>59.000000</td>\n",
       "      <td>5.000000</td>\n",
       "      <td>373.500000</td>\n",
       "      <td>85086.000000</td>\n",
       "    </tr>\n",
       "    <tr>\n",
       "      <th>75%</th>\n",
       "      <td>4500.250000</td>\n",
       "      <td>488.910000</td>\n",
       "      <td>4883.027500</td>\n",
       "      <td>68.000000</td>\n",
       "      <td>7.000000</td>\n",
       "      <td>968.250000</td>\n",
       "      <td>92253.000000</td>\n",
       "    </tr>\n",
       "    <tr>\n",
       "      <th>max</th>\n",
       "      <td>6000.000000</td>\n",
       "      <td>2305.550000</td>\n",
       "      <td>323860.060000</td>\n",
       "      <td>105.000000</td>\n",
       "      <td>227.000000</td>\n",
       "      <td>2782.000000</td>\n",
       "      <td>99801.000000</td>\n",
       "    </tr>\n",
       "  </tbody>\n",
       "</table>\n",
       "</div>"
      ],
      "text/plain": [
       "        dataset_id     TRAN_AMT ACCT_PRE_TRAN_AVAIL_BAL     CUST_AGE  \\\n",
       "count  6000.000000  6000.000000             6000.000000  6000.000000   \n",
       "mean   3000.500000   266.761870            10707.551100    53.690333   \n",
       "std    1732.195139   300.251429            30657.706826    18.845750   \n",
       "min       1.000000     0.010000                0.000000    13.000000   \n",
       "25%    1500.750000    11.432500                0.000000    39.000000   \n",
       "50%    3000.500000   144.195000             2492.690000    59.000000   \n",
       "75%    4500.250000   488.910000             4883.027500    68.000000   \n",
       "max    6000.000000  2305.550000           323860.060000   105.000000   \n",
       "\n",
       "      OPEN_ACCT_CT   WF_dvc_age      CUST_ZIP  \n",
       "count  6000.000000  6000.000000   6000.000000  \n",
       "mean      6.644833   614.424833  74763.916167  \n",
       "std       9.974113   669.629549  24346.009155  \n",
       "min       0.000000   -88.000000      0.000000  \n",
       "25%       3.000000    71.000000  75002.000000  \n",
       "50%       5.000000   373.500000  85086.000000  \n",
       "75%       7.000000   968.250000  92253.000000  \n",
       "max     227.000000  2782.000000  99801.000000  "
      ]
     },
     "execution_count": 23,
     "metadata": {},
     "output_type": "execute_result"
    }
   ],
   "source": [
    "#Data exploration for numerical\n",
    "dftest.nunique(axis=0)\n",
    "dftest.describe().apply(lambda s: s.apply(lambda x: format(x, 'f')))"
   ]
  },
  {
   "cell_type": "code",
   "execution_count": 26,
   "metadata": {},
   "outputs": [
    {
     "data": {
      "text/plain": [
       "PH_NUM_UPDT_TS             0.506000\n",
       "PWD_UPDT_TS                0.219667\n",
       "STATE_PRVNC_TXT            0.195833\n",
       "CARR_NAME                  0.195833\n",
       "RGN_NAME                   0.195833\n",
       "DVC_TYPE_TXT               0.133833\n",
       "AUTHC_SCNDRY_STAT_TXT      0.004333\n",
       "CUST_STATE                 0.003667\n",
       "TRAN_AMT                   0.000000\n",
       "ACCT_PRE_TRAN_AVAIL_BAL    0.000000\n",
       "CUST_AGE                   0.000000\n",
       "OPEN_ACCT_CT               0.000000\n",
       "WF_dvc_age                 0.000000\n",
       "ACTVY_DT                   0.000000\n",
       "ALERT_TRGR_CD              0.000000\n",
       "TRAN_TYPE_CD               0.000000\n",
       "AUTHC_PRIM_TYPE_CD         0.000000\n",
       "CUST_ZIP                   0.000000\n",
       "CUST_SINCE_DT              0.000000\n",
       "TRAN_TS                    0.000000\n",
       "TRAN_DT                    0.000000\n",
       "ACTN_CD                    0.000000\n",
       "ACTN_INTNL_TXT             0.000000\n",
       "dataset_id                 0.000000\n",
       "dtype: float64"
      ]
     },
     "execution_count": 26,
     "metadata": {},
     "output_type": "execute_result"
    }
   ],
   "source": [
    "# Identify the columns with missing values\n",
    "dftest.isnull().sum().sort_values(ascending = False)/len(dftest)"
   ]
  },
  {
   "cell_type": "code",
   "execution_count": 27,
   "metadata": {},
   "outputs": [],
   "source": [
    "dftest.drop(['PWD_UPDT_TS','PH_NUM_UPDT_TS'],inplace=True,axis=1)\n",
    "\n",
    "dftest[\"CARR_NAME\"].fillna(\"Unknown\", inplace = True)\n",
    "dftest[\"RGN_NAME\"].fillna(\"Unknown\", inplace = True)\n",
    "dftest[\"STATE_PRVNC_TXT\"].fillna(\"Unknown\", inplace = True)\n",
    "\n",
    "dftest = dftest.dropna()"
   ]
  },
  {
   "cell_type": "code",
   "execution_count": 28,
   "metadata": {},
   "outputs": [
    {
     "name": "stdout",
     "output_type": "stream",
     "text": [
      "SCHPMT    5151\n",
      "Name: ACTN_CD, dtype: int64\n",
      "P2P_COMMIT    5151\n",
      "Name: ACTN_INTNL_TXT, dtype: int64\n",
      "P2P    5151\n",
      "Name: TRAN_TYPE_CD, dtype: int64\n"
     ]
    }
   ],
   "source": [
    "print(dftest['ACTN_CD'].value_counts())\n",
    "print(dftest['ACTN_INTNL_TXT'].value_counts())\n",
    "print(dftest['TRAN_TYPE_CD'].value_counts())"
   ]
  },
  {
   "cell_type": "markdown",
   "metadata": {},
   "source": [
    "Since the three columns above only have one constant and distinct unit, they offer nothing in predicitve capability. They will be removed."
   ]
  },
  {
   "cell_type": "code",
   "execution_count": 29,
   "metadata": {},
   "outputs": [
    {
     "name": "stderr",
     "output_type": "stream",
     "text": [
      "/Users/colebailey/opt/anaconda3/lib/python3.8/site-packages/pandas/core/frame.py:3990: SettingWithCopyWarning: \n",
      "A value is trying to be set on a copy of a slice from a DataFrame\n",
      "\n",
      "See the caveats in the documentation: https://pandas.pydata.org/pandas-docs/stable/user_guide/indexing.html#returning-a-view-versus-a-copy\n",
      "  return super().drop(\n"
     ]
    }
   ],
   "source": [
    "dftest.drop(['ACTN_CD','ACTN_INTNL_TXT','TRAN_TYPE_CD'],inplace=True,axis=1)"
   ]
  },
  {
   "cell_type": "code",
   "execution_count": 30,
   "metadata": {},
   "outputs": [
    {
     "name": "stdout",
     "output_type": "stream",
     "text": [
      "2/28/2021              74\n",
      "3/3/2021               50\n",
      "6/3/2021               44\n",
      "2/5/2021               40\n",
      "2/4/2021               38\n",
      "                       ..\n",
      "2021-07-26 00:00:00     1\n",
      "2021-08-27 00:00:00     1\n",
      "2021-05-05 00:00:00     1\n",
      "2021-11-22 00:00:00     1\n",
      "2021-11-07 00:00:00     1\n",
      "Name: TRAN_DT, Length: 276, dtype: int64\n",
      "2/28/2021              74\n",
      "3/3/2021               50\n",
      "6/3/2021               44\n",
      "2/5/2021               40\n",
      "2/4/2021               38\n",
      "                       ..\n",
      "2021-07-26 00:00:00     1\n",
      "2021-08-27 00:00:00     1\n",
      "2021-05-05 00:00:00     1\n",
      "2021-11-22 00:00:00     1\n",
      "2021-11-07 00:00:00     1\n",
      "Name: ACTVY_DT, Length: 276, dtype: int64\n"
     ]
    }
   ],
   "source": [
    "print(dftest['TRAN_DT'].value_counts())\n",
    "print(dftest['ACTVY_DT'].value_counts())\n",
    "#The columns are redundant. We can remove one.\n",
    "dftest.drop(['TRAN_DT'],inplace=True,axis=1)"
   ]
  },
  {
   "cell_type": "code",
   "execution_count": 31,
   "metadata": {},
   "outputs": [],
   "source": [
    "#Remove final columns with information that is redundant or not useful such as zipcode\n",
    "dftest.drop(['CUST_ZIP','CUST_SINCE_DT','TRAN_TS','ACTVY_DT'], inplace = True,axis=1)"
   ]
  },
  {
   "cell_type": "code",
   "execution_count": 32,
   "metadata": {},
   "outputs": [
    {
     "data": {
      "text/plain": [
       "dataset_id                   int64\n",
       "TRAN_AMT                   float64\n",
       "ACCT_PRE_TRAN_AVAIL_BAL    float64\n",
       "CUST_AGE                     int64\n",
       "OPEN_ACCT_CT                 int64\n",
       "WF_dvc_age                   int64\n",
       "CARR_NAME                   object\n",
       "RGN_NAME                    object\n",
       "STATE_PRVNC_TXT             object\n",
       "ALERT_TRGR_CD               object\n",
       "DVC_TYPE_TXT                object\n",
       "AUTHC_PRIM_TYPE_CD          object\n",
       "AUTHC_SCNDRY_STAT_TXT       object\n",
       "CUST_STATE                  object\n",
       "dtype: object"
      ]
     },
     "execution_count": 32,
     "metadata": {},
     "output_type": "execute_result"
    }
   ],
   "source": [
    "dftest.dtypes"
   ]
  },
  {
   "cell_type": "code",
   "execution_count": 33,
   "metadata": {},
   "outputs": [
    {
     "name": "stderr",
     "output_type": "stream",
     "text": [
      "<ipython-input-33-b9277a88fdfc>:2: SettingWithCopyWarning: \n",
      "A value is trying to be set on a copy of a slice from a DataFrame.\n",
      "Try using .loc[row_indexer,col_indexer] = value instead\n",
      "\n",
      "See the caveats in the documentation: https://pandas.pydata.org/pandas-docs/stable/user_guide/indexing.html#returning-a-view-versus-a-copy\n",
      "  dftest[\"RGN_NAME\"] = ord_enc.fit_transform(dftest[[\"RGN_NAME\"]])\n",
      "<ipython-input-33-b9277a88fdfc>:3: SettingWithCopyWarning: \n",
      "A value is trying to be set on a copy of a slice from a DataFrame.\n",
      "Try using .loc[row_indexer,col_indexer] = value instead\n",
      "\n",
      "See the caveats in the documentation: https://pandas.pydata.org/pandas-docs/stable/user_guide/indexing.html#returning-a-view-versus-a-copy\n",
      "  dftest[\"STATE_PRVNC_TXT\"] = ord_enc.fit_transform(dftest[[\"STATE_PRVNC_TXT\"]])\n",
      "<ipython-input-33-b9277a88fdfc>:4: SettingWithCopyWarning: \n",
      "A value is trying to be set on a copy of a slice from a DataFrame.\n",
      "Try using .loc[row_indexer,col_indexer] = value instead\n",
      "\n",
      "See the caveats in the documentation: https://pandas.pydata.org/pandas-docs/stable/user_guide/indexing.html#returning-a-view-versus-a-copy\n",
      "  dftest[\"CARR_NAME\"] = ord_enc.fit_transform(dftest[[\"CARR_NAME\"]])\n",
      "<ipython-input-33-b9277a88fdfc>:5: SettingWithCopyWarning: \n",
      "A value is trying to be set on a copy of a slice from a DataFrame.\n",
      "Try using .loc[row_indexer,col_indexer] = value instead\n",
      "\n",
      "See the caveats in the documentation: https://pandas.pydata.org/pandas-docs/stable/user_guide/indexing.html#returning-a-view-versus-a-copy\n",
      "  dftest[\"ALERT_TRGR_CD\"] = ord_enc.fit_transform(dftest[[\"ALERT_TRGR_CD\"]])\n",
      "<ipython-input-33-b9277a88fdfc>:6: SettingWithCopyWarning: \n",
      "A value is trying to be set on a copy of a slice from a DataFrame.\n",
      "Try using .loc[row_indexer,col_indexer] = value instead\n",
      "\n",
      "See the caveats in the documentation: https://pandas.pydata.org/pandas-docs/stable/user_guide/indexing.html#returning-a-view-versus-a-copy\n",
      "  dftest[\"DVC_TYPE_TXT\"] = ord_enc.fit_transform(dftest[[\"DVC_TYPE_TXT\"]])\n",
      "<ipython-input-33-b9277a88fdfc>:7: SettingWithCopyWarning: \n",
      "A value is trying to be set on a copy of a slice from a DataFrame.\n",
      "Try using .loc[row_indexer,col_indexer] = value instead\n",
      "\n",
      "See the caveats in the documentation: https://pandas.pydata.org/pandas-docs/stable/user_guide/indexing.html#returning-a-view-versus-a-copy\n",
      "  dftest[\"AUTHC_PRIM_TYPE_CD\"] = ord_enc.fit_transform(dftest[[\"AUTHC_PRIM_TYPE_CD\"]])\n",
      "<ipython-input-33-b9277a88fdfc>:8: SettingWithCopyWarning: \n",
      "A value is trying to be set on a copy of a slice from a DataFrame.\n",
      "Try using .loc[row_indexer,col_indexer] = value instead\n",
      "\n",
      "See the caveats in the documentation: https://pandas.pydata.org/pandas-docs/stable/user_guide/indexing.html#returning-a-view-versus-a-copy\n",
      "  dftest[\"AUTHC_SCNDRY_STAT_TXT\"] = ord_enc.fit_transform(dftest[[\"AUTHC_SCNDRY_STAT_TXT\"]])\n",
      "<ipython-input-33-b9277a88fdfc>:9: SettingWithCopyWarning: \n",
      "A value is trying to be set on a copy of a slice from a DataFrame.\n",
      "Try using .loc[row_indexer,col_indexer] = value instead\n",
      "\n",
      "See the caveats in the documentation: https://pandas.pydata.org/pandas-docs/stable/user_guide/indexing.html#returning-a-view-versus-a-copy\n",
      "  dftest[\"CUST_STATE\"] = ord_enc.fit_transform(dftest[[\"CUST_STATE\"]])\n"
     ]
    },
    {
     "data": {
      "text/plain": [
       "dataset_id                   int64\n",
       "TRAN_AMT                   float64\n",
       "ACCT_PRE_TRAN_AVAIL_BAL    float64\n",
       "CUST_AGE                     int64\n",
       "OPEN_ACCT_CT                 int64\n",
       "WF_dvc_age                   int64\n",
       "CARR_NAME                  float64\n",
       "RGN_NAME                   float64\n",
       "STATE_PRVNC_TXT            float64\n",
       "ALERT_TRGR_CD              float64\n",
       "DVC_TYPE_TXT               float64\n",
       "AUTHC_PRIM_TYPE_CD         float64\n",
       "AUTHC_SCNDRY_STAT_TXT      float64\n",
       "CUST_STATE                 float64\n",
       "dtype: object"
      ]
     },
     "execution_count": 33,
     "metadata": {},
     "output_type": "execute_result"
    }
   ],
   "source": [
    "ord_enc = OrdinalEncoder()\n",
    "dftest[\"RGN_NAME\"] = ord_enc.fit_transform(dftest[[\"RGN_NAME\"]])\n",
    "dftest[\"STATE_PRVNC_TXT\"] = ord_enc.fit_transform(dftest[[\"STATE_PRVNC_TXT\"]])\n",
    "dftest[\"CARR_NAME\"] = ord_enc.fit_transform(dftest[[\"CARR_NAME\"]])\n",
    "dftest[\"ALERT_TRGR_CD\"] = ord_enc.fit_transform(dftest[[\"ALERT_TRGR_CD\"]])\n",
    "dftest[\"DVC_TYPE_TXT\"] = ord_enc.fit_transform(dftest[[\"DVC_TYPE_TXT\"]])\n",
    "dftest[\"AUTHC_PRIM_TYPE_CD\"] = ord_enc.fit_transform(dftest[[\"AUTHC_PRIM_TYPE_CD\"]])\n",
    "dftest[\"AUTHC_SCNDRY_STAT_TXT\"] = ord_enc.fit_transform(dftest[[\"AUTHC_SCNDRY_STAT_TXT\"]])\n",
    "dftest[\"CUST_STATE\"] = ord_enc.fit_transform(dftest[[\"CUST_STATE\"]])\n",
    "dftest.dtypes"
   ]
  },
  {
   "cell_type": "code",
   "execution_count": 34,
   "metadata": {},
   "outputs": [
    {
     "data": {
      "image/png": "[encoded data removed]",
      "text/plain": [
       "<Figure size 432x288 with 2 Axes>"
      ]
     },
     "metadata": {
      "needs_background": "light"
     },
     "output_type": "display_data"
    }
   ],
   "source": [
    "#Examine correlations between variables and response\n",
    "corr = dftest.corr()\n",
    "ax = sns.heatmap(\n",
    "    corr, \n",
    "    vmin=-1, vmax=1, center=0,\n",
    "    cmap=sns.diverging_palette(20, 220, n=200),\n",
    "    square=True\n",
    ")\n",
    "ax.set_xticklabels(\n",
    "    ax.get_xticklabels(),\n",
    "    rotation=45,\n",
    "    horizontalalignment='right'\n",
    ");"
   ]
  },
  {
   "cell_type": "code",
   "execution_count": null,
   "metadata": {},
   "outputs": [],
   "source": []
  }
 ],
 "metadata": {
  "kernelspec": {
   "display_name": "Python 3",
   "language": "python",
   "name": "python3"
  },
  "language_info": {
   "codemirror_mode": {
    "name": "ipython",
    "version": 3
   },
   "file_extension": ".py",
   "mimetype": "text/x-python",
   "name": "python",
   "nbconvert_exporter": "python",
   "pygments_lexer": "ipython3",
   "version": "3.8.3"
  }
 },
 "nbformat": 4,
 "nbformat_minor": 4
}
