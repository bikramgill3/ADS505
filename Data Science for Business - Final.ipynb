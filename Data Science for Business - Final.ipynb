{
 "cells": [
  {
   "cell_type": "markdown",
   "metadata": {},
   "source": [
    "# Data Science for Business - Final Project\n",
    "By Cole Bailey - Bikram Gill - Christopher Richardson"
   ]
  },
  {
   "cell_type": "markdown",
   "metadata": {},
   "source": [
    "## Background"
   ]
  },
  {
   "cell_type": "markdown",
   "metadata": {},
   "source": [
    "Banks are required to report suspected vulnerable (elder and dependent adult) financial exploitation. Today, much of this activity is limited to human interaction (bankers working with customers on the phone or in person), through which bankers may pick up queues, or red flags or customers self-reporting scams or financial abuse to their financial institution. Digital payments have a degree of reported fraud and claims, with the assumption that much more unreported losses occur, especially perpetrated against older adults (60 years of age or older). \n",
    "\n",
    "As digital payments continue to expand across all demographics, research shows that older adults are showing the biggest uptick in adoption during the 2020/21 period due to the pandemic. Currently, digital payment data is not analyzed specifically under the vulnerable (elder and dependent adult) financial exploitation lens. Banks are required to report elder financial abuse but, unless a customer reports fraud and files a claim, financial abuse can go undetected and repeated fraud via digital payments can continue without the banks’ knowledge. Without detection models, a large amount of fraud is left unreported by consumers and elder and vulnerable adult populations will be at greater risk of being targeted and losing savings to fraudulent payments.\n",
    "\n",
    "Banks need better methods to help protect elder and vulnerable adults against fraud in the digital payments landscape. Predictive modeling may also be applied in some form to alert consumers and bankers in advance of a fraud attempt and potentially pre-empt certain transactions and monetary losses. As the older adult segment continues to adopt digital technology, including digital payments, banks need better ways to predict and analyze transaction data to detect high risk payment patterns or transaction attributes that signal high risk for fraud, especially for older and vulnerable adult customers, which could be targeted by scammers."
   ]
  },
  {
   "cell_type": "markdown",
   "metadata": {},
   "source": [
    "## Importation of Packages"
   ]
  },
  {
   "cell_type": "code",
   "execution_count": 1,
   "metadata": {},
   "outputs": [],
   "source": [
    "import matplotlib.pyplot as plt\n",
    "import matplotlib.pylab as pylab\n",
    "import numpy as np\n",
    "import pandas as pd\n",
    "import random\n",
    "import scikitplot as skplt\n",
    "import seaborn as sns\n",
    "import statsmodels.api as sm\n",
    "\n",
    "from scipy import stats\n",
    "from sklearn.discriminant_analysis import LinearDiscriminantAnalysis\n",
    "from sklearn.ensemble import RandomForestClassifier\n",
    "from sklearn.linear_model import LinearRegression, LogisticRegression, LogisticRegressionCV\n",
    "from sklearn.metrics import accuracy_score, balanced_accuracy_score, classification_report, confusion_matrix, f1_score, recall_score \n",
    "from sklearn.model_selection import cross_val_score, GridSearchCV, RepeatedStratifiedKFold, train_test_split\n",
    "from sklearn.naive_bayes import GaussianNB\n",
    "from sklearn.neighbors import KNeighborsClassifier\n",
    "from sklearn.preprocessing import KBinsDiscretizer, OrdinalEncoder, StandardScaler\n",
    "from sklearn.tree import DecisionTreeClassifier, DecisionTreeRegressor\n",
    "from xgboost import XGBClassifier\n",
    "\n",
    "pd.options.mode.chained_assignment = None\n",
    "%matplotlib inline"
   ]
  },
  {
   "cell_type": "code",
   "execution_count": 2,
   "metadata": {},
   "outputs": [],
   "source": [
    "# Load in the data\n",
    "\n",
    "df_train = pd.read_csv(\"data/Train_Set.csv\")\n",
    "\n",
    "#Opting to keep the test and train sets separated to keep align with competition requirements\n",
    "# EDA and preprocess steps to be duplicated on each DF"
   ]
  },
  {
   "cell_type": "markdown",
   "metadata": {},
   "source": [
    "## Explatory Data Analysis"
   ]
  },
  {
   "cell_type": "markdown",
   "metadata": {},
   "source": [
    "Training Set"
   ]
  },
  {
   "cell_type": "code",
   "execution_count": 3,
   "metadata": {},
   "outputs": [
    {
     "data": {
      "text/html": [
       "<div>\n",
       "<style scoped>\n",
       "    .dataframe tbody tr th:only-of-type {\n",
       "        vertical-align: middle;\n",
       "    }\n",
       "\n",
       "    .dataframe tbody tr th {\n",
       "        vertical-align: top;\n",
       "    }\n",
       "\n",
       "    .dataframe thead th {\n",
       "        text-align: right;\n",
       "    }\n",
       "</style>\n",
       "<table border=\"1\" class=\"dataframe\">\n",
       "  <thead>\n",
       "    <tr style=\"text-align: right;\">\n",
       "      <th></th>\n",
       "      <th>TRAN_AMT</th>\n",
       "      <th>ACCT_PRE_TRAN_AVAIL_BAL</th>\n",
       "      <th>CUST_AGE</th>\n",
       "      <th>OPEN_ACCT_CT</th>\n",
       "      <th>WF_dvc_age</th>\n",
       "      <th>PWD_UPDT_TS</th>\n",
       "      <th>CARR_NAME</th>\n",
       "      <th>RGN_NAME</th>\n",
       "      <th>STATE_PRVNC_TXT</th>\n",
       "      <th>ALERT_TRGR_CD</th>\n",
       "      <th>...</th>\n",
       "      <th>CUST_STATE</th>\n",
       "      <th>PH_NUM_UPDT_TS</th>\n",
       "      <th>CUST_SINCE_DT</th>\n",
       "      <th>TRAN_TS</th>\n",
       "      <th>TRAN_DT</th>\n",
       "      <th>ACTN_CD</th>\n",
       "      <th>ACTN_INTNL_TXT</th>\n",
       "      <th>TRAN_TYPE_CD</th>\n",
       "      <th>ACTVY_DT</th>\n",
       "      <th>FRAUD_NONFRAUD</th>\n",
       "    </tr>\n",
       "  </thead>\n",
       "  <tbody>\n",
       "    <tr>\n",
       "      <th>0</th>\n",
       "      <td>5.38</td>\n",
       "      <td>23619.91</td>\n",
       "      <td>47</td>\n",
       "      <td>4</td>\n",
       "      <td>2777</td>\n",
       "      <td>1/16/2018 11:3:58</td>\n",
       "      <td>cox communications inc.</td>\n",
       "      <td>southwest</td>\n",
       "      <td>nevada</td>\n",
       "      <td>MOBL</td>\n",
       "      <td>...</td>\n",
       "      <td>NV</td>\n",
       "      <td>2/24/2021 15:55:10</td>\n",
       "      <td>1993-01-06 00:00:00</td>\n",
       "      <td>5/3/2021 18:3:58</td>\n",
       "      <td>5/3/2021</td>\n",
       "      <td>SCHPMT</td>\n",
       "      <td>P2P_COMMIT</td>\n",
       "      <td>P2P</td>\n",
       "      <td>5/3/2021</td>\n",
       "      <td>Non-Fraud</td>\n",
       "    </tr>\n",
       "    <tr>\n",
       "      <th>1</th>\n",
       "      <td>65.19</td>\n",
       "      <td>0.00</td>\n",
       "      <td>45</td>\n",
       "      <td>5</td>\n",
       "      <td>2721</td>\n",
       "      <td>NaN</td>\n",
       "      <td>charter communications</td>\n",
       "      <td>southwest</td>\n",
       "      <td>california</td>\n",
       "      <td>MOBL</td>\n",
       "      <td>...</td>\n",
       "      <td>CA</td>\n",
       "      <td>NaN</td>\n",
       "      <td>1971-01-07 00:00:00</td>\n",
       "      <td>1/13/2021 19:19:37</td>\n",
       "      <td>1/13/2021</td>\n",
       "      <td>SCHPMT</td>\n",
       "      <td>P2P_COMMIT</td>\n",
       "      <td>P2P</td>\n",
       "      <td>1/13/2021</td>\n",
       "      <td>Non-Fraud</td>\n",
       "    </tr>\n",
       "    <tr>\n",
       "      <th>2</th>\n",
       "      <td>54.84</td>\n",
       "      <td>34570.63</td>\n",
       "      <td>36</td>\n",
       "      <td>8</td>\n",
       "      <td>1531</td>\n",
       "      <td>12/22/2021 10:42:51</td>\n",
       "      <td>utah broadband llc</td>\n",
       "      <td>mountain</td>\n",
       "      <td>utah</td>\n",
       "      <td>ONLN</td>\n",
       "      <td>...</td>\n",
       "      <td>MD</td>\n",
       "      <td>5/5/2019 1:8:39</td>\n",
       "      <td>1994-02-01 00:00:00</td>\n",
       "      <td>4/8/2021 9:42:51</td>\n",
       "      <td>4/8/2021</td>\n",
       "      <td>SCHPMT</td>\n",
       "      <td>P2P_COMMIT</td>\n",
       "      <td>P2P</td>\n",
       "      <td>4/8/2021</td>\n",
       "      <td>Fraud</td>\n",
       "    </tr>\n",
       "    <tr>\n",
       "      <th>3</th>\n",
       "      <td>0.01</td>\n",
       "      <td>0.00</td>\n",
       "      <td>62</td>\n",
       "      <td>3</td>\n",
       "      <td>835</td>\n",
       "      <td>2/8/2020 7:28:31</td>\n",
       "      <td>t-mobile usa  inc.</td>\n",
       "      <td>southwest</td>\n",
       "      <td>california</td>\n",
       "      <td>MOBL</td>\n",
       "      <td>...</td>\n",
       "      <td>NV</td>\n",
       "      <td>2/16/2019 6:45:37</td>\n",
       "      <td>2001-11-01 00:00:00</td>\n",
       "      <td>8/10/2021 15:28:31</td>\n",
       "      <td>8/10/2021</td>\n",
       "      <td>SCHPMT</td>\n",
       "      <td>P2P_COMMIT</td>\n",
       "      <td>P2P</td>\n",
       "      <td>8/10/2021</td>\n",
       "      <td>Non-Fraud</td>\n",
       "    </tr>\n",
       "    <tr>\n",
       "      <th>4</th>\n",
       "      <td>497.08</td>\n",
       "      <td>12725.18</td>\n",
       "      <td>81</td>\n",
       "      <td>2</td>\n",
       "      <td>1095</td>\n",
       "      <td>12/28/2020 12:12:44</td>\n",
       "      <td>cogent communications</td>\n",
       "      <td>south central</td>\n",
       "      <td>texas</td>\n",
       "      <td>MOBL</td>\n",
       "      <td>...</td>\n",
       "      <td>UT</td>\n",
       "      <td>5/8/2020 10:27:6</td>\n",
       "      <td>1987-02-07 00:00:00</td>\n",
       "      <td>6/27/2021 11:12:44</td>\n",
       "      <td>6/27/2021</td>\n",
       "      <td>SCHPMT</td>\n",
       "      <td>P2P_COMMIT</td>\n",
       "      <td>P2P</td>\n",
       "      <td>6/27/2021</td>\n",
       "      <td>Fraud</td>\n",
       "    </tr>\n",
       "  </tbody>\n",
       "</table>\n",
       "<p>5 rows × 24 columns</p>\n",
       "</div>"
      ],
      "text/plain": [
       "   TRAN_AMT  ACCT_PRE_TRAN_AVAIL_BAL  CUST_AGE  OPEN_ACCT_CT  WF_dvc_age  \\\n",
       "0      5.38                 23619.91        47             4        2777   \n",
       "1     65.19                     0.00        45             5        2721   \n",
       "2     54.84                 34570.63        36             8        1531   \n",
       "3      0.01                     0.00        62             3         835   \n",
       "4    497.08                 12725.18        81             2        1095   \n",
       "\n",
       "           PWD_UPDT_TS                CARR_NAME       RGN_NAME  \\\n",
       "0    1/16/2018 11:3:58  cox communications inc.      southwest   \n",
       "1                  NaN   charter communications      southwest   \n",
       "2  12/22/2021 10:42:51       utah broadband llc       mountain   \n",
       "3     2/8/2020 7:28:31       t-mobile usa  inc.      southwest   \n",
       "4  12/28/2020 12:12:44    cogent communications  south central   \n",
       "\n",
       "  STATE_PRVNC_TXT ALERT_TRGR_CD  ... CUST_STATE      PH_NUM_UPDT_TS  \\\n",
       "0          nevada          MOBL  ...         NV  2/24/2021 15:55:10   \n",
       "1      california          MOBL  ...         CA                 NaN   \n",
       "2            utah          ONLN  ...         MD     5/5/2019 1:8:39   \n",
       "3      california          MOBL  ...         NV   2/16/2019 6:45:37   \n",
       "4           texas          MOBL  ...         UT    5/8/2020 10:27:6   \n",
       "\n",
       "         CUST_SINCE_DT             TRAN_TS    TRAN_DT ACTN_CD ACTN_INTNL_TXT  \\\n",
       "0  1993-01-06 00:00:00    5/3/2021 18:3:58   5/3/2021  SCHPMT     P2P_COMMIT   \n",
       "1  1971-01-07 00:00:00  1/13/2021 19:19:37  1/13/2021  SCHPMT     P2P_COMMIT   \n",
       "2  1994-02-01 00:00:00    4/8/2021 9:42:51   4/8/2021  SCHPMT     P2P_COMMIT   \n",
       "3  2001-11-01 00:00:00  8/10/2021 15:28:31  8/10/2021  SCHPMT     P2P_COMMIT   \n",
       "4  1987-02-07 00:00:00  6/27/2021 11:12:44  6/27/2021  SCHPMT     P2P_COMMIT   \n",
       "\n",
       "  TRAN_TYPE_CD   ACTVY_DT FRAUD_NONFRAUD  \n",
       "0          P2P   5/3/2021      Non-Fraud  \n",
       "1          P2P  1/13/2021      Non-Fraud  \n",
       "2          P2P   4/8/2021          Fraud  \n",
       "3          P2P  8/10/2021      Non-Fraud  \n",
       "4          P2P  6/27/2021          Fraud  \n",
       "\n",
       "[5 rows x 24 columns]"
      ]
     },
     "execution_count": 3,
     "metadata": {},
     "output_type": "execute_result"
    }
   ],
   "source": [
    "df_train.head(5)"
   ]
  },
  {
   "cell_type": "markdown",
   "metadata": {},
   "source": [
    "The test set contains 24 variables and 6,000 records. \n",
    "The train set contains 24 variables and 14,000 records."
   ]
  },
  {
   "cell_type": "code",
   "execution_count": 4,
   "metadata": {},
   "outputs": [
    {
     "data": {
      "text/html": [
       "<div>\n",
       "<style scoped>\n",
       "    .dataframe tbody tr th:only-of-type {\n",
       "        vertical-align: middle;\n",
       "    }\n",
       "\n",
       "    .dataframe tbody tr th {\n",
       "        vertical-align: top;\n",
       "    }\n",
       "\n",
       "    .dataframe thead th {\n",
       "        text-align: right;\n",
       "    }\n",
       "</style>\n",
       "<table border=\"1\" class=\"dataframe\">\n",
       "  <thead>\n",
       "    <tr style=\"text-align: right;\">\n",
       "      <th></th>\n",
       "      <th>TRAN_AMT</th>\n",
       "      <th>ACCT_PRE_TRAN_AVAIL_BAL</th>\n",
       "      <th>CUST_AGE</th>\n",
       "      <th>OPEN_ACCT_CT</th>\n",
       "      <th>WF_dvc_age</th>\n",
       "      <th>CUST_ZIP</th>\n",
       "    </tr>\n",
       "  </thead>\n",
       "  <tbody>\n",
       "    <tr>\n",
       "      <th>count</th>\n",
       "      <td>14000.000000</td>\n",
       "      <td>14000.000000</td>\n",
       "      <td>14000.000000</td>\n",
       "      <td>14000.000000</td>\n",
       "      <td>14000.000000</td>\n",
       "      <td>14000.000000</td>\n",
       "    </tr>\n",
       "    <tr>\n",
       "      <th>mean</th>\n",
       "      <td>275.377747</td>\n",
       "      <td>10233.110609</td>\n",
       "      <td>53.937214</td>\n",
       "      <td>6.666714</td>\n",
       "      <td>611.061571</td>\n",
       "      <td>74007.681071</td>\n",
       "    </tr>\n",
       "    <tr>\n",
       "      <th>std</th>\n",
       "      <td>317.892333</td>\n",
       "      <td>29967.453812</td>\n",
       "      <td>18.829836</td>\n",
       "      <td>9.059419</td>\n",
       "      <td>668.113489</td>\n",
       "      <td>24948.053588</td>\n",
       "    </tr>\n",
       "    <tr>\n",
       "      <th>min</th>\n",
       "      <td>0.010000</td>\n",
       "      <td>0.000000</td>\n",
       "      <td>13.000000</td>\n",
       "      <td>0.000000</td>\n",
       "      <td>-117.000000</td>\n",
       "      <td>0.000000</td>\n",
       "    </tr>\n",
       "    <tr>\n",
       "      <th>25%</th>\n",
       "      <td>11.322500</td>\n",
       "      <td>0.000000</td>\n",
       "      <td>39.000000</td>\n",
       "      <td>3.000000</td>\n",
       "      <td>75.000000</td>\n",
       "      <td>63123.000000</td>\n",
       "    </tr>\n",
       "    <tr>\n",
       "      <th>50%</th>\n",
       "      <td>161.355000</td>\n",
       "      <td>2410.395000</td>\n",
       "      <td>59.000000</td>\n",
       "      <td>5.000000</td>\n",
       "      <td>365.500000</td>\n",
       "      <td>85037.000000</td>\n",
       "    </tr>\n",
       "    <tr>\n",
       "      <th>75%</th>\n",
       "      <td>488.822500</td>\n",
       "      <td>4732.695000</td>\n",
       "      <td>68.000000</td>\n",
       "      <td>7.000000</td>\n",
       "      <td>961.000000</td>\n",
       "      <td>92201.000000</td>\n",
       "    </tr>\n",
       "    <tr>\n",
       "      <th>max</th>\n",
       "      <td>2376.060000</td>\n",
       "      <td>361519.050000</td>\n",
       "      <td>105.000000</td>\n",
       "      <td>227.000000</td>\n",
       "      <td>2783.000000</td>\n",
       "      <td>99835.000000</td>\n",
       "    </tr>\n",
       "  </tbody>\n",
       "</table>\n",
       "</div>"
      ],
      "text/plain": [
       "           TRAN_AMT ACCT_PRE_TRAN_AVAIL_BAL      CUST_AGE  OPEN_ACCT_CT  \\\n",
       "count  14000.000000            14000.000000  14000.000000  14000.000000   \n",
       "mean     275.377747            10233.110609     53.937214      6.666714   \n",
       "std      317.892333            29967.453812     18.829836      9.059419   \n",
       "min        0.010000                0.000000     13.000000      0.000000   \n",
       "25%       11.322500                0.000000     39.000000      3.000000   \n",
       "50%      161.355000             2410.395000     59.000000      5.000000   \n",
       "75%      488.822500             4732.695000     68.000000      7.000000   \n",
       "max     2376.060000           361519.050000    105.000000    227.000000   \n",
       "\n",
       "         WF_dvc_age      CUST_ZIP  \n",
       "count  14000.000000  14000.000000  \n",
       "mean     611.061571  74007.681071  \n",
       "std      668.113489  24948.053588  \n",
       "min     -117.000000      0.000000  \n",
       "25%       75.000000  63123.000000  \n",
       "50%      365.500000  85037.000000  \n",
       "75%      961.000000  92201.000000  \n",
       "max     2783.000000  99835.000000  "
      ]
     },
     "execution_count": 4,
     "metadata": {},
     "output_type": "execute_result"
    }
   ],
   "source": [
    "# Data exploration for numerical\n",
    "df_train.nunique(axis=0)\n",
    "df_train.describe().apply(lambda s: s.apply(lambda x: format(x, 'f')))"
   ]
  },
  {
   "cell_type": "code",
   "execution_count": 5,
   "metadata": {},
   "outputs": [
    {
     "data": {
      "text/plain": [
       "Non-Fraud    9836\n",
       "Fraud        4164\n",
       "Name: FRAUD_NONFRAUD, dtype: int64"
      ]
     },
     "execution_count": 5,
     "metadata": {},
     "output_type": "execute_result"
    }
   ],
   "source": [
    "df_train['FRAUD_NONFRAUD'].value_counts()"
   ]
  },
  {
   "cell_type": "code",
   "execution_count": 6,
   "metadata": {},
   "outputs": [],
   "source": [
    "# Value of this column needs to be 1 (FRAUD) and 0 (NonFraud)\n",
    "dict_edu = {\"FRAUD_NONFRAUD\": {\"Fraud\":1, \"Non-Fraud\":0}}\n",
    "df_train.replace(dict_edu, inplace=True)"
   ]
  },
  {
   "cell_type": "code",
   "execution_count": 7,
   "metadata": {},
   "outputs": [
    {
     "data": {
      "image/png": "[encoded data removed]",
      "text/plain": [
       "<Figure size 720x432 with 1 Axes>"
      ]
     },
     "metadata": {
      "needs_background": "light"
     },
     "output_type": "display_data"
    }
   ],
   "source": [
    "ax = df_train['FRAUD_NONFRAUD'].value_counts().plot(kind='bar', figsize=(10,6), fontsize=13, color='green')\n",
    "ax.set_title('Fraud Counts (0 = Non-Fraud, 1 = Fraud)', size=20, pad=30)\n",
    "ax.set_ylabel('Results', fontsize=14)\n",
    "\n",
    "# Display values\n",
    "for i in ax.patches:\n",
    "    ax.text(i.get_x() + 0.19, i.get_height() + 700, str(round(i.get_height(), 2)), fontsize=15)"
   ]
  },
  {
   "cell_type": "code",
   "execution_count": 8,
   "metadata": {},
   "outputs": [
    {
     "data": {
      "text/plain": [
       "PH_NUM_UPDT_TS             0.504357\n",
       "PWD_UPDT_TS                0.223214\n",
       "CARR_NAME                  0.193500\n",
       "RGN_NAME                   0.193500\n",
       "STATE_PRVNC_TXT            0.193500\n",
       "DVC_TYPE_TXT               0.125786\n",
       "AUTHC_SCNDRY_STAT_TXT      0.005286\n",
       "CUST_STATE                 0.002571\n",
       "ACTVY_DT                   0.000000\n",
       "TRAN_TYPE_CD               0.000000\n",
       "ACTN_INTNL_TXT             0.000000\n",
       "ACTN_CD                    0.000000\n",
       "TRAN_DT                    0.000000\n",
       "TRAN_TS                    0.000000\n",
       "CUST_SINCE_DT              0.000000\n",
       "TRAN_AMT                   0.000000\n",
       "CUST_ZIP                   0.000000\n",
       "ACCT_PRE_TRAN_AVAIL_BAL    0.000000\n",
       "AUTHC_PRIM_TYPE_CD         0.000000\n",
       "ALERT_TRGR_CD              0.000000\n",
       "WF_dvc_age                 0.000000\n",
       "OPEN_ACCT_CT               0.000000\n",
       "CUST_AGE                   0.000000\n",
       "FRAUD_NONFRAUD             0.000000\n",
       "dtype: float64"
      ]
     },
     "execution_count": 8,
     "metadata": {},
     "output_type": "execute_result"
    }
   ],
   "source": [
    "# Identify the columns with missing values\n",
    "df_train.isnull().sum().sort_values(ascending=False)/len(df_train)"
   ]
  },
  {
   "cell_type": "markdown",
   "metadata": {},
   "source": [
    "There are eight variables with missing values. Six of those variables have at least 10% of the total data missing. Since 'PH_NUM_UPDT_TS' is a date and more than 50% of the data is missing, this variable will be removed as it is unreliable. 'PWD_UPDT_TS' will be removed for the same reasons although it is missing roughly 22% of rows. For 'CARR_NAME','RGN_NAME','STATE_PRVNC_TXT', these null values will be separated into a category of 'unknown'. Lastly, we will remove the rest of the rows containing nulls since the total nulls left is very low and will not obscure the data further."
   ]
  },
  {
   "cell_type": "code",
   "execution_count": 9,
   "metadata": {},
   "outputs": [
    {
     "name": "stdout",
     "output_type": "stream",
     "text": [
      "SCHPMT    12141\n",
      "Name: ACTN_CD, dtype: int64\n",
      "----------------------------------------\n",
      "P2P_COMMIT    12141\n",
      "Name: ACTN_INTNL_TXT, dtype: int64\n",
      "----------------------------------------\n",
      "P2P    12141\n",
      "Name: TRAN_TYPE_CD, dtype: int64\n"
     ]
    }
   ],
   "source": [
    "df_train.drop(['PWD_UPDT_TS','PH_NUM_UPDT_TS'], inplace=True, axis=1)\n",
    "\n",
    "df_train[\"CARR_NAME\"].fillna(\"Unknown\", inplace=True)\n",
    "df_train[\"RGN_NAME\"].fillna(\"Unknown\", inplace=True)\n",
    "df_train[\"STATE_PRVNC_TXT\"].fillna(\"Unknown\", inplace=True)\n",
    "\n",
    "df_train = df_train.dropna()\n",
    "\n",
    "print(df_train['ACTN_CD'].value_counts())\n",
    "print('--'*20)\n",
    "print(df_train['ACTN_INTNL_TXT'].value_counts())\n",
    "print('--'*20)\n",
    "print(df_train['TRAN_TYPE_CD'].value_counts())"
   ]
  },
  {
   "cell_type": "markdown",
   "metadata": {},
   "source": [
    "Since the three columns above only have one constant and distinct unit, they offer nothing in predicitve capability. They will be removed."
   ]
  },
  {
   "cell_type": "code",
   "execution_count": 10,
   "metadata": {},
   "outputs": [
    {
     "name": "stdout",
     "output_type": "stream",
     "text": [
      "2/28/2021              178\n",
      "3/3/2021               115\n",
      "3/5/2021               102\n",
      "6/30/2021               98\n",
      "3/1/2021                97\n",
      "                      ... \n",
      "2021-11-06 00:00:00      1\n",
      "2021-11-22 00:00:00      1\n",
      "2021-11-27 00:00:00      1\n",
      "2021-03-01 00:00:00      1\n",
      "2021-06-11 00:00:00      1\n",
      "Name: TRAN_DT, Length: 334, dtype: int64\n",
      "----------------------------------------\n",
      "2/28/2021              178\n",
      "3/3/2021               115\n",
      "3/5/2021               102\n",
      "6/30/2021               98\n",
      "3/1/2021                97\n",
      "                      ... \n",
      "2021-11-06 00:00:00      1\n",
      "2021-11-22 00:00:00      1\n",
      "2021-11-27 00:00:00      1\n",
      "2021-03-01 00:00:00      1\n",
      "2021-06-11 00:00:00      1\n",
      "Name: ACTVY_DT, Length: 334, dtype: int64\n"
     ]
    }
   ],
   "source": [
    "df_train.drop(['ACTN_CD','ACTN_INTNL_TXT','TRAN_TYPE_CD'], inplace=True, axis=1)\n",
    "\n",
    "print(df_train['TRAN_DT'].value_counts())\n",
    "print('--'*20)\n",
    "print(df_train['ACTVY_DT'].value_counts())\n",
    "\n",
    "#The columns are redundant. We can remove one.\n",
    "df_train.drop(['TRAN_DT'], inplace=True, axis=1)"
   ]
  },
  {
   "cell_type": "code",
   "execution_count": 11,
   "metadata": {},
   "outputs": [],
   "source": [
    "#Remove final columns with information that is redundant or not useful such as zipcode\n",
    "df_train.drop(['CUST_ZIP','CUST_SINCE_DT','TRAN_TS','ACTVY_DT'], inplace=True, axis=1)"
   ]
  },
  {
   "cell_type": "markdown",
   "metadata": {},
   "source": [
    "Now we will look at feautures withhigh cardinality. These feautures give the model a difficult time to find patterns and analyze feautures outside the training set."
   ]
  },
  {
   "cell_type": "code",
   "execution_count": 12,
   "metadata": {},
   "outputs": [
    {
     "data": {
      "text/plain": [
       "TRAN_AMT                   float64\n",
       "ACCT_PRE_TRAN_AVAIL_BAL    float64\n",
       "CUST_AGE                     int64\n",
       "OPEN_ACCT_CT                 int64\n",
       "WF_dvc_age                   int64\n",
       "CARR_NAME                   object\n",
       "RGN_NAME                    object\n",
       "STATE_PRVNC_TXT             object\n",
       "ALERT_TRGR_CD               object\n",
       "DVC_TYPE_TXT                object\n",
       "AUTHC_PRIM_TYPE_CD          object\n",
       "AUTHC_SCNDRY_STAT_TXT       object\n",
       "CUST_STATE                  object\n",
       "FRAUD_NONFRAUD               int64\n",
       "dtype: object"
      ]
     },
     "execution_count": 12,
     "metadata": {},
     "output_type": "execute_result"
    }
   ],
   "source": [
    "df_train.dtypes"
   ]
  },
  {
   "cell_type": "code",
   "execution_count": 13,
   "metadata": {},
   "outputs": [
    {
     "data": {
      "text/plain": [
       "TRAN_AMT                   float64\n",
       "ACCT_PRE_TRAN_AVAIL_BAL    float64\n",
       "CUST_AGE                     int64\n",
       "OPEN_ACCT_CT                 int64\n",
       "WF_dvc_age                   int64\n",
       "CARR_NAME                  float64\n",
       "RGN_NAME                   float64\n",
       "STATE_PRVNC_TXT            float64\n",
       "ALERT_TRGR_CD              float64\n",
       "DVC_TYPE_TXT               float64\n",
       "AUTHC_PRIM_TYPE_CD         float64\n",
       "AUTHC_SCNDRY_STAT_TXT      float64\n",
       "CUST_STATE                 float64\n",
       "FRAUD_NONFRAUD               int64\n",
       "dtype: object"
      ]
     },
     "execution_count": 13,
     "metadata": {},
     "output_type": "execute_result"
    }
   ],
   "source": [
    "ord_enc = OrdinalEncoder()\n",
    "df_train[\"RGN_NAME\"] = ord_enc.fit_transform(df_train[[\"RGN_NAME\"]])\n",
    "df_train[\"STATE_PRVNC_TXT\"] = ord_enc.fit_transform(df_train[[\"STATE_PRVNC_TXT\"]])\n",
    "df_train[\"CARR_NAME\"] = ord_enc.fit_transform(df_train[[\"CARR_NAME\"]])\n",
    "df_train[\"ALERT_TRGR_CD\"] = ord_enc.fit_transform(df_train[[\"ALERT_TRGR_CD\"]])\n",
    "df_train[\"DVC_TYPE_TXT\"] = ord_enc.fit_transform(df_train[[\"DVC_TYPE_TXT\"]])\n",
    "df_train[\"AUTHC_PRIM_TYPE_CD\"] = ord_enc.fit_transform(df_train[[\"AUTHC_PRIM_TYPE_CD\"]])\n",
    "df_train[\"AUTHC_SCNDRY_STAT_TXT\"] = ord_enc.fit_transform(df_train[[\"AUTHC_SCNDRY_STAT_TXT\"]])\n",
    "df_train[\"CUST_STATE\"] = ord_enc.fit_transform(df_train[[\"CUST_STATE\"]])\n",
    "\n",
    "df_train.dtypes"
   ]
  },
  {
   "cell_type": "code",
   "execution_count": 14,
   "metadata": {},
   "outputs": [
    {
     "data": {
      "image/png": "[encoded data removed]",
      "text/plain": [
       "<Figure size 792x648 with 2 Axes>"
      ]
     },
     "metadata": {
      "needs_background": "light"
     },
     "output_type": "display_data"
    }
   ],
   "source": [
    "#Examine correlations between variables and response\n",
    "corr = df_train.corr()\n",
    "\n",
    "mask = np.triu(np.ones_like(corr, dtype=bool))\n",
    "\n",
    "# Set up the matplotlib figure\n",
    "f, ax = plt.subplots(figsize=(11,9))\n",
    "\n",
    "# Generate a custom diverging colormap\n",
    "cmap = sns.diverging_palette(230, 20, as_cmap=True)\n",
    "\n",
    "# Draw the heatmap with the mask and correct aspect ratio\n",
    "sns.heatmap(corr, mask=mask, cmap=cmap,\n",
    "            square=True, linewidths=.5)\n",
    "plt.show()"
   ]
  },
  {
   "cell_type": "markdown",
   "metadata": {},
   "source": [
    "Finally, variables will be scaled so they can be used in the Data Modelling phase."
   ]
  },
  {
   "cell_type": "code",
   "execution_count": 15,
   "metadata": {},
   "outputs": [
    {
     "data": {
      "text/html": [
       "<div>\n",
       "<style scoped>\n",
       "    .dataframe tbody tr th:only-of-type {\n",
       "        vertical-align: middle;\n",
       "    }\n",
       "\n",
       "    .dataframe tbody tr th {\n",
       "        vertical-align: top;\n",
       "    }\n",
       "\n",
       "    .dataframe thead th {\n",
       "        text-align: right;\n",
       "    }\n",
       "</style>\n",
       "<table border=\"1\" class=\"dataframe\">\n",
       "  <thead>\n",
       "    <tr style=\"text-align: right;\">\n",
       "      <th></th>\n",
       "      <th>TRAN_AMT</th>\n",
       "      <th>ACCT_PRE_TRAN_AVAIL_BAL</th>\n",
       "      <th>CUST_AGE</th>\n",
       "      <th>OPEN_ACCT_CT</th>\n",
       "      <th>WF_dvc_age</th>\n",
       "      <th>CARR_NAME</th>\n",
       "      <th>RGN_NAME</th>\n",
       "      <th>STATE_PRVNC_TXT</th>\n",
       "      <th>ALERT_TRGR_CD</th>\n",
       "      <th>DVC_TYPE_TXT</th>\n",
       "      <th>AUTHC_PRIM_TYPE_CD</th>\n",
       "      <th>AUTHC_SCNDRY_STAT_TXT</th>\n",
       "      <th>CUST_STATE</th>\n",
       "      <th>FRAUD_NONFRAUD</th>\n",
       "    </tr>\n",
       "  </thead>\n",
       "  <tbody>\n",
       "    <tr>\n",
       "      <th>2</th>\n",
       "      <td>54.84</td>\n",
       "      <td>34570.63</td>\n",
       "      <td>36</td>\n",
       "      <td>8</td>\n",
       "      <td>1531</td>\n",
       "      <td>480.0</td>\n",
       "      <td>7.0</td>\n",
       "      <td>111.0</td>\n",
       "      <td>1.0</td>\n",
       "      <td>0.0</td>\n",
       "      <td>4.0</td>\n",
       "      <td>0.0</td>\n",
       "      <td>20.0</td>\n",
       "      <td>1</td>\n",
       "    </tr>\n",
       "    <tr>\n",
       "      <th>3</th>\n",
       "      <td>0.01</td>\n",
       "      <td>0.00</td>\n",
       "      <td>62</td>\n",
       "      <td>3</td>\n",
       "      <td>835</td>\n",
       "      <td>424.0</td>\n",
       "      <td>16.0</td>\n",
       "      <td>14.0</td>\n",
       "      <td>0.0</td>\n",
       "      <td>1.0</td>\n",
       "      <td>4.0</td>\n",
       "      <td>0.0</td>\n",
       "      <td>32.0</td>\n",
       "      <td>0</td>\n",
       "    </tr>\n",
       "    <tr>\n",
       "      <th>4</th>\n",
       "      <td>497.08</td>\n",
       "      <td>12725.18</td>\n",
       "      <td>81</td>\n",
       "      <td>2</td>\n",
       "      <td>1095</td>\n",
       "      <td>89.0</td>\n",
       "      <td>13.0</td>\n",
       "      <td>108.0</td>\n",
       "      <td>0.0</td>\n",
       "      <td>1.0</td>\n",
       "      <td>4.0</td>\n",
       "      <td>2.0</td>\n",
       "      <td>42.0</td>\n",
       "      <td>1</td>\n",
       "    </tr>\n",
       "    <tr>\n",
       "      <th>5</th>\n",
       "      <td>488.55</td>\n",
       "      <td>2851.44</td>\n",
       "      <td>45</td>\n",
       "      <td>8</td>\n",
       "      <td>1</td>\n",
       "      <td>462.0</td>\n",
       "      <td>16.0</td>\n",
       "      <td>14.0</td>\n",
       "      <td>1.0</td>\n",
       "      <td>1.0</td>\n",
       "      <td>3.0</td>\n",
       "      <td>0.0</td>\n",
       "      <td>5.0</td>\n",
       "      <td>1</td>\n",
       "    </tr>\n",
       "    <tr>\n",
       "      <th>7</th>\n",
       "      <td>468.40</td>\n",
       "      <td>0.00</td>\n",
       "      <td>56</td>\n",
       "      <td>6</td>\n",
       "      <td>47</td>\n",
       "      <td>424.0</td>\n",
       "      <td>16.0</td>\n",
       "      <td>14.0</td>\n",
       "      <td>1.0</td>\n",
       "      <td>1.0</td>\n",
       "      <td>4.0</td>\n",
       "      <td>0.0</td>\n",
       "      <td>4.0</td>\n",
       "      <td>0</td>\n",
       "    </tr>\n",
       "  </tbody>\n",
       "</table>\n",
       "</div>"
      ],
      "text/plain": [
       "   TRAN_AMT  ACCT_PRE_TRAN_AVAIL_BAL  CUST_AGE  OPEN_ACCT_CT  WF_dvc_age  \\\n",
       "2     54.84                 34570.63        36             8        1531   \n",
       "3      0.01                     0.00        62             3         835   \n",
       "4    497.08                 12725.18        81             2        1095   \n",
       "5    488.55                  2851.44        45             8           1   \n",
       "7    468.40                     0.00        56             6          47   \n",
       "\n",
       "   CARR_NAME  RGN_NAME  STATE_PRVNC_TXT  ALERT_TRGR_CD  DVC_TYPE_TXT  \\\n",
       "2      480.0       7.0            111.0            1.0           0.0   \n",
       "3      424.0      16.0             14.0            0.0           1.0   \n",
       "4       89.0      13.0            108.0            0.0           1.0   \n",
       "5      462.0      16.0             14.0            1.0           1.0   \n",
       "7      424.0      16.0             14.0            1.0           1.0   \n",
       "\n",
       "   AUTHC_PRIM_TYPE_CD  AUTHC_SCNDRY_STAT_TXT  CUST_STATE  FRAUD_NONFRAUD  \n",
       "2                 4.0                    0.0        20.0               1  \n",
       "3                 4.0                    0.0        32.0               0  \n",
       "4                 4.0                    2.0        42.0               1  \n",
       "5                 3.0                    0.0         5.0               1  \n",
       "7                 4.0                    0.0         4.0               0  "
      ]
     },
     "execution_count": 15,
     "metadata": {},
     "output_type": "execute_result"
    }
   ],
   "source": [
    "df_train.head()"
   ]
  },
  {
   "cell_type": "markdown",
   "metadata": {},
   "source": [
    "## Data Scaling & Train/Test Split"
   ]
  },
  {
   "cell_type": "code",
   "execution_count": 16,
   "metadata": {},
   "outputs": [],
   "source": [
    "predictors = ['ACCT_PRE_TRAN_AVAIL_BAL',\n",
    "              'AUTHC_PRIM_TYPE_CD',\n",
    "              'AUTHC_SCNDRY_STAT_TXT',\n",
    "              'CARR_NAME',\n",
    "              'CUST_AGE',\n",
    "              'CUST_STATE',\n",
    "              'OPEN_ACCT_CT',\n",
    "              'RGN_NAME',\n",
    "              'STATE_PRVNC_TXT',\n",
    "              'TRAN_AMT',\n",
    "              'WF_dvc_age']\n",
    "\n",
    "# Create train, valid split\n",
    "train, valid = train_test_split(df_train,\n",
    "                                test_size=0.25,\n",
    "                                random_state=1,\n",
    "                                stratify=df_train['FRAUD_NONFRAUD'])\n",
    "\n",
    "# scale all non-binary variables in training set\n",
    "scaler = StandardScaler()\n",
    "\n",
    "# fit on training df\n",
    "scaler.fit(train[predictors])\n",
    "\n",
    "# transform train & valid/test DFs\n",
    "# write over existing columns w/ scaled versions\n",
    "train[predictors] = scaler.transform(train[predictors])\n",
    "valid[predictors] = scaler.transform(valid[predictors])\n",
    "\n",
    "train_X = train.drop(columns='FRAUD_NONFRAUD')\n",
    "train_y = train['FRAUD_NONFRAUD']\n",
    "\n",
    "valid_X = valid.drop(columns='FRAUD_NONFRAUD')\n",
    "valid_y = valid['FRAUD_NONFRAUD']"
   ]
  },
  {
   "cell_type": "markdown",
   "metadata": {},
   "source": [
    "## Data Modelling"
   ]
  },
  {
   "cell_type": "markdown",
   "metadata": {},
   "source": [
    "A series of models will be used to create the best chance of classifying transactions as FRAUD or NONFRAUD. \n",
    "\n",
    "The first model being used, logistic regression, will be used to build a predictor profile and also incorporate techniques to find the best set of variables overall. \n",
    "\n",
    "This knowledge will inform some of the other models being tested.\n",
    "\n",
    "Overall, the following models will be used in this study:\n",
    "\n",
    "- Model 1: Logistic Regression\n",
    "\n",
    "- Model 2: XGBoost\n",
    "\n",
    "- Model 3: Linear Discriminant Analysis\n",
    "\n",
    "- Model 4: k-Nearest Neighbors"
   ]
  },
  {
   "cell_type": "markdown",
   "metadata": {},
   "source": [
    "------\n",
    "### Model 1: Logistic Regression\n",
    "------\n"
   ]
  },
  {
   "cell_type": "markdown",
   "metadata": {},
   "source": [
    "Logistic regression is being chosen due to its ability to convert regression analysis into a probability and classification prediction.\n",
    "\n",
    "This serves two crucial benefits; (1) it can be used as one model to compare and benchmark against, but more importantly (2) it allows for analysis of feature importance.\n",
    "\n",
    "By creating a predictor profile, knowledge can be gathered about how each feature impacts the model, which will inform future steps in all models (e.g. feature selection). \n",
    "\n",
    "The code below shows this initial feature importance analysis, used to create the final logistic regression model."
   ]
  },
  {
   "cell_type": "code",
   "execution_count": 17,
   "metadata": {},
   "outputs": [
    {
     "data": {
      "image/png": "[encoded data removed]",
      "text/plain": [
       "<Figure size 432x288 with 1 Axes>"
      ]
     },
     "metadata": {
      "needs_background": "light"
     },
     "output_type": "display_data"
    }
   ],
   "source": [
    "# Create base log_reg model\n",
    "\n",
    "log_reg = LogisticRegression(random_state=1, penalty='l2')\n",
    "\n",
    "# Fit model\n",
    "\n",
    "log_reg.fit(train_X, train_y)\n",
    "\n",
    "# Get feature importance\n",
    "importance = log_reg.coef_[0]\n",
    "features = ['ACCT_PRE_TRAN_AVAIL_BAL',\n",
    "            'ALERT_TRGR_CD',\n",
    "            'AUTHC_PRIM_TYPE_CD',\n",
    "            'AUTHC_SCNDRY_STAT_TXT',\n",
    "            'CARR_NAME',\n",
    "            'CUST_AGE',\n",
    "            'CUST_STATE',\n",
    "            'DVC_TYPE_TXT',\n",
    "            'OPEN_ACCT_CT',\n",
    "            'RGN_NAME',\n",
    "            'STATE_PRVNC_TXT',\n",
    "            'TRAN_AMT',\n",
    "            'WF_dvc_age']\n",
    "\n",
    "# Plot feature importance\n",
    "fig, ax = plt.subplots()\n",
    "p1 = ax.bar([x for x in range(len(importance))], importance, label='Men')\n",
    "ax.set_ylabel('Feature Profile')\n",
    "ax.set_title('Logistic Regression - Predictor Profile', fontweight='bold')\n",
    "plt.xticks([x for x in range(len(importance))], features, rotation='vertical')\n",
    "plt.show()"
   ]
  },
  {
   "cell_type": "markdown",
   "metadata": {},
   "source": [
    "Based on feature importance metrics, the features in the next code box are ones that will assist with FRAUD_NONFRAUD = 1 predictions. These are features that had a positive co-efficient. \n",
    "\n",
    "Now the logistic regression model will be tuned using k-fold cross-validation and gridsearch, to maximize the f1 score on predictions for the validation set. "
   ]
  },
  {
   "cell_type": "code",
   "execution_count": 18,
   "metadata": {},
   "outputs": [],
   "source": [
    "########### Logistic Regression (with k-Fold CV, Class Weights and Hyperparameter Tuning) ###########\n",
    "\n",
    "logreg_features = ['ACCT_PRE_TRAN_AVAIL_BAL',\n",
    "                   'AUTHC_PRIM_TYPE_CD',\n",
    "                   'AUTHC_SCNDRY_STAT_TXT',\n",
    "                   'CUST_AGE',\n",
    "                   'DVC_TYPE_TXT',\n",
    "                   'OPEN_ACCT_CT',\n",
    "                   'STATE_PRVNC_TXT',\n",
    "                   'TRAN_AMT',\n",
    "                   'WF_dvc_age']\n",
    "\n",
    "# Create copies of train and test code for log_reg\n",
    "\n",
    "train_X_log_reg = train_X[logreg_features].copy()\n",
    "train_y_log_reg = train_y.copy()\n",
    "\n",
    "valid_X_log_reg = valid_X[logreg_features].copy()\n",
    "valid_y_log_reg = valid_y.copy()"
   ]
  },
  {
   "cell_type": "markdown",
   "metadata": {},
   "source": [
    "Now that the best features have been chosen, the model can be tuned further to find the best hyperparameters according to the context.\n",
    "\n",
    "In this case, weights is a key hyperparameter that will be tuned via gridsearch, as Class 1 (Fraud) is the primary class of interest in this Fraud-Non-Fraud problem. \n",
    "\n",
    "The other key metric being tuned is C - the inverse of regularization strength. This will work hand-in-hand with the l2 penalty and repeated stratified k-fold cross-validation to ensure a good balance between trusting the co-efficients of the model (C), ensuring co-efficients do not capture noise through extreme values (l2 penalty) and avoiding general possibilities of overfitting (k-fold cv). "
   ]
  },
  {
   "cell_type": "code",
   "execution_count": 19,
   "metadata": {},
   "outputs": [
    {
     "name": "stdout",
     "output_type": "stream",
     "text": [
      "Best score: 0.6382434610083155 with param: {'C': 0.5, 'class_weight': {0: 1.0, 1: 10}, 'fit_intercept': False}\n"
     ]
    }
   ],
   "source": [
    "########### Logistic Regression (with k-Fold CV, Class Weights and Hyperparameter Tuning) ###########\n",
    "\n",
    "# Gridsearch on hyperparameters (class weight, penalty and regularization) to find optimal values\n",
    "# Stratified cross-validation will be used in gridsearch to retain Class 1 records in each split\n",
    "# Performance will be scored on f1, to balance number of positive predictions made with sensitivity. \n",
    "\n",
    "\n",
    "cv = RepeatedStratifiedKFold(n_splits=5, n_repeats=3, random_state=1)\n",
    "\n",
    "w = [{0:0.01,1:1.0}, {0:0.01,1:10}, {0:0.01,1:100}, \n",
    "     {0:0.001,1:1.0}, {0:0.005,1:1.0}, {0:1.0,1:1.0}, \n",
    "     {0:1.0,1:0.1}, {0:1.0,1:10}, {0:1.0,1:99}, {0:1.0,1:100}]\n",
    "\n",
    "crange = np.arange(0.5, 20.0, 0.5)\n",
    "hyperparam_grid = {\"class_weight\": w\n",
    "                   ,\"C\": crange\n",
    "                   ,\"fit_intercept\": [True, False]  }\n",
    "\n",
    "log_reg = LogisticRegression(random_state=1, penalty='l2')\n",
    "\n",
    "grid = GridSearchCV(log_reg,hyperparam_grid,scoring=\"f1\", cv=cv, n_jobs=-1, refit=True)\n",
    "\n",
    "grid.fit(train_X_log_reg,train_y_log_reg)\n",
    "\n",
    "# Best model score and best model parameters\n",
    "print(f'Best score: {grid.best_score_} with param: {grid.best_params_}')"
   ]
  },
  {
   "cell_type": "markdown",
   "metadata": {},
   "source": [
    "The best model hyperparameters have been obtained and now the final model will be fit accordingly. "
   ]
  },
  {
   "cell_type": "code",
   "execution_count": 20,
   "metadata": {},
   "outputs": [
    {
     "data": {
      "text/plain": [
       "LogisticRegression(C=0.5, class_weight={0: 1.0, 1: 10}, fit_intercept=False,\n",
       "                   random_state=1)"
      ]
     },
     "execution_count": 20,
     "metadata": {},
     "output_type": "execute_result"
    }
   ],
   "source": [
    "########### Logistic Regression (with k-Fold CV, Class Weights and Hyperparameter Tuning) ###########\n",
    "\n",
    "# Fit the model with the best score\n",
    "\n",
    "log_reg = LogisticRegression(random_state=1,\n",
    "                             C=0.5,\n",
    "                             class_weight={0: 1.0, 1: 10},\n",
    "                             fit_intercept=False,\n",
    "                             penalty='l2')\n",
    "\n",
    "log_reg.fit(train_X_log_reg,train_y_log_reg)"
   ]
  },
  {
   "cell_type": "markdown",
   "metadata": {},
   "source": [
    "------\n",
    "### Model 2: XGBoost\n",
    "------\n"
   ]
  },
  {
   "cell_type": "markdown",
   "metadata": {},
   "source": [
    "Features will be chosen based on the findings from logistic regression (feature importance)."
   ]
  },
  {
   "cell_type": "code",
   "execution_count": 23,
   "metadata": {},
   "outputs": [],
   "source": [
    "########### XGBoost (with k-Fold CV and Hyperparameter Tuning) ###########\n",
    "\n",
    "xgboost_features = ['ACCT_PRE_TRAN_AVAIL_BAL',\n",
    "                   'AUTHC_PRIM_TYPE_CD',\n",
    "                   'AUTHC_SCNDRY_STAT_TXT',\n",
    "                   'CUST_AGE',\n",
    "                   'DVC_TYPE_TXT',\n",
    "                   'OPEN_ACCT_CT',\n",
    "                   'STATE_PRVNC_TXT',\n",
    "                   'TRAN_AMT',\n",
    "                   'WF_dvc_age']\n",
    "\n",
    "# Create copies of train and test code for log_reg\n",
    "train_X_xgboost = train_X[xgboost_features].copy()\n",
    "train_y_xgboost = train_y.copy()\n",
    "\n",
    "valid_X_xgboost = valid_X[xgboost_features].copy()\n",
    "valid_y_xgboost = valid_y.copy()"
   ]
  },
  {
   "cell_type": "markdown",
   "metadata": {},
   "source": [
    "As features for this model were already obtained through analysis in logistic regression, the XGBoost model will be tuned for its own set of hyperparameters.\n",
    "\n",
    "It is important to note that XGBoost will focus on creating a strong model by starting with a weak learner and strengthening it based on misclassified records.\n",
    "\n",
    "In the context of this problem, misclassified records will likely be from Class 1 as it is the minority class. As such, this model should be quite good at learning about Class 1 and helpful in the goal of predicting Fraud.\n",
    "\n",
    "The key thing to be aware of with XGBoost is to avoid overfitting, as it will constantly seek to rectify misclassifications, possibly at the cost of learning other important information. \n",
    "\n",
    "The key parameters being tuned are max_depth, deliberately kept low to avoid overfitting, the booster type, and the learning rate. \n",
    "\n",
    "The learning rate will work to curb the model's tendency to overfit and overcorrect its misclassifications at each iteration, whilst max_depth ensures the model's rules cannot be too specific for any single record. "
   ]
  },
  {
   "cell_type": "code",
   "execution_count": 25,
   "metadata": {},
   "outputs": [],
   "source": [
    "# ########### XGBoost (with k-Fold CV and Hyperparameter Tuning) ###########\n",
    "\n",
    "# Gridsearch will test weights hyperparameter with k-fold cv to find the best combination\n",
    "# Weights parameter will add weighting for positive class\n",
    "\n",
    "cv = RepeatedStratifiedKFold(n_splits=5, n_repeats=3, random_state=1)\n",
    "\n",
    "param_grid = {\n",
    "    'max_depth': [5, 6, 7, 8], \n",
    "    'booster': ['gbtree','dart'],\n",
    "    'learning_rate': [0.0001, 0.001, 0.01, 0.1]\n",
    "}\n",
    "\n",
    "xgboost = XGBClassifier(random_state=1,use_label_encoder=False, eval_metric='logloss')\n",
    "\n",
    "grid3 = GridSearchCV(xgboost,param_grid,scoring=\"f1\", cv=cv, n_jobs=-1, refit=True)\n",
    "\n",
    "grid3.fit(train_X_xgboost,train_y_xgboost)\n",
    "\n",
    "\n",
    "# Best model score and best model parameters\n",
    "print(f'Best score: {grid3.best_score_} with param: {grid3.best_params_}')"
   ]
  },
  {
   "cell_type": "code",
   "execution_count": 26,
   "metadata": {},
   "outputs": [],
   "source": [
    "########### XGBoost (with k-Fold CV and Hyperparameter Tuning) ###########\n",
    "\n",
    "# Fit the model with the best score\n",
    "\n",
    "xgboost = XGBClassifier(random_state=1,\n",
    "                        use_label_encoder=False,\n",
    "                        eval_metric='logloss',\n",
    "                        booster='gbtree',\n",
    "                        learning_rate=0.1,\n",
    "                        max_depth=5) \n",
    "\n",
    "xg_boost = xgboost.fit(train_X_xgboost,train_y_xgboost)"
   ]
  },
  {
   "cell_type": "markdown",
   "metadata": {
    "heading_collapsed": "true",
    "tags": []
   },
   "source": [
    "------\n",
    "### Model 3: Linear Discriminant Analysis\n",
    "------\n"
   ]
  },
  {
   "cell_type": "markdown",
   "metadata": {
    "tags": []
   },
   "source": [
    "#### LDA Base"
   ]
  },
  {
   "cell_type": "code",
   "execution_count": 27,
   "metadata": {},
   "outputs": [
    {
     "name": "stdout",
     "output_type": "stream",
     "text": [
      "[[2019  213]\n",
      " [ 313  491]]\n",
      "              precision    recall  f1-score   support\n",
      "\n",
      "           0       0.87      0.90      0.88      2232\n",
      "           1       0.70      0.61      0.65       804\n",
      "\n",
      "    accuracy                           0.83      3036\n",
      "   macro avg       0.78      0.76      0.77      3036\n",
      "weighted avg       0.82      0.83      0.82      3036\n",
      "\n"
     ]
    }
   ],
   "source": [
    "# Create base log_reg model\n",
    "\n",
    "LDA_base = LinearDiscriminantAnalysis()\n",
    "\n",
    "# Fit model\n",
    "\n",
    "LDA_base.fit(X=train_X, y=train_y)\n",
    "\n",
    "lda_base_preds = LDA_base.predict(valid_X)\n",
    "\n",
    "print(confusion_matrix(valid_y, lda_base_preds))\n",
    "print(classification_report(valid_y, lda_base_preds))"
   ]
  },
  {
   "cell_type": "markdown",
   "metadata": {},
   "source": [
    "--------\n",
    "#### LDA w/ Logistic Regression Selected Features"
   ]
  },
  {
   "cell_type": "code",
   "execution_count": 28,
   "metadata": {},
   "outputs": [
    {
     "name": "stdout",
     "output_type": "stream",
     "text": [
      "[[2098  134]\n",
      " [ 526  278]]\n",
      "              precision    recall  f1-score   support\n",
      "\n",
      "           0       0.80      0.94      0.86      2232\n",
      "           1       0.67      0.35      0.46       804\n",
      "\n",
      "    accuracy                           0.78      3036\n",
      "   macro avg       0.74      0.64      0.66      3036\n",
      "weighted avg       0.77      0.78      0.76      3036\n",
      "\n"
     ]
    }
   ],
   "source": [
    "# logistic regression selected features\n",
    "logistic_features =  ['ACCT_PRE_TRAN_AVAIL_BAL',\n",
    "                   'AUTHC_PRIM_TYPE_CD',\n",
    "                   'AUTHC_SCNDRY_STAT_TXT',\n",
    "                   'CUST_AGE',\n",
    "                   'DVC_TYPE_TXT',\n",
    "                   'OPEN_ACCT_CT',\n",
    "                   'STATE_PRVNC_TXT',\n",
    "                   'TRAN_AMT',\n",
    "                   'WF_dvc_age']\n",
    "\n",
    "# Create base log_reg model\n",
    "log_features_LDA = LinearDiscriminantAnalysis()\n",
    "\n",
    "# Fit model\n",
    "log_features_LDA.fit(X=train_X[logistic_features], y=train_y)\n",
    "\n",
    "log_feature_lda_preds = log_features_LDA.predict(valid_X[logistic_features])\n",
    "\n",
    "print(confusion_matrix(valid_y, log_feature_lda_preds))\n",
    "print(classification_report(valid_y, log_feature_lda_preds))"
   ]
  },
  {
   "cell_type": "markdown",
   "metadata": {},
   "source": [
    "---------\n",
    "#### LDA Feature Selection by Coeff cutoff"
   ]
  },
  {
   "cell_type": "code",
   "execution_count": 29,
   "metadata": {},
   "outputs": [
    {
     "data": {
      "text/html": [
       "<div>\n",
       "<style scoped>\n",
       "    .dataframe tbody tr th:only-of-type {\n",
       "        vertical-align: middle;\n",
       "    }\n",
       "\n",
       "    .dataframe tbody tr th {\n",
       "        vertical-align: top;\n",
       "    }\n",
       "\n",
       "    .dataframe thead th {\n",
       "        text-align: right;\n",
       "    }\n",
       "</style>\n",
       "<table border=\"1\" class=\"dataframe\">\n",
       "  <thead>\n",
       "    <tr style=\"text-align: right;\">\n",
       "      <th></th>\n",
       "      <th>Feature</th>\n",
       "      <th>Coeffs</th>\n",
       "      <th>Abs_Coeffs</th>\n",
       "    </tr>\n",
       "  </thead>\n",
       "  <tbody>\n",
       "    <tr>\n",
       "      <th>6</th>\n",
       "      <td>RGN_NAME</td>\n",
       "      <td>-1.535455</td>\n",
       "      <td>1.535455</td>\n",
       "    </tr>\n",
       "    <tr>\n",
       "      <th>0</th>\n",
       "      <td>Intercept</td>\n",
       "      <td>-1.257394</td>\n",
       "      <td>1.257394</td>\n",
       "    </tr>\n",
       "    <tr>\n",
       "      <th>9</th>\n",
       "      <td>DVC_TYPE_TXT</td>\n",
       "      <td>-0.934280</td>\n",
       "      <td>0.934280</td>\n",
       "    </tr>\n",
       "    <tr>\n",
       "      <th>0</th>\n",
       "      <td>TRAN_AMT</td>\n",
       "      <td>0.822012</td>\n",
       "      <td>0.822012</td>\n",
       "    </tr>\n",
       "    <tr>\n",
       "      <th>8</th>\n",
       "      <td>ALERT_TRGR_CD</td>\n",
       "      <td>0.642319</td>\n",
       "      <td>0.642319</td>\n",
       "    </tr>\n",
       "    <tr>\n",
       "      <th>4</th>\n",
       "      <td>WF_dvc_age</td>\n",
       "      <td>-0.230617</td>\n",
       "      <td>0.230617</td>\n",
       "    </tr>\n",
       "    <tr>\n",
       "      <th>11</th>\n",
       "      <td>AUTHC_SCNDRY_STAT_TXT</td>\n",
       "      <td>0.203207</td>\n",
       "      <td>0.203207</td>\n",
       "    </tr>\n",
       "    <tr>\n",
       "      <th>10</th>\n",
       "      <td>AUTHC_PRIM_TYPE_CD</td>\n",
       "      <td>0.197610</td>\n",
       "      <td>0.197610</td>\n",
       "    </tr>\n",
       "    <tr>\n",
       "      <th>3</th>\n",
       "      <td>OPEN_ACCT_CT</td>\n",
       "      <td>-0.164278</td>\n",
       "      <td>0.164278</td>\n",
       "    </tr>\n",
       "    <tr>\n",
       "      <th>5</th>\n",
       "      <td>CARR_NAME</td>\n",
       "      <td>0.138268</td>\n",
       "      <td>0.138268</td>\n",
       "    </tr>\n",
       "    <tr>\n",
       "      <th>2</th>\n",
       "      <td>CUST_AGE</td>\n",
       "      <td>0.104143</td>\n",
       "      <td>0.104143</td>\n",
       "    </tr>\n",
       "    <tr>\n",
       "      <th>12</th>\n",
       "      <td>CUST_STATE</td>\n",
       "      <td>0.091822</td>\n",
       "      <td>0.091822</td>\n",
       "    </tr>\n",
       "    <tr>\n",
       "      <th>7</th>\n",
       "      <td>STATE_PRVNC_TXT</td>\n",
       "      <td>0.077061</td>\n",
       "      <td>0.077061</td>\n",
       "    </tr>\n",
       "    <tr>\n",
       "      <th>1</th>\n",
       "      <td>ACCT_PRE_TRAN_AVAIL_BAL</td>\n",
       "      <td>-0.052952</td>\n",
       "      <td>0.052952</td>\n",
       "    </tr>\n",
       "  </tbody>\n",
       "</table>\n",
       "</div>"
      ],
      "text/plain": [
       "                    Feature    Coeffs  Abs_Coeffs\n",
       "6                  RGN_NAME -1.535455    1.535455\n",
       "0                 Intercept -1.257394    1.257394\n",
       "9              DVC_TYPE_TXT -0.934280    0.934280\n",
       "0                  TRAN_AMT  0.822012    0.822012\n",
       "8             ALERT_TRGR_CD  0.642319    0.642319\n",
       "4                WF_dvc_age -0.230617    0.230617\n",
       "11    AUTHC_SCNDRY_STAT_TXT  0.203207    0.203207\n",
       "10       AUTHC_PRIM_TYPE_CD  0.197610    0.197610\n",
       "3              OPEN_ACCT_CT -0.164278    0.164278\n",
       "5                 CARR_NAME  0.138268    0.138268\n",
       "2                  CUST_AGE  0.104143    0.104143\n",
       "12               CUST_STATE  0.091822    0.091822\n",
       "7           STATE_PRVNC_TXT  0.077061    0.077061\n",
       "1   ACCT_PRE_TRAN_AVAIL_BAL -0.052952    0.052952"
      ]
     },
     "execution_count": 29,
     "metadata": {},
     "output_type": "execute_result"
    }
   ],
   "source": [
    "# let's remove certain low coefficient features and compare it to our model with all features\n",
    "lda_base_coef_df = pd.DataFrame.from_dict({'Feature': list(train_X.columns),\n",
    "                                           'Coeffs': LDA_base.coef_.tolist()[0]})\n",
    "\n",
    "# add in intercept point into above dataframe\n",
    "intercept_df = pd.DataFrame.from_dict({'Feature': ['Intercept'],\n",
    "                                       'Coeffs': LDA_base.intercept_})\n",
    "# add in intercept\n",
    "lda_base_coef_df = lda_base_coef_df.append(intercept_df)\n",
    "\n",
    "lda_base_coef_df['Abs_Coeffs'] = abs(lda_base_coef_df['Coeffs'])\n",
    "\n",
    "lda_base_coef_df.sort_values(by='Abs_Coeffs', ascending=False)"
   ]
  },
  {
   "cell_type": "code",
   "execution_count": 30,
   "metadata": {},
   "outputs": [
    {
     "name": "stdout",
     "output_type": "stream",
     "text": [
      "Total feature count is 10 out of 13.\n"
     ]
    },
    {
     "data": {
      "text/plain": [
       "['TRAN_AMT',\n",
       " 'CUST_AGE',\n",
       " 'OPEN_ACCT_CT',\n",
       " 'WF_dvc_age',\n",
       " 'CARR_NAME',\n",
       " 'RGN_NAME',\n",
       " 'ALERT_TRGR_CD',\n",
       " 'DVC_TYPE_TXT',\n",
       " 'AUTHC_PRIM_TYPE_CD',\n",
       " 'AUTHC_SCNDRY_STAT_TXT']"
      ]
     },
     "execution_count": 30,
     "metadata": {},
     "output_type": "execute_result"
    }
   ],
   "source": [
    "bool_ = lda_base_coef_df['Abs_Coeffs'] > .1\n",
    "lda_selected_coeffs = list(lda_base_coef_df.loc[bool_, 'Feature'])\n",
    "lda_selected_coeffs.remove('Intercept') # happens inplaces\n",
    "print('Total feature count is',len(lda_selected_coeffs), 'out of 13.')\n",
    "lda_selected_coeffs"
   ]
  },
  {
   "cell_type": "markdown",
   "metadata": {},
   "source": [
    "--------\n",
    "#### LDA W/ subset based on coeff cutoff"
   ]
  },
  {
   "cell_type": "code",
   "execution_count": 31,
   "metadata": {},
   "outputs": [
    {
     "name": "stdout",
     "output_type": "stream",
     "text": [
      "[[2018  214]\n",
      " [ 320  484]]\n",
      "              precision    recall  f1-score   support\n",
      "\n",
      "           0       0.86      0.90      0.88      2232\n",
      "           1       0.69      0.60      0.64       804\n",
      "\n",
      "    accuracy                           0.82      3036\n",
      "   macro avg       0.78      0.75      0.76      3036\n",
      "weighted avg       0.82      0.82      0.82      3036\n",
      "\n"
     ]
    }
   ],
   "source": [
    "# Create base log_reg model\n",
    "LDA_w_subset = LinearDiscriminantAnalysis()\n",
    "\n",
    "# Fit model\n",
    "LDA_w_subset.fit(X=train_X[lda_selected_coeffs], y=train_y)\n",
    "\n",
    "lda_subset_preds = LDA_w_subset.predict(valid_X[lda_selected_coeffs])\n",
    "\n",
    "print(confusion_matrix(valid_y, lda_subset_preds))\n",
    "print(classification_report(valid_y, lda_subset_preds))"
   ]
  },
  {
   "cell_type": "code",
   "execution_count": 32,
   "metadata": {},
   "outputs": [],
   "source": [
    "# Create base log_reg model\n",
    "\n",
    "LDA_base = LinearDiscriminantAnalysis()\n",
    "\n",
    "# Fit model\n",
    "\n",
    "LDA_base.fit(X=train_X, y=train_y)\n",
    "\n",
    "lda_base_preds = LDA_base.predict(valid_X)\n"
   ]
  },
  {
   "cell_type": "code",
   "execution_count": 33,
   "metadata": {},
   "outputs": [
    {
     "data": {
      "text/plain": [
       "array([0.65      , 0.64246425, 0.64347826, 0.65513514, 0.63839286])"
      ]
     },
     "execution_count": 33,
     "metadata": {},
     "output_type": "execute_result"
    }
   ],
   "source": [
    "cross_val_score(LDA_base, train_X, train_y, cv=5, n_jobs=-1, scoring='f1')"
   ]
  },
  {
   "cell_type": "markdown",
   "metadata": {},
   "source": [
    "Utilizing feature reduction via eliminating features with low coefficients appear to do mild damage to our the LDA performance."
   ]
  },
  {
   "cell_type": "markdown",
   "metadata": {},
   "source": [
    "------\n",
    "### Model 4: KNN\n",
    "------\n"
   ]
  },
  {
   "cell_type": "code",
   "execution_count": 38,
   "metadata": {},
   "outputs": [
    {
     "data": {
      "text/html": [
       "<div>\n",
       "<style scoped>\n",
       "    .dataframe tbody tr th:only-of-type {\n",
       "        vertical-align: middle;\n",
       "    }\n",
       "\n",
       "    .dataframe tbody tr th {\n",
       "        vertical-align: top;\n",
       "    }\n",
       "\n",
       "    .dataframe thead th {\n",
       "        text-align: right;\n",
       "    }\n",
       "</style>\n",
       "<table border=\"1\" class=\"dataframe\">\n",
       "  <thead>\n",
       "    <tr style=\"text-align: right;\">\n",
       "      <th></th>\n",
       "      <th>accuracy</th>\n",
       "      <th>F1</th>\n",
       "    </tr>\n",
       "    <tr>\n",
       "      <th>n_neighbors</th>\n",
       "      <th></th>\n",
       "      <th></th>\n",
       "    </tr>\n",
       "  </thead>\n",
       "  <tbody>\n",
       "    <tr>\n",
       "      <th>9</th>\n",
       "      <td>0.865283</td>\n",
       "      <td>0.721958</td>\n",
       "    </tr>\n",
       "    <tr>\n",
       "      <th>19</th>\n",
       "      <td>0.867918</td>\n",
       "      <td>0.719776</td>\n",
       "    </tr>\n",
       "    <tr>\n",
       "      <th>7</th>\n",
       "      <td>0.862319</td>\n",
       "      <td>0.719086</td>\n",
       "    </tr>\n",
       "    <tr>\n",
       "      <th>15</th>\n",
       "      <td>0.866271</td>\n",
       "      <td>0.718056</td>\n",
       "    </tr>\n",
       "    <tr>\n",
       "      <th>11</th>\n",
       "      <td>0.863636</td>\n",
       "      <td>0.716826</td>\n",
       "    </tr>\n",
       "    <tr>\n",
       "      <th>13</th>\n",
       "      <td>0.864954</td>\n",
       "      <td>0.714882</td>\n",
       "    </tr>\n",
       "    <tr>\n",
       "      <th>5</th>\n",
       "      <td>0.859354</td>\n",
       "      <td>0.713999</td>\n",
       "    </tr>\n",
       "    <tr>\n",
       "      <th>17</th>\n",
       "      <td>0.863307</td>\n",
       "      <td>0.711204</td>\n",
       "    </tr>\n",
       "    <tr>\n",
       "      <th>14</th>\n",
       "      <td>0.865942</td>\n",
       "      <td>0.708661</td>\n",
       "    </tr>\n",
       "    <tr>\n",
       "      <th>6</th>\n",
       "      <td>0.864625</td>\n",
       "      <td>0.707473</td>\n",
       "    </tr>\n",
       "    <tr>\n",
       "      <th>16</th>\n",
       "      <td>0.865283</td>\n",
       "      <td>0.706810</td>\n",
       "    </tr>\n",
       "    <tr>\n",
       "      <th>18</th>\n",
       "      <td>0.864954</td>\n",
       "      <td>0.706724</td>\n",
       "    </tr>\n",
       "    <tr>\n",
       "      <th>8</th>\n",
       "      <td>0.863966</td>\n",
       "      <td>0.706468</td>\n",
       "    </tr>\n",
       "    <tr>\n",
       "      <th>12</th>\n",
       "      <td>0.862978</td>\n",
       "      <td>0.701578</td>\n",
       "    </tr>\n",
       "    <tr>\n",
       "      <th>10</th>\n",
       "      <td>0.861989</td>\n",
       "      <td>0.701354</td>\n",
       "    </tr>\n",
       "    <tr>\n",
       "      <th>4</th>\n",
       "      <td>0.852767</td>\n",
       "      <td>0.672047</td>\n",
       "    </tr>\n",
       "  </tbody>\n",
       "</table>\n",
       "</div>"
      ],
      "text/plain": [
       "             accuracy        F1\n",
       "n_neighbors                    \n",
       "9            0.865283  0.721958\n",
       "19           0.867918  0.719776\n",
       "7            0.862319  0.719086\n",
       "15           0.866271  0.718056\n",
       "11           0.863636  0.716826\n",
       "13           0.864954  0.714882\n",
       "5            0.859354  0.713999\n",
       "17           0.863307  0.711204\n",
       "14           0.865942  0.708661\n",
       "6            0.864625  0.707473\n",
       "16           0.865283  0.706810\n",
       "18           0.864954  0.706724\n",
       "8            0.863966  0.706468\n",
       "12           0.862978  0.701578\n",
       "10           0.861989  0.701354\n",
       "4            0.852767  0.672047"
      ]
     },
     "execution_count": 38,
     "metadata": {},
     "output_type": "execute_result"
    }
   ],
   "source": [
    "results = []\n",
    "\n",
    "for n_neighbors in range(4, 20):\n",
    "    knn = KNeighborsClassifier(n_neighbors=n_neighbors).fit(train_X, train_y)\n",
    "    preds = knn.predict(valid_X)\n",
    "    results.append({'n_neighbors': n_neighbors,\n",
    "                    'accuracy': accuracy_score(valid_y, preds),\n",
    "                    'F1':f1_score(valid_y, preds)\n",
    "                   })\n",
    "    \n",
    "# Convert results to a pandas data frame results = pd.DataFrame(results) print(results)\n",
    "results = pd.DataFrame(results)\n",
    "results = results.set_index('n_neighbors')\n",
    "results.sort_values(by='F1', ascending=False)"
   ]
  },
  {
   "cell_type": "markdown",
   "metadata": {},
   "source": [
    "Looking at the chart above, we see that K of 6 then 9 score the best before hitting K => 10."
   ]
  },
  {
   "cell_type": "markdown",
   "metadata": {},
   "source": [
    "--------------\n",
    "#### GridSearch"
   ]
  },
  {
   "cell_type": "code",
   "execution_count": 39,
   "metadata": {},
   "outputs": [
    {
     "name": "stdout",
     "output_type": "stream",
     "text": [
      "Best score: 0.7356882574203241 with param: {'metric': 'manhattan', 'n_neighbors': 9}\n"
     ]
    }
   ],
   "source": [
    "cv = RepeatedStratifiedKFold(n_splits=5, n_repeats=3, random_state=1)\n",
    "\n",
    "\n",
    "distances = ['euclidean', 'manhattan', 'chebyshev', 'minkowski']\n",
    "knn_hyperparam_grid = {'n_neighbors':np.arange(3,20),\n",
    "                       'metric' : distances}\n",
    "\n",
    "knn = KNeighborsClassifier()\n",
    "grid = GridSearchCV(knn, knn_hyperparam_grid,scoring=\"f1\", cv=cv, n_jobs=-1, refit=True)\n",
    "\n",
    "grid.fit(train_X,train_y)\n",
    "\n",
    "# Best model score and best model parameters\n",
    "print(f'Best score: {grid.best_score_} with param: {grid.best_params_}')"
   ]
  },
  {
   "cell_type": "markdown",
   "metadata": {},
   "source": [
    "Gridsearch results validate the simple search loop above."
   ]
  },
  {
   "cell_type": "markdown",
   "metadata": {
    "tags": []
   },
   "source": [
    "--------\n",
    "#### K=6"
   ]
  },
  {
   "cell_type": "code",
   "execution_count": 40,
   "metadata": {},
   "outputs": [
    {
     "name": "stdout",
     "output_type": "stream",
     "text": [
      "[[2128  104]\n",
      " [ 307  497]]\n",
      "              precision    recall  f1-score   support\n",
      "\n",
      "           0       0.87      0.95      0.91      2232\n",
      "           1       0.83      0.62      0.71       804\n",
      "\n",
      "    accuracy                           0.86      3036\n",
      "   macro avg       0.85      0.79      0.81      3036\n",
      "weighted avg       0.86      0.86      0.86      3036\n",
      "\n"
     ]
    }
   ],
   "source": [
    "knn = KNeighborsClassifier(n_neighbors=6).fit(train_X, train_y)\n",
    "knn_preds = knn.predict(valid_X)\n",
    "print(confusion_matrix(valid_y, knn_preds))\n",
    "print(classification_report(valid_y, knn_preds))"
   ]
  },
  {
   "cell_type": "code",
   "execution_count": 41,
   "metadata": {},
   "outputs": [
    {
     "data": {
      "text/plain": [
       "array([0.68286756, 0.66990291, 0.68433735, 0.70602125, 0.67883212])"
      ]
     },
     "execution_count": 41,
     "metadata": {},
     "output_type": "execute_result"
    }
   ],
   "source": [
    "cross_val_score(knn, train_X, train_y, cv=5, n_jobs=-1, scoring='f1')"
   ]
  },
  {
   "cell_type": "markdown",
   "metadata": {},
   "source": [
    "--------\n",
    "#### K=9"
   ]
  },
  {
   "cell_type": "code",
   "execution_count": 42,
   "metadata": {},
   "outputs": [
    {
     "name": "stdout",
     "output_type": "stream",
     "text": [
      "[[2096  136]\n",
      " [ 273  531]]\n",
      "              precision    recall  f1-score   support\n",
      "\n",
      "           0       0.88      0.94      0.91      2232\n",
      "           1       0.80      0.66      0.72       804\n",
      "\n",
      "    accuracy                           0.87      3036\n",
      "   macro avg       0.84      0.80      0.82      3036\n",
      "weighted avg       0.86      0.87      0.86      3036\n",
      "\n"
     ]
    }
   ],
   "source": [
    "knn = KNeighborsClassifier(n_neighbors=9).fit(train_X, train_y)\n",
    "knn_preds = knn.predict(valid_X)\n",
    "print(confusion_matrix(valid_y, knn_preds))\n",
    "print(classification_report(valid_y, knn_preds))"
   ]
  },
  {
   "cell_type": "code",
   "execution_count": 43,
   "metadata": {},
   "outputs": [
    {
     "data": {
      "text/plain": [
       "array([0.6937355 , 0.69907407, 0.71395349, 0.71981777, 0.71167048])"
      ]
     },
     "execution_count": 43,
     "metadata": {},
     "output_type": "execute_result"
    }
   ],
   "source": [
    "cross_val_score(knn, train_X, train_y, cv=5, n_jobs=-1, scoring='f1')"
   ]
  },
  {
   "cell_type": "markdown",
   "metadata": {},
   "source": [
    "It appears KNN has a best F1 performance score at n_neighbors=9, by having a 2% average improvement."
   ]
  },
  {
   "cell_type": "markdown",
   "metadata": {},
   "source": [
    "------\n",
    "#### KNN w/ Discretized DataFrame"
   ]
  },
  {
   "cell_type": "code",
   "execution_count": 44,
   "metadata": {},
   "outputs": [],
   "source": [
    "predictors = ['ACCT_PRE_TRAN_AVAIL_BAL',\n",
    "              'AUTHC_PRIM_TYPE_CD',\n",
    "              'AUTHC_SCNDRY_STAT_TXT',\n",
    "              'CARR_NAME',\n",
    "              'CUST_AGE',\n",
    "              'CUST_STATE',\n",
    "              'OPEN_ACCT_CT',\n",
    "              'RGN_NAME',\n",
    "              'STATE_PRVNC_TXT',\n",
    "              'TRAN_AMT',\n",
    "              'WF_dvc_age']\n",
    "\n",
    "# Create train, valid split\n",
    "kbins_train, kbins_valid = train_test_split(df_train,\n",
    "                                test_size=0.25,\n",
    "                                random_state=1,\n",
    "                                stratify=df_train['FRAUD_NONFRAUD'])\n",
    "\n",
    "kbins = KBinsDiscretizer(encode='ordinal',strategy='uniform') #uniform is utilized via understanding of github.com/scikit-learn/scikit-learn/issues/19433\n",
    "\n",
    "\n",
    "# fit on training df\n",
    "kbins.fit(kbins_train[predictors])\n",
    "\n",
    "# transform train & valid/test DFs\n",
    "# write over existing columns w/ scaled versions\n",
    "kbins_train[predictors] = kbins.transform(kbins_train[predictors])\n",
    "kbins_valid[predictors] = kbins.transform(kbins_valid[predictors])\n",
    "\n",
    "kbins_train_X = kbins_train.drop(columns='FRAUD_NONFRAUD')\n",
    "kbins_train_y = kbins_train['FRAUD_NONFRAUD']\n",
    "\n",
    "kbins_valid_X = kbins_valid.drop(columns='FRAUD_NONFRAUD')\n",
    "kbins_valid_y = kbins_valid['FRAUD_NONFRAUD']"
   ]
  },
  {
   "cell_type": "markdown",
   "metadata": {},
   "source": [
    "##### Searching for n_neighbors utilizing Discretized Dataset"
   ]
  },
  {
   "cell_type": "code",
   "execution_count": 45,
   "metadata": {},
   "outputs": [
    {
     "data": {
      "text/html": [
       "<div>\n",
       "<style scoped>\n",
       "    .dataframe tbody tr th:only-of-type {\n",
       "        vertical-align: middle;\n",
       "    }\n",
       "\n",
       "    .dataframe tbody tr th {\n",
       "        vertical-align: top;\n",
       "    }\n",
       "\n",
       "    .dataframe thead th {\n",
       "        text-align: right;\n",
       "    }\n",
       "</style>\n",
       "<table border=\"1\" class=\"dataframe\">\n",
       "  <thead>\n",
       "    <tr style=\"text-align: right;\">\n",
       "      <th></th>\n",
       "      <th>accuracy</th>\n",
       "      <th>F1</th>\n",
       "    </tr>\n",
       "    <tr>\n",
       "      <th>n_neighbors</th>\n",
       "      <th></th>\n",
       "      <th></th>\n",
       "    </tr>\n",
       "  </thead>\n",
       "  <tbody>\n",
       "    <tr>\n",
       "      <th>5</th>\n",
       "      <td>0.875494</td>\n",
       "      <td>0.742156</td>\n",
       "    </tr>\n",
       "    <tr>\n",
       "      <th>3</th>\n",
       "      <td>0.867589</td>\n",
       "      <td>0.731283</td>\n",
       "    </tr>\n",
       "    <tr>\n",
       "      <th>11</th>\n",
       "      <td>0.871212</td>\n",
       "      <td>0.724842</td>\n",
       "    </tr>\n",
       "    <tr>\n",
       "      <th>7</th>\n",
       "      <td>0.868906</td>\n",
       "      <td>0.724377</td>\n",
       "    </tr>\n",
       "    <tr>\n",
       "      <th>9</th>\n",
       "      <td>0.870224</td>\n",
       "      <td>0.722535</td>\n",
       "    </tr>\n",
       "    <tr>\n",
       "      <th>13</th>\n",
       "      <td>0.870883</td>\n",
       "      <td>0.722380</td>\n",
       "    </tr>\n",
       "    <tr>\n",
       "      <th>14</th>\n",
       "      <td>0.870553</td>\n",
       "      <td>0.714182</td>\n",
       "    </tr>\n",
       "    <tr>\n",
       "      <th>6</th>\n",
       "      <td>0.869236</td>\n",
       "      <td>0.712110</td>\n",
       "    </tr>\n",
       "    <tr>\n",
       "      <th>12</th>\n",
       "      <td>0.869565</td>\n",
       "      <td>0.710526</td>\n",
       "    </tr>\n",
       "    <tr>\n",
       "      <th>10</th>\n",
       "      <td>0.867918</td>\n",
       "      <td>0.708364</td>\n",
       "    </tr>\n",
       "    <tr>\n",
       "      <th>8</th>\n",
       "      <td>0.867260</td>\n",
       "      <td>0.705194</td>\n",
       "    </tr>\n",
       "    <tr>\n",
       "      <th>4</th>\n",
       "      <td>0.865283</td>\n",
       "      <td>0.700805</td>\n",
       "    </tr>\n",
       "  </tbody>\n",
       "</table>\n",
       "</div>"
      ],
      "text/plain": [
       "             accuracy        F1\n",
       "n_neighbors                    \n",
       "5            0.875494  0.742156\n",
       "3            0.867589  0.731283\n",
       "11           0.871212  0.724842\n",
       "7            0.868906  0.724377\n",
       "9            0.870224  0.722535\n",
       "13           0.870883  0.722380\n",
       "14           0.870553  0.714182\n",
       "6            0.869236  0.712110\n",
       "12           0.869565  0.710526\n",
       "10           0.867918  0.708364\n",
       "8            0.867260  0.705194\n",
       "4            0.865283  0.700805"
      ]
     },
     "execution_count": 45,
     "metadata": {},
     "output_type": "execute_result"
    }
   ],
   "source": [
    "discretized_results = []\n",
    "for n_neighbors in range(3, 15):\n",
    "    knn = KNeighborsClassifier(n_neighbors=n_neighbors).fit(kbins_train_X, kbins_train_y) \n",
    "    preds = knn.predict(kbins_valid_X)\n",
    "    discretized_results.append({'n_neighbors': n_neighbors,\n",
    "                                'accuracy': accuracy_score(kbins_valid_y, preds),\n",
    "                                'F1':f1_score(kbins_valid_y, preds)\n",
    "                               })\n",
    "    \n",
    "# Convert results to a pandas data frame results = pd.DataFrame(results) print(results)\n",
    "discretized_results = pd.DataFrame(discretized_results)\n",
    "discretized_results = discretized_results.set_index('n_neighbors')\n",
    "discretized_results.sort_values(by='F1', ascending=False)"
   ]
  },
  {
   "cell_type": "markdown",
   "metadata": {},
   "source": [
    "It appears based accuracy and F1, our best Ks are 5 and 9.\n",
    "\n",
    "<b>Improvements on discretized dataset</b>\n",
    "As we can see, the best n_neighbors for both datasets are different by roughly 1%, discretized clusters on average have roughly 0.5% higher accuracy scores when compared to our basic standardized dataframe.  The same trend is applicable to our score of interests, F1, in which discretized clusters improved upon by rouhgly 1-3%."
   ]
  },
  {
   "cell_type": "markdown",
   "metadata": {},
   "source": [
    "------------\n",
    "##### Discretized Grid Search"
   ]
  },
  {
   "cell_type": "code",
   "execution_count": 46,
   "metadata": {},
   "outputs": [
    {
     "name": "stdout",
     "output_type": "stream",
     "text": [
      "Best score: 0.7341689845566748 with param: {'metric': 'manhattan', 'n_neighbors': 9}\n"
     ]
    }
   ],
   "source": [
    "cv = RepeatedStratifiedKFold(n_splits=5, n_repeats=3, random_state=1)\n",
    "\n",
    "\n",
    "distances = ['euclidean', 'manhattan', 'chebyshev', 'minkowski']\n",
    "knn_hyperparam_grid = {'n_neighbors':np.arange(5,20),\n",
    "                       'metric' : distances}\n",
    "\n",
    "knn = KNeighborsClassifier()\n",
    "knn_discrete_grid = GridSearchCV(knn, knn_hyperparam_grid,scoring=\"f1\", cv=cv, n_jobs=-1, refit=True)\n",
    "\n",
    "knn_discrete_grid.fit(kbins_train_X,kbins_train_y)\n",
    "\n",
    "# Best model score and best model parameters\n",
    "print(f'Best score: {knn_discrete_grid.best_score_} with param: {knn_discrete_grid.best_params_}')"
   ]
  },
  {
   "cell_type": "markdown",
   "metadata": {},
   "source": [
    "As shown from above, it appears that n_neighbors @ 5 and 9 gives the performance while our Gridsearch results affirms best n_neighbors at 9."
   ]
  },
  {
   "cell_type": "markdown",
   "metadata": {},
   "source": [
    "------------------\n",
    "##### K=5 w/ Discretized Features"
   ]
  },
  {
   "cell_type": "code",
   "execution_count": 47,
   "metadata": {},
   "outputs": [
    {
     "name": "stdout",
     "output_type": "stream",
     "text": [
      "[[2114  118]\n",
      " [ 260  544]]\n",
      "              precision    recall  f1-score   support\n",
      "\n",
      "           0       0.89      0.95      0.92      2232\n",
      "           1       0.82      0.68      0.74       804\n",
      "\n",
      "    accuracy                           0.88      3036\n",
      "   macro avg       0.86      0.81      0.83      3036\n",
      "weighted avg       0.87      0.88      0.87      3036\n",
      "\n"
     ]
    }
   ],
   "source": [
    "knn = KNeighborsClassifier(n_neighbors=5).fit(kbins_train_X, kbins_train_y)\n",
    "knn_preds = knn.predict(kbins_valid_X)\n",
    "print(confusion_matrix(kbins_valid_y, knn_preds))\n",
    "print(classification_report(kbins_valid_y, knn_preds))"
   ]
  },
  {
   "cell_type": "code",
   "execution_count": 48,
   "metadata": {},
   "outputs": [
    {
     "name": "stdout",
     "output_type": "stream",
     "text": [
      "[0.68075117 0.72727273 0.72413793 0.7224158  0.7201889 ]\n"
     ]
    },
    {
     "data": {
      "text/plain": [
       "0.7149533059219484"
      ]
     },
     "execution_count": 48,
     "metadata": {},
     "output_type": "execute_result"
    }
   ],
   "source": [
    "kbins_knn_5_scores = cross_val_score(knn, kbins_train_X, kbins_train_y, cv=5, n_jobs=-1, scoring='f1')\n",
    "print(kbins_knn_5_scores)\n",
    "kbins_knn_5_scores.mean()"
   ]
  },
  {
   "cell_type": "markdown",
   "metadata": {},
   "source": [
    "-------------\n",
    "##### K=9 w/ Discretized Features"
   ]
  },
  {
   "cell_type": "code",
   "execution_count": 49,
   "metadata": {},
   "outputs": [
    {
     "name": "stdout",
     "output_type": "stream",
     "text": [
      "[[2129  103]\n",
      " [ 291  513]]\n",
      "              precision    recall  f1-score   support\n",
      "\n",
      "           0       0.88      0.95      0.92      2232\n",
      "           1       0.83      0.64      0.72       804\n",
      "\n",
      "    accuracy                           0.87      3036\n",
      "   macro avg       0.86      0.80      0.82      3036\n",
      "weighted avg       0.87      0.87      0.86      3036\n",
      "\n"
     ]
    }
   ],
   "source": [
    "knn_discrete_9 = KNeighborsClassifier(n_neighbors=9).fit(kbins_train_X, kbins_train_y)\n",
    "knn_preds_discrete_9 = knn_discrete_9.predict(kbins_valid_X)\n",
    "print(confusion_matrix(kbins_valid_y, knn_preds_discrete_9))\n",
    "print(classification_report(kbins_valid_y, knn_preds_discrete_9))"
   ]
  },
  {
   "cell_type": "code",
   "execution_count": 50,
   "metadata": {},
   "outputs": [
    {
     "name": "stdout",
     "output_type": "stream",
     "text": [
      "[0.68957346 0.69905213 0.69657615 0.71715976 0.70743405]\n"
     ]
    },
    {
     "data": {
      "text/plain": [
       "0.7019591119220141"
      ]
     },
     "execution_count": 50,
     "metadata": {},
     "output_type": "execute_result"
    }
   ],
   "source": [
    "kbins_knn_9_scores = cross_val_score(knn_discrete_9, kbins_train_X, kbins_train_y, cv=5, n_jobs=-1, scoring='f1')\n",
    "print(kbins_knn_9_scores)\n",
    "kbins_knn_9_scores.mean()"
   ]
  },
  {
   "cell_type": "code",
   "execution_count": 51,
   "metadata": {},
   "outputs": [
    {
     "name": "stdout",
     "output_type": "stream",
     "text": [
      "[0.68075117 0.72727273 0.72413793 0.7224158  0.7201889 ]\n"
     ]
    },
    {
     "data": {
      "text/plain": [
       "0.7149533059219484"
      ]
     },
     "execution_count": 51,
     "metadata": {},
     "output_type": "execute_result"
    }
   ],
   "source": [
    "print(kbins_knn_5_scores)\n",
    "kbins_knn_5_scores.mean()"
   ]
  },
  {
   "cell_type": "markdown",
   "metadata": {},
   "source": [
    "As we see, n_neighbor=5 appears to have a wider spread of F1 scores with the highest score being of 72.72% and a low of 68%, while n_neighbor=9 appears to have stable scores hovering around 70% (min= 68.9%, max=71.71%)\n",
    "\n",
    "\n",
    "\n",
    "\n",
    "<br><br>\n",
    "Overall, utilizing discretization of the dataframe did little positive effect on modeling.  Increasing our average F1 performance score by roughly 1%."
   ]
  },
  {
   "cell_type": "markdown",
   "metadata": {},
   "source": [
    "-----\n",
    "## Model Evaluation\n",
    "-----\n"
   ]
  },
  {
   "cell_type": "code",
   "execution_count": 52,
   "metadata": {},
   "outputs": [],
   "source": [
    "########### Make Predictions, Plot CM and Evaluation Metrics ###########\n",
    "\n",
    "# Make predictions\n",
    " \n",
    "log_reg_pred = log_reg.predict(valid_X_log_reg)\n",
    "\n",
    "xgboost_pred = xgboost.predict(valid_X_xgboost)\n",
    "\n",
    "lda_red = LDA_base.predict(valid_X)\n",
    "\n",
    "knn_pred = knn_discrete_9.predict(kbins_valid_X)\n",
    "\n",
    "# Create CM tables\n",
    "\n",
    "cm_log_reg = confusion_matrix(valid_y, log_reg_pred)\n",
    "\n",
    "cm_xgboost = confusion_matrix(valid_y, xgboost_pred)\n",
    "\n",
    "cm_lda = confusion_matrix(valid_y, lda_red)\n",
    "\n",
    "cm_knn = confusion_matrix(valid_y, knn_pred)\n"
   ]
  },
  {
   "cell_type": "code",
   "execution_count": 53,
   "metadata": {},
   "outputs": [
    {
     "data": {
      "image/png": "[encoded data removed]",
      "text/plain": [
       "<Figure size 864x864 with 4 Axes>"
      ]
     },
     "metadata": {
      "needs_background": "light"
     },
     "output_type": "display_data"
    }
   ],
   "source": [
    "# Plot CM's\n",
    "\n",
    "plt.figure(figsize=(12,12))\n",
    "plt.suptitle('Confusion Matrices for All Models', fontsize=30,fontweight='bold')\n",
    "\n",
    "plt.subplot(2,2,1)\n",
    "plt1 = sns.heatmap(cm_log_reg, cmap='YlGnBu', annot=True, xticklabels=[0,1], yticklabels=[0,1], cbar=False,fmt='g')\n",
    "plt1.set_title('Logistic Regresion',fontsize=14,fontweight='bold')\n",
    "plt1.set_xlabel(xlabel='Predicted',fontsize=14)\n",
    "plt1.set_ylabel(ylabel='Actual',fontsize=14)\n",
    "\n",
    "plt.subplot(2,2,2)    \n",
    "plt2 = sns.heatmap(cm_xgboost, cmap='YlGnBu', annot=True, xticklabels=[0,1], yticklabels=[0,1], cbar=False,fmt='g')\n",
    "plt2.set_title('XGBoost',fontsize=14,fontweight='bold')\n",
    "plt2.set_xlabel(xlabel='Predicted',fontsize=14)\n",
    "plt2.set_ylabel(ylabel='Actual',fontsize=14)\n",
    "\n",
    "\n",
    "plt.subplot(2,2,3)\n",
    "plt3 = sns.heatmap(cm_lda, cmap='YlGnBu', annot=True, xticklabels=[0,1], yticklabels=[0,1], cbar=False,fmt='g')\n",
    "plt3.set_title('LDA',fontsize=14,fontweight='bold')\n",
    "plt3.set_xlabel(xlabel='Predicted',fontsize=14)\n",
    "plt3.set_ylabel(ylabel='Actual',fontsize=14)\n",
    "\n",
    "\n",
    "plt.subplot(2,2,4)\n",
    "plt4 = sns.heatmap(cm_knn, cmap='YlGnBu', annot=True, xticklabels=[0,1], yticklabels=[0,1], cbar=False,fmt='g')\n",
    "plt4.set_title('KNN',fontsize=14,fontweight='bold')\n",
    "plt4.set_xlabel(xlabel='Predicted',fontsize=14)\n",
    "plt4.set_ylabel(ylabel='Actual',fontsize=14)\n",
    "\n",
    "\n",
    "plt.show()"
   ]
  },
  {
   "cell_type": "code",
   "execution_count": 54,
   "metadata": {
    "scrolled": true
   },
   "outputs": [
    {
     "name": "stdout",
     "output_type": "stream",
     "text": [
      "| model                        |   accuracy |   recall |   specificity |   precision |    f1 |\n",
      "|:-----------------------------|-----------:|---------:|--------------:|------------:|------:|\n",
      "| Logistic Regression          |      0.731 |    0.889 |         0.673 |       0.495 | 0.636 |\n",
      "| XGBoost                      |      0.957 |    0.894 |         0.979 |       0.939 | 0.916 |\n",
      "| kNN                          |      0.87  |    0.638 |         0.954 |       0.833 | 0.723 |\n",
      "| Linear Discriminant Analysis |      0.827 |    0.611 |         0.905 |       0.697 | 0.651 |\n"
     ]
    }
   ],
   "source": [
    "########### Make Predictions, Plot CM and Evaluation Metrics ###########\n",
    "\n",
    "# Evaluation Metrics\n",
    "eval_list = []\n",
    "\n",
    "def eval_metrics(cm, model):\n",
    "\n",
    "    TN = cm[0][0]\n",
    "    TP = cm[1][1]\n",
    "    FN = cm[1][0]\n",
    "    FP = cm[0][1]\n",
    "\n",
    "    accuracy = round((TP+TN)/(TP+FP+FN+TN),3)\n",
    "    recall = round((TP)/(TP+FN),3)\n",
    "    specificity = round((TN)/(TN+FP),3)\n",
    "    precision = round((TP)/(TP+FP),3)\n",
    "    f1 = round((2*precision*recall)/(precision+recall),3)\n",
    "    \n",
    "    eval_list.append({'model': model, 'accuracy': accuracy, 'recall': recall,\n",
    "                        'specificity': specificity, 'precision': precision, 'f1': f1})\n",
    "    \n",
    "eval_metrics(cm_log_reg, 'Logistic Regression')\n",
    "eval_metrics(cm_xgboost, 'XGBoost')\n",
    "eval_metrics(cm_knn, 'kNN') \n",
    "eval_metrics(cm_lda, 'Linear Discriminant Analysis')\n",
    "\n",
    "eval_df = pd.DataFrame(eval_list).set_index('model')\n",
    "\n",
    "print(eval_df.to_markdown())\n",
    "   "
   ]
  },
  {
   "cell_type": "code",
   "execution_count": null,
   "metadata": {},
   "outputs": [],
   "source": []
  }
 ],
 "metadata": {
  "kernelspec": {
   "display_name": "Python 3",
   "language": "python",
   "name": "python3"
  },
  "language_info": {
   "codemirror_mode": {
    "name": "ipython",
    "version": 3
   },
   "file_extension": ".py",
   "mimetype": "text/x-python",
   "name": "python",
   "nbconvert_exporter": "python",
   "pygments_lexer": "ipython3",
   "version": "3.8.8"
  }
 },
 "nbformat": 4,
 "nbformat_minor": 4
}
