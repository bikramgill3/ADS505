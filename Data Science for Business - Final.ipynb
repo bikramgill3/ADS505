{
 "cells": [
  {
   "cell_type": "markdown",
   "metadata": {},
   "source": [
    "# Data Science for Business - Final Project"
   ]
  },
  {
   "cell_type": "markdown",
   "metadata": {},
   "source": [
    "## Cole Bailey - Bikram Gill - Christopher Robinson"
   ]
  },
  {
   "cell_type": "markdown",
   "metadata": {},
   "source": [
    "### Background"
   ]
  },
  {
   "cell_type": "markdown",
   "metadata": {},
   "source": [
    "Banks are required to report suspected vulnerable (elder and dependent adult) financial exploitation. Today, much of this activity is limited to human interaction (bankers working with customers on the phone or in person), through which bankers may pick up queues, or red flags or customers self-reporting scams or financial abuse to their financial institution. Digital payments have a degree of reported fraud and claims, with the assumption that much more unreported losses occur, especially perpetrated against older adults (60 years of age or older). \n",
    "\n",
    "As digital payments continue to expand across all demographics, research shows that older adults are showing the biggest uptick in adoption during the 2020/21 period due to the pandemic. Currently, digital payment data is not analyzed specifically under the vulnerable (elder and dependent adult) financial exploitation lens. Banks are required to report elder financial abuse but, unless a customer reports fraud and files a claim, financial abuse can go undetected and repeated fraud via digital payments can continue without the banks’ knowledge. Without detection models, a large amount of fraud is left unreported by consumers and elder and vulnerable adult populations will be at greater risk of being targeted and losing savings to fraudulent payments.\n",
    "\n",
    "Banks need better methods to help protect elder and vulnerable adults against fraud in the digital payments landscape. Predictive modeling may also be applied in some form to alert consumers and bankers in advance of a fraud attempt and potentially pre-empt certain transactions and monetary losses. As the older adult segment continues to adopt digital technology, including digital payments, banks need better ways to predict and analyze transaction data to detect high risk payment patterns or transaction attributes that signal high risk for fraud, especially for older and vulnerable adult customers, which could be targeted by scammers."
   ]
  },
  {
   "cell_type": "code",
   "execution_count": 1,
   "metadata": {},
   "outputs": [],
   "source": [
    "# Load Packages\n",
    "\n",
    "\n",
    "import pandas as pd\n",
    "import numpy as np\n",
    "import random\n",
    "import seaborn as sns\n",
    "import matplotlib.pyplot as plt\n",
    "import matplotlib.pylab as pylab\n",
    "\n",
    "from sklearn.model_selection import train_test_split,cross_val_score, GridSearchCV, RepeatedStratifiedKFold\n",
    "from sklearn.neighbors import KNeighborsClassifier\n",
    "from sklearn.tree import DecisionTreeRegressor, DecisionTreeClassifier\n",
    "from sklearn import metrics\n",
    "from scipy import stats\n",
    "from sklearn import preprocessing\n",
    "import statsmodels.api as sm\n",
    "import scikitplot as skplt\n",
    "from sklearn.ensemble import RandomForestClassifier\n",
    "from sklearn.neighbors import KNeighborsClassifier\n",
    "from sklearn.naive_bayes import GaussianNB\n",
    "import statsmodels.api as sm\n",
    "from sklearn.linear_model import LogisticRegression, LogisticRegressionCV, LinearRegression\n",
    "from sklearn.metrics import classification_report, confusion_matrix, accuracy_score, recall_score, balanced_accuracy_score\n",
    "\n",
    "pd.options.mode.chained_assignment = None\n",
    "%matplotlib inline"
   ]
  },
  {
   "cell_type": "code",
   "execution_count": 2,
   "metadata": {},
   "outputs": [],
   "source": [
    "# Load in the data\n",
    "#Testing and Training set already set\n",
    "\n",
    "dftest = pd.read_csv('data/Test_Set.csv')\n",
    "\n",
    "dftrain = pd.read_csv(\"data/Train_Set.csv\")\n",
    "\n",
    "#Opting to keep the test and train sets separated to keep align with competition requirements\n",
    "# EDA and preprocess steps to be duplicated on each DF"
   ]
  },
  {
   "cell_type": "markdown",
   "metadata": {},
   "source": [
    "#### Explatory Data Analysis"
   ]
  },
  {
   "cell_type": "markdown",
   "metadata": {},
   "source": [
    "Training Set"
   ]
  },
  {
   "cell_type": "code",
   "execution_count": 3,
   "metadata": {},
   "outputs": [
    {
     "data": {
      "text/html": [
       "<div>\n",
       "<style scoped>\n",
       "    .dataframe tbody tr th:only-of-type {\n",
       "        vertical-align: middle;\n",
       "    }\n",
       "\n",
       "    .dataframe tbody tr th {\n",
       "        vertical-align: top;\n",
       "    }\n",
       "\n",
       "    .dataframe thead th {\n",
       "        text-align: right;\n",
       "    }\n",
       "</style>\n",
       "<table border=\"1\" class=\"dataframe\">\n",
       "  <thead>\n",
       "    <tr style=\"text-align: right;\">\n",
       "      <th></th>\n",
       "      <th>TRAN_AMT</th>\n",
       "      <th>ACCT_PRE_TRAN_AVAIL_BAL</th>\n",
       "      <th>CUST_AGE</th>\n",
       "      <th>OPEN_ACCT_CT</th>\n",
       "      <th>WF_dvc_age</th>\n",
       "      <th>PWD_UPDT_TS</th>\n",
       "      <th>CARR_NAME</th>\n",
       "      <th>RGN_NAME</th>\n",
       "      <th>STATE_PRVNC_TXT</th>\n",
       "      <th>ALERT_TRGR_CD</th>\n",
       "      <th>...</th>\n",
       "      <th>CUST_STATE</th>\n",
       "      <th>PH_NUM_UPDT_TS</th>\n",
       "      <th>CUST_SINCE_DT</th>\n",
       "      <th>TRAN_TS</th>\n",
       "      <th>TRAN_DT</th>\n",
       "      <th>ACTN_CD</th>\n",
       "      <th>ACTN_INTNL_TXT</th>\n",
       "      <th>TRAN_TYPE_CD</th>\n",
       "      <th>ACTVY_DT</th>\n",
       "      <th>FRAUD_NONFRAUD</th>\n",
       "    </tr>\n",
       "  </thead>\n",
       "  <tbody>\n",
       "    <tr>\n",
       "      <th>0</th>\n",
       "      <td>5.38</td>\n",
       "      <td>23619.91</td>\n",
       "      <td>47</td>\n",
       "      <td>4</td>\n",
       "      <td>2777</td>\n",
       "      <td>1/16/2018 11:3:58</td>\n",
       "      <td>cox communications inc.</td>\n",
       "      <td>southwest</td>\n",
       "      <td>nevada</td>\n",
       "      <td>MOBL</td>\n",
       "      <td>...</td>\n",
       "      <td>NV</td>\n",
       "      <td>2/24/2021 15:55:10</td>\n",
       "      <td>1993-01-06 00:00:00</td>\n",
       "      <td>5/3/2021 18:3:58</td>\n",
       "      <td>5/3/2021</td>\n",
       "      <td>SCHPMT</td>\n",
       "      <td>P2P_COMMIT</td>\n",
       "      <td>P2P</td>\n",
       "      <td>5/3/2021</td>\n",
       "      <td>Non-Fraud</td>\n",
       "    </tr>\n",
       "    <tr>\n",
       "      <th>1</th>\n",
       "      <td>65.19</td>\n",
       "      <td>0.00</td>\n",
       "      <td>45</td>\n",
       "      <td>5</td>\n",
       "      <td>2721</td>\n",
       "      <td>NaN</td>\n",
       "      <td>charter communications</td>\n",
       "      <td>southwest</td>\n",
       "      <td>california</td>\n",
       "      <td>MOBL</td>\n",
       "      <td>...</td>\n",
       "      <td>CA</td>\n",
       "      <td>NaN</td>\n",
       "      <td>1971-01-07 00:00:00</td>\n",
       "      <td>1/13/2021 19:19:37</td>\n",
       "      <td>1/13/2021</td>\n",
       "      <td>SCHPMT</td>\n",
       "      <td>P2P_COMMIT</td>\n",
       "      <td>P2P</td>\n",
       "      <td>1/13/2021</td>\n",
       "      <td>Non-Fraud</td>\n",
       "    </tr>\n",
       "    <tr>\n",
       "      <th>2</th>\n",
       "      <td>54.84</td>\n",
       "      <td>34570.63</td>\n",
       "      <td>36</td>\n",
       "      <td>8</td>\n",
       "      <td>1531</td>\n",
       "      <td>12/22/2021 10:42:51</td>\n",
       "      <td>utah broadband llc</td>\n",
       "      <td>mountain</td>\n",
       "      <td>utah</td>\n",
       "      <td>ONLN</td>\n",
       "      <td>...</td>\n",
       "      <td>MD</td>\n",
       "      <td>5/5/2019 1:8:39</td>\n",
       "      <td>1994-02-01 00:00:00</td>\n",
       "      <td>4/8/2021 9:42:51</td>\n",
       "      <td>4/8/2021</td>\n",
       "      <td>SCHPMT</td>\n",
       "      <td>P2P_COMMIT</td>\n",
       "      <td>P2P</td>\n",
       "      <td>4/8/2021</td>\n",
       "      <td>Fraud</td>\n",
       "    </tr>\n",
       "    <tr>\n",
       "      <th>3</th>\n",
       "      <td>0.01</td>\n",
       "      <td>0.00</td>\n",
       "      <td>62</td>\n",
       "      <td>3</td>\n",
       "      <td>835</td>\n",
       "      <td>2/8/2020 7:28:31</td>\n",
       "      <td>t-mobile usa  inc.</td>\n",
       "      <td>southwest</td>\n",
       "      <td>california</td>\n",
       "      <td>MOBL</td>\n",
       "      <td>...</td>\n",
       "      <td>NV</td>\n",
       "      <td>2/16/2019 6:45:37</td>\n",
       "      <td>2001-11-01 00:00:00</td>\n",
       "      <td>8/10/2021 15:28:31</td>\n",
       "      <td>8/10/2021</td>\n",
       "      <td>SCHPMT</td>\n",
       "      <td>P2P_COMMIT</td>\n",
       "      <td>P2P</td>\n",
       "      <td>8/10/2021</td>\n",
       "      <td>Non-Fraud</td>\n",
       "    </tr>\n",
       "    <tr>\n",
       "      <th>4</th>\n",
       "      <td>497.08</td>\n",
       "      <td>12725.18</td>\n",
       "      <td>81</td>\n",
       "      <td>2</td>\n",
       "      <td>1095</td>\n",
       "      <td>12/28/2020 12:12:44</td>\n",
       "      <td>cogent communications</td>\n",
       "      <td>south central</td>\n",
       "      <td>texas</td>\n",
       "      <td>MOBL</td>\n",
       "      <td>...</td>\n",
       "      <td>UT</td>\n",
       "      <td>5/8/2020 10:27:6</td>\n",
       "      <td>1987-02-07 00:00:00</td>\n",
       "      <td>6/27/2021 11:12:44</td>\n",
       "      <td>6/27/2021</td>\n",
       "      <td>SCHPMT</td>\n",
       "      <td>P2P_COMMIT</td>\n",
       "      <td>P2P</td>\n",
       "      <td>6/27/2021</td>\n",
       "      <td>Fraud</td>\n",
       "    </tr>\n",
       "  </tbody>\n",
       "</table>\n",
       "<p>5 rows × 24 columns</p>\n",
       "</div>"
      ],
      "text/plain": [
       "   TRAN_AMT  ACCT_PRE_TRAN_AVAIL_BAL  CUST_AGE  OPEN_ACCT_CT  WF_dvc_age  \\\n",
       "0      5.38                 23619.91        47             4        2777   \n",
       "1     65.19                     0.00        45             5        2721   \n",
       "2     54.84                 34570.63        36             8        1531   \n",
       "3      0.01                     0.00        62             3         835   \n",
       "4    497.08                 12725.18        81             2        1095   \n",
       "\n",
       "           PWD_UPDT_TS                CARR_NAME       RGN_NAME  \\\n",
       "0    1/16/2018 11:3:58  cox communications inc.      southwest   \n",
       "1                  NaN   charter communications      southwest   \n",
       "2  12/22/2021 10:42:51       utah broadband llc       mountain   \n",
       "3     2/8/2020 7:28:31       t-mobile usa  inc.      southwest   \n",
       "4  12/28/2020 12:12:44    cogent communications  south central   \n",
       "\n",
       "  STATE_PRVNC_TXT ALERT_TRGR_CD  ... CUST_STATE      PH_NUM_UPDT_TS  \\\n",
       "0          nevada          MOBL  ...         NV  2/24/2021 15:55:10   \n",
       "1      california          MOBL  ...         CA                 NaN   \n",
       "2            utah          ONLN  ...         MD     5/5/2019 1:8:39   \n",
       "3      california          MOBL  ...         NV   2/16/2019 6:45:37   \n",
       "4           texas          MOBL  ...         UT    5/8/2020 10:27:6   \n",
       "\n",
       "         CUST_SINCE_DT             TRAN_TS    TRAN_DT ACTN_CD ACTN_INTNL_TXT  \\\n",
       "0  1993-01-06 00:00:00    5/3/2021 18:3:58   5/3/2021  SCHPMT     P2P_COMMIT   \n",
       "1  1971-01-07 00:00:00  1/13/2021 19:19:37  1/13/2021  SCHPMT     P2P_COMMIT   \n",
       "2  1994-02-01 00:00:00    4/8/2021 9:42:51   4/8/2021  SCHPMT     P2P_COMMIT   \n",
       "3  2001-11-01 00:00:00  8/10/2021 15:28:31  8/10/2021  SCHPMT     P2P_COMMIT   \n",
       "4  1987-02-07 00:00:00  6/27/2021 11:12:44  6/27/2021  SCHPMT     P2P_COMMIT   \n",
       "\n",
       "  TRAN_TYPE_CD   ACTVY_DT FRAUD_NONFRAUD  \n",
       "0          P2P   5/3/2021      Non-Fraud  \n",
       "1          P2P  1/13/2021      Non-Fraud  \n",
       "2          P2P   4/8/2021          Fraud  \n",
       "3          P2P  8/10/2021      Non-Fraud  \n",
       "4          P2P  6/27/2021          Fraud  \n",
       "\n",
       "[5 rows x 24 columns]"
      ]
     },
     "execution_count": 3,
     "metadata": {},
     "output_type": "execute_result"
    }
   ],
   "source": [
    "dftrain.head(5)"
   ]
  },
  {
   "cell_type": "markdown",
   "metadata": {},
   "source": [
    "The test set contains 24 variables and 6,000 records. \n",
    "The train set contains 24 variables and 14,000 records."
   ]
  },
  {
   "cell_type": "code",
   "execution_count": 4,
   "metadata": {},
   "outputs": [
    {
     "data": {
      "text/html": [
       "<div>\n",
       "<style scoped>\n",
       "    .dataframe tbody tr th:only-of-type {\n",
       "        vertical-align: middle;\n",
       "    }\n",
       "\n",
       "    .dataframe tbody tr th {\n",
       "        vertical-align: top;\n",
       "    }\n",
       "\n",
       "    .dataframe thead th {\n",
       "        text-align: right;\n",
       "    }\n",
       "</style>\n",
       "<table border=\"1\" class=\"dataframe\">\n",
       "  <thead>\n",
       "    <tr style=\"text-align: right;\">\n",
       "      <th></th>\n",
       "      <th>TRAN_AMT</th>\n",
       "      <th>ACCT_PRE_TRAN_AVAIL_BAL</th>\n",
       "      <th>CUST_AGE</th>\n",
       "      <th>OPEN_ACCT_CT</th>\n",
       "      <th>WF_dvc_age</th>\n",
       "      <th>CUST_ZIP</th>\n",
       "    </tr>\n",
       "  </thead>\n",
       "  <tbody>\n",
       "    <tr>\n",
       "      <th>count</th>\n",
       "      <td>14000.000000</td>\n",
       "      <td>14000.000000</td>\n",
       "      <td>14000.000000</td>\n",
       "      <td>14000.000000</td>\n",
       "      <td>14000.000000</td>\n",
       "      <td>14000.000000</td>\n",
       "    </tr>\n",
       "    <tr>\n",
       "      <th>mean</th>\n",
       "      <td>275.377747</td>\n",
       "      <td>10233.110609</td>\n",
       "      <td>53.937214</td>\n",
       "      <td>6.666714</td>\n",
       "      <td>611.061571</td>\n",
       "      <td>74007.681071</td>\n",
       "    </tr>\n",
       "    <tr>\n",
       "      <th>std</th>\n",
       "      <td>317.892333</td>\n",
       "      <td>29967.453812</td>\n",
       "      <td>18.829836</td>\n",
       "      <td>9.059419</td>\n",
       "      <td>668.113489</td>\n",
       "      <td>24948.053588</td>\n",
       "    </tr>\n",
       "    <tr>\n",
       "      <th>min</th>\n",
       "      <td>0.010000</td>\n",
       "      <td>0.000000</td>\n",
       "      <td>13.000000</td>\n",
       "      <td>0.000000</td>\n",
       "      <td>-117.000000</td>\n",
       "      <td>0.000000</td>\n",
       "    </tr>\n",
       "    <tr>\n",
       "      <th>25%</th>\n",
       "      <td>11.322500</td>\n",
       "      <td>0.000000</td>\n",
       "      <td>39.000000</td>\n",
       "      <td>3.000000</td>\n",
       "      <td>75.000000</td>\n",
       "      <td>63123.000000</td>\n",
       "    </tr>\n",
       "    <tr>\n",
       "      <th>50%</th>\n",
       "      <td>161.355000</td>\n",
       "      <td>2410.395000</td>\n",
       "      <td>59.000000</td>\n",
       "      <td>5.000000</td>\n",
       "      <td>365.500000</td>\n",
       "      <td>85037.000000</td>\n",
       "    </tr>\n",
       "    <tr>\n",
       "      <th>75%</th>\n",
       "      <td>488.822500</td>\n",
       "      <td>4732.695000</td>\n",
       "      <td>68.000000</td>\n",
       "      <td>7.000000</td>\n",
       "      <td>961.000000</td>\n",
       "      <td>92201.000000</td>\n",
       "    </tr>\n",
       "    <tr>\n",
       "      <th>max</th>\n",
       "      <td>2376.060000</td>\n",
       "      <td>361519.050000</td>\n",
       "      <td>105.000000</td>\n",
       "      <td>227.000000</td>\n",
       "      <td>2783.000000</td>\n",
       "      <td>99835.000000</td>\n",
       "    </tr>\n",
       "  </tbody>\n",
       "</table>\n",
       "</div>"
      ],
      "text/plain": [
       "           TRAN_AMT ACCT_PRE_TRAN_AVAIL_BAL      CUST_AGE  OPEN_ACCT_CT  \\\n",
       "count  14000.000000            14000.000000  14000.000000  14000.000000   \n",
       "mean     275.377747            10233.110609     53.937214      6.666714   \n",
       "std      317.892333            29967.453812     18.829836      9.059419   \n",
       "min        0.010000                0.000000     13.000000      0.000000   \n",
       "25%       11.322500                0.000000     39.000000      3.000000   \n",
       "50%      161.355000             2410.395000     59.000000      5.000000   \n",
       "75%      488.822500             4732.695000     68.000000      7.000000   \n",
       "max     2376.060000           361519.050000    105.000000    227.000000   \n",
       "\n",
       "         WF_dvc_age      CUST_ZIP  \n",
       "count  14000.000000  14000.000000  \n",
       "mean     611.061571  74007.681071  \n",
       "std      668.113489  24948.053588  \n",
       "min     -117.000000      0.000000  \n",
       "25%       75.000000  63123.000000  \n",
       "50%      365.500000  85037.000000  \n",
       "75%      961.000000  92201.000000  \n",
       "max     2783.000000  99835.000000  "
      ]
     },
     "execution_count": 4,
     "metadata": {},
     "output_type": "execute_result"
    }
   ],
   "source": [
    "#Data exploration for numerical\n",
    "dftrain.nunique(axis=0)\n",
    "dftrain.describe().apply(lambda s: s.apply(lambda x: format(x, 'f')))"
   ]
  },
  {
   "cell_type": "code",
   "execution_count": 5,
   "metadata": {},
   "outputs": [
    {
     "data": {
      "text/plain": [
       "Non-Fraud    9836\n",
       "Fraud        4164\n",
       "Name: FRAUD_NONFRAUD, dtype: int64"
      ]
     },
     "execution_count": 5,
     "metadata": {},
     "output_type": "execute_result"
    }
   ],
   "source": [
    "dftrain['FRAUD_NONFRAUD'].value_counts()"
   ]
  },
  {
   "cell_type": "code",
   "execution_count": 6,
   "metadata": {},
   "outputs": [],
   "source": [
    "#value of this column needs to be 0 (FRAUD) and 1 (NonFraud)\n",
    "dict_edu = {\"FRAUD_NONFRAUD\": {\"Fraud\" : 0, \"Non-Fraud\" :1}}\n",
    "dftrain.replace(dict_edu, inplace = True)"
   ]
  },
  {
   "cell_type": "code",
   "execution_count": 7,
   "metadata": {},
   "outputs": [
    {
     "data": {
      "image/png": "[encoded data removed]",
      "text/plain": [
       "<Figure size 720x432 with 1 Axes>"
      ]
     },
     "metadata": {
      "needs_background": "light"
     },
     "output_type": "display_data"
    }
   ],
   "source": [
    "ax = dftrain['FRAUD_NONFRAUD'].value_counts().plot(kind='bar', figsize=(10, 6), fontsize=13, color='green')\n",
    "ax.set_title('Fraud Counts (0 = Fraud, 1 = Non-Fraud)', size=20, pad=30)\n",
    "ax.set_ylabel('Results', fontsize=14)\n",
    "#display values\n",
    "for i in ax.patches:\n",
    "    ax.text(i.get_x() + 0.19, i.get_height() + 700, str(round(i.get_height(), 2)), fontsize=15)"
   ]
  },
  {
   "cell_type": "code",
   "execution_count": 8,
   "metadata": {},
   "outputs": [
    {
     "data": {
      "text/plain": [
       "PH_NUM_UPDT_TS             0.504357\n",
       "PWD_UPDT_TS                0.223214\n",
       "CARR_NAME                  0.193500\n",
       "RGN_NAME                   0.193500\n",
       "STATE_PRVNC_TXT            0.193500\n",
       "DVC_TYPE_TXT               0.125786\n",
       "AUTHC_SCNDRY_STAT_TXT      0.005286\n",
       "CUST_STATE                 0.002571\n",
       "ACTVY_DT                   0.000000\n",
       "TRAN_TYPE_CD               0.000000\n",
       "ACTN_INTNL_TXT             0.000000\n",
       "ACTN_CD                    0.000000\n",
       "TRAN_DT                    0.000000\n",
       "TRAN_TS                    0.000000\n",
       "CUST_SINCE_DT              0.000000\n",
       "TRAN_AMT                   0.000000\n",
       "CUST_ZIP                   0.000000\n",
       "ACCT_PRE_TRAN_AVAIL_BAL    0.000000\n",
       "AUTHC_PRIM_TYPE_CD         0.000000\n",
       "ALERT_TRGR_CD              0.000000\n",
       "WF_dvc_age                 0.000000\n",
       "OPEN_ACCT_CT               0.000000\n",
       "CUST_AGE                   0.000000\n",
       "FRAUD_NONFRAUD             0.000000\n",
       "dtype: float64"
      ]
     },
     "execution_count": 8,
     "metadata": {},
     "output_type": "execute_result"
    }
   ],
   "source": [
    "# Identify the columns with missing values\n",
    "dftrain.isnull().sum().sort_values(ascending = False)/len(dftrain)"
   ]
  },
  {
   "cell_type": "markdown",
   "metadata": {},
   "source": [
    "There are eight variables with missing values. Six of those variables have at least 10% of the total data missing. Since 'PH_NUM_UPDT_TS' is a date and more than 50% of the data is missing, this variable will be removed as it is unreliable. 'PWD_UPDT_TS' will be removed for the same reasons although it is missing roughly 22% of rows. For 'CARR_NAME','RGN_NAME','STATE_PRVNC_TXT', these null values will be separated into a category of 'unknown'. Lastly, we will remove the rest of the rows containing nulls since the total nulls left is very low and will not obscure the data further."
   ]
  },
  {
   "cell_type": "code",
   "execution_count": 9,
   "metadata": {},
   "outputs": [],
   "source": [
    "dftrain.drop(['PWD_UPDT_TS','PH_NUM_UPDT_TS'],inplace=True,axis=1)\n",
    "\n",
    "dftrain[\"CARR_NAME\"].fillna(\"Unknown\", inplace = True)\n",
    "dftrain[\"RGN_NAME\"].fillna(\"Unknown\", inplace = True)\n",
    "dftrain[\"STATE_PRVNC_TXT\"].fillna(\"Unknown\", inplace = True)\n",
    "\n",
    "dftrain = dftrain.dropna()"
   ]
  },
  {
   "cell_type": "code",
   "execution_count": 10,
   "metadata": {},
   "outputs": [
    {
     "name": "stdout",
     "output_type": "stream",
     "text": [
      "SCHPMT    12141\n",
      "Name: ACTN_CD, dtype: int64\n",
      "P2P_COMMIT    12141\n",
      "Name: ACTN_INTNL_TXT, dtype: int64\n",
      "P2P    12141\n",
      "Name: TRAN_TYPE_CD, dtype: int64\n"
     ]
    }
   ],
   "source": [
    "print(dftrain['ACTN_CD'].value_counts())\n",
    "print(dftrain['ACTN_INTNL_TXT'].value_counts())\n",
    "print(dftrain['TRAN_TYPE_CD'].value_counts())"
   ]
  },
  {
   "cell_type": "markdown",
   "metadata": {},
   "source": [
    "Since the three columns above only have one constant and distinct unit, they offer nothing in predicitve capability. They will be removed."
   ]
  },
  {
   "cell_type": "code",
   "execution_count": 11,
   "metadata": {},
   "outputs": [],
   "source": [
    "dftrain.drop(['ACTN_CD','ACTN_INTNL_TXT','TRAN_TYPE_CD'],inplace=True,axis=1)\n"
   ]
  },
  {
   "cell_type": "code",
   "execution_count": 12,
   "metadata": {},
   "outputs": [
    {
     "name": "stdout",
     "output_type": "stream",
     "text": [
      "2/28/2021              178\n",
      "3/3/2021               115\n",
      "3/5/2021               102\n",
      "6/30/2021               98\n",
      "3/1/2021                97\n",
      "                      ... \n",
      "2021-12-07 00:00:00      1\n",
      "2021-10-12 00:00:00      1\n",
      "2021-09-23 00:00:00      1\n",
      "2021-07-31 00:00:00      1\n",
      "2021-07-13 00:00:00      1\n",
      "Name: TRAN_DT, Length: 334, dtype: int64\n",
      "2/28/2021              178\n",
      "3/3/2021               115\n",
      "3/5/2021               102\n",
      "6/30/2021               98\n",
      "3/1/2021                97\n",
      "                      ... \n",
      "2021-12-07 00:00:00      1\n",
      "2021-10-12 00:00:00      1\n",
      "2021-09-23 00:00:00      1\n",
      "2021-07-31 00:00:00      1\n",
      "2021-07-13 00:00:00      1\n",
      "Name: ACTVY_DT, Length: 334, dtype: int64\n"
     ]
    }
   ],
   "source": [
    "print(dftrain['TRAN_DT'].value_counts())\n",
    "print(dftrain['ACTVY_DT'].value_counts())\n",
    "#The columns are redundant. We can remove one.\n",
    "dftrain.drop(['TRAN_DT'],inplace=True,axis=1)"
   ]
  },
  {
   "cell_type": "code",
   "execution_count": 13,
   "metadata": {},
   "outputs": [],
   "source": [
    "#Remove final columns with information that is redundant or not useful such as zipcode\n",
    "dftrain.drop(['CUST_ZIP','CUST_SINCE_DT','TRAN_TS','ACTVY_DT'], inplace = True,axis=1)"
   ]
  },
  {
   "cell_type": "markdown",
   "metadata": {},
   "source": [
    "Now we will look at feautures withhigh cardinality. These feautures give the model a difficult time to find patterns and analyze feautures outside the training set."
   ]
  },
  {
   "cell_type": "code",
   "execution_count": 14,
   "metadata": {},
   "outputs": [
    {
     "data": {
      "text/plain": [
       "TRAN_AMT                   float64\n",
       "ACCT_PRE_TRAN_AVAIL_BAL    float64\n",
       "CUST_AGE                     int64\n",
       "OPEN_ACCT_CT                 int64\n",
       "WF_dvc_age                   int64\n",
       "CARR_NAME                   object\n",
       "RGN_NAME                    object\n",
       "STATE_PRVNC_TXT             object\n",
       "ALERT_TRGR_CD               object\n",
       "DVC_TYPE_TXT                object\n",
       "AUTHC_PRIM_TYPE_CD          object\n",
       "AUTHC_SCNDRY_STAT_TXT       object\n",
       "CUST_STATE                  object\n",
       "FRAUD_NONFRAUD               int64\n",
       "dtype: object"
      ]
     },
     "execution_count": 14,
     "metadata": {},
     "output_type": "execute_result"
    }
   ],
   "source": [
    "dftrain.dtypes"
   ]
  },
  {
   "cell_type": "code",
   "execution_count": 15,
   "metadata": {},
   "outputs": [],
   "source": [
    "# obj_df = dftrain.select_dtypes(include=['object']).copy()\n",
    "# obj_df.head()"
   ]
  },
  {
   "cell_type": "code",
   "execution_count": 16,
   "metadata": {},
   "outputs": [],
   "source": [
    "# obj_df[\"STATE_PRVNC_TXT\"] = obj_df[\"STATE_PRVNC_TXT\"].astype('category')\n",
    "# obj_df[\"RGN_NAME\"] = obj_df[\"RGN_NAME\"].astype('category')\n",
    "# obj_df[\"CARR_NAME\"] = obj_df[\"CARR_NAME\"].astype('category')\n",
    "# obj_df[\"DVC_TYPE_TXT\"] = obj_df[\"DVC_TYPE_TXT\"].astype('category')\n",
    "# obj_df[\"CUST_STATE\"] = obj_df[\"CUST_STATE\"].astype('category')\n",
    "# obj_df[\"AUTHC_PRIM_TYPE_CD\"] = obj_df[\"AUTHC_PRIM_TYPE_CD\"].astype('category')\n",
    "# obj_df[\"AUTHC_SCNDRY_STAT_TXT\"] = obj_df[\"AUTHC_SCNDRY_STAT_TXT\"].astype('category')\n",
    "# obj_df[\"ALERT_TRGR_CD\"] = obj_df[\"ALERT_TRGR_CD\"].astype('category')\n",
    "# obj_df.dtypes"
   ]
  },
  {
   "cell_type": "code",
   "execution_count": 17,
   "metadata": {},
   "outputs": [],
   "source": [
    "# obj_df[\"ALERT_TRGR_CD\"] = obj_df[\"ALERT_TRGR_CD\"].cat.codes\n",
    "# obj_df[\"STATE_PRVNC_TXT\"] = obj_df[\"STATE_PRVNC_TXT\"].cat.codes\n",
    "# obj_df[\"RGN_NAME\"] = obj_df[\"RGN_NAME\"].cat.codes\n",
    "# obj_df[\"CARR_NAME\"] = obj_df[\"CARR_NAME\"].cat.codes\n",
    "# obj_df[\"DVC_TYPE_TXT\"] = obj_df[\"DVC_TYPE_TXT\"].cat.codes\n",
    "# obj_df[\"CUST_STATE\"] = obj_df[\"CUST_STATE\"].cat.codes\n",
    "# obj_df[\"AUTHC_PRIM_TYPE_CD\"] = obj_df[\"AUTHC_PRIM_TYPE_CD\"].cat.codes\n",
    "# obj_df[\"AUTHC_SCNDRY_STAT_TXT\"] = obj_df[\"AUTHC_SCNDRY_STAT_TXT\"].cat.codes\n",
    "# obj_df.head()"
   ]
  },
  {
   "cell_type": "code",
   "execution_count": 18,
   "metadata": {},
   "outputs": [
    {
     "data": {
      "text/plain": [
       "TRAN_AMT                   float64\n",
       "ACCT_PRE_TRAN_AVAIL_BAL    float64\n",
       "CUST_AGE                     int64\n",
       "OPEN_ACCT_CT                 int64\n",
       "WF_dvc_age                   int64\n",
       "CARR_NAME                  float64\n",
       "RGN_NAME                   float64\n",
       "STATE_PRVNC_TXT            float64\n",
       "ALERT_TRGR_CD              float64\n",
       "DVC_TYPE_TXT               float64\n",
       "AUTHC_PRIM_TYPE_CD         float64\n",
       "AUTHC_SCNDRY_STAT_TXT      float64\n",
       "CUST_STATE                 float64\n",
       "FRAUD_NONFRAUD               int64\n",
       "dtype: object"
      ]
     },
     "execution_count": 18,
     "metadata": {},
     "output_type": "execute_result"
    }
   ],
   "source": [
    "from sklearn.preprocessing import OrdinalEncoder\n",
    "\n",
    "ord_enc = OrdinalEncoder()\n",
    "dftrain[\"RGN_NAME\"] = ord_enc.fit_transform(dftrain[[\"RGN_NAME\"]])\n",
    "dftrain[\"STATE_PRVNC_TXT\"] = ord_enc.fit_transform(dftrain[[\"STATE_PRVNC_TXT\"]])\n",
    "dftrain[\"CARR_NAME\"] = ord_enc.fit_transform(dftrain[[\"CARR_NAME\"]])\n",
    "dftrain[\"ALERT_TRGR_CD\"] = ord_enc.fit_transform(dftrain[[\"ALERT_TRGR_CD\"]])\n",
    "dftrain[\"DVC_TYPE_TXT\"] = ord_enc.fit_transform(dftrain[[\"DVC_TYPE_TXT\"]])\n",
    "dftrain[\"AUTHC_PRIM_TYPE_CD\"] = ord_enc.fit_transform(dftrain[[\"AUTHC_PRIM_TYPE_CD\"]])\n",
    "dftrain[\"AUTHC_SCNDRY_STAT_TXT\"] = ord_enc.fit_transform(dftrain[[\"AUTHC_SCNDRY_STAT_TXT\"]])\n",
    "dftrain[\"CUST_STATE\"] = ord_enc.fit_transform(dftrain[[\"CUST_STATE\"]])\n",
    "dftrain.dtypes"
   ]
  },
  {
   "cell_type": "code",
   "execution_count": 19,
   "metadata": {},
   "outputs": [
    {
     "data": {
      "image/png": "[encoded data removed]",
      "text/plain": [
       "<Figure size 432x288 with 2 Axes>"
      ]
     },
     "metadata": {
      "needs_background": "light"
     },
     "output_type": "display_data"
    }
   ],
   "source": [
    "#Examine correlations between variables and response\n",
    "corr = dftrain.corr()\n",
    "ax = sns.heatmap(\n",
    "    corr, \n",
    "    vmin=-1, vmax=1, center=0,\n",
    "    cmap=sns.diverging_palette(20, 220, n=200),\n",
    "    square=True\n",
    ")\n",
    "ax.set_xticklabels(\n",
    "    ax.get_xticklabels(),\n",
    "    rotation=45,\n",
    "    horizontalalignment='right'\n",
    ");"
   ]
  },
  {
   "cell_type": "markdown",
   "metadata": {},
   "source": [
    "Testing Set"
   ]
  },
  {
   "cell_type": "code",
   "execution_count": 20,
   "metadata": {},
   "outputs": [
    {
     "data": {
      "text/html": [
       "<div>\n",
       "<style scoped>\n",
       "    .dataframe tbody tr th:only-of-type {\n",
       "        vertical-align: middle;\n",
       "    }\n",
       "\n",
       "    .dataframe tbody tr th {\n",
       "        vertical-align: top;\n",
       "    }\n",
       "\n",
       "    .dataframe thead th {\n",
       "        text-align: right;\n",
       "    }\n",
       "</style>\n",
       "<table border=\"1\" class=\"dataframe\">\n",
       "  <thead>\n",
       "    <tr style=\"text-align: right;\">\n",
       "      <th></th>\n",
       "      <th>dataset_id</th>\n",
       "      <th>TRAN_AMT</th>\n",
       "      <th>ACCT_PRE_TRAN_AVAIL_BAL</th>\n",
       "      <th>CUST_AGE</th>\n",
       "      <th>OPEN_ACCT_CT</th>\n",
       "      <th>WF_dvc_age</th>\n",
       "      <th>PWD_UPDT_TS</th>\n",
       "      <th>CARR_NAME</th>\n",
       "      <th>RGN_NAME</th>\n",
       "      <th>STATE_PRVNC_TXT</th>\n",
       "      <th>...</th>\n",
       "      <th>CUST_ZIP</th>\n",
       "      <th>CUST_STATE</th>\n",
       "      <th>PH_NUM_UPDT_TS</th>\n",
       "      <th>CUST_SINCE_DT</th>\n",
       "      <th>TRAN_TS</th>\n",
       "      <th>TRAN_DT</th>\n",
       "      <th>ACTN_CD</th>\n",
       "      <th>ACTN_INTNL_TXT</th>\n",
       "      <th>TRAN_TYPE_CD</th>\n",
       "      <th>ACTVY_DT</th>\n",
       "    </tr>\n",
       "  </thead>\n",
       "  <tbody>\n",
       "    <tr>\n",
       "      <th>0</th>\n",
       "      <td>1</td>\n",
       "      <td>54.25</td>\n",
       "      <td>0.0</td>\n",
       "      <td>23</td>\n",
       "      <td>4</td>\n",
       "      <td>634</td>\n",
       "      <td>9/18/2020 9:33:44</td>\n",
       "      <td>charter communications inc</td>\n",
       "      <td>southwest</td>\n",
       "      <td>california</td>\n",
       "      <td>...</td>\n",
       "      <td>55414</td>\n",
       "      <td>MN</td>\n",
       "      <td>7/8/2018 9:45:37</td>\n",
       "      <td>2011-02-19 00:00:00</td>\n",
       "      <td>1/8/2021 11:33:44</td>\n",
       "      <td>1/8/2021</td>\n",
       "      <td>SCHPMT</td>\n",
       "      <td>P2P_COMMIT</td>\n",
       "      <td>P2P</td>\n",
       "      <td>1/8/2021</td>\n",
       "    </tr>\n",
       "    <tr>\n",
       "      <th>1</th>\n",
       "      <td>2</td>\n",
       "      <td>110.30</td>\n",
       "      <td>0.0</td>\n",
       "      <td>56</td>\n",
       "      <td>3</td>\n",
       "      <td>1876</td>\n",
       "      <td>5/16/2021 17:2:31</td>\n",
       "      <td>comcast</td>\n",
       "      <td>mountain</td>\n",
       "      <td>colorado</td>\n",
       "      <td>...</td>\n",
       "      <td>77095</td>\n",
       "      <td>TX</td>\n",
       "      <td>NaN</td>\n",
       "      <td>2001-11-20 00:00:00</td>\n",
       "      <td>2/27/2021 7:2:31</td>\n",
       "      <td>2/27/2021</td>\n",
       "      <td>SCHPMT</td>\n",
       "      <td>P2P_COMMIT</td>\n",
       "      <td>P2P</td>\n",
       "      <td>2/27/2021</td>\n",
       "    </tr>\n",
       "    <tr>\n",
       "      <th>2</th>\n",
       "      <td>3</td>\n",
       "      <td>515.95</td>\n",
       "      <td>0.0</td>\n",
       "      <td>33</td>\n",
       "      <td>5</td>\n",
       "      <td>40</td>\n",
       "      <td>NaN</td>\n",
       "      <td>point broadband fiber holding  llc</td>\n",
       "      <td>mid atlantic</td>\n",
       "      <td>virginia</td>\n",
       "      <td>...</td>\n",
       "      <td>94102</td>\n",
       "      <td>CA</td>\n",
       "      <td>8/28/2018 1:4:7</td>\n",
       "      <td>1999-10-17 00:00:00</td>\n",
       "      <td>4/22/2021 11:25:16</td>\n",
       "      <td>4/22/2021</td>\n",
       "      <td>SCHPMT</td>\n",
       "      <td>P2P_COMMIT</td>\n",
       "      <td>P2P</td>\n",
       "      <td>4/22/2021</td>\n",
       "    </tr>\n",
       "    <tr>\n",
       "      <th>3</th>\n",
       "      <td>4</td>\n",
       "      <td>42.78</td>\n",
       "      <td>0.0</td>\n",
       "      <td>60</td>\n",
       "      <td>3</td>\n",
       "      <td>367</td>\n",
       "      <td>2/18/2021 4:5:0</td>\n",
       "      <td>t-mobile usa  inc.</td>\n",
       "      <td>southwest</td>\n",
       "      <td>california</td>\n",
       "      <td>...</td>\n",
       "      <td>93263</td>\n",
       "      <td>CA</td>\n",
       "      <td>7/3/2019 6:29:28</td>\n",
       "      <td>1998-07-03 00:00:00</td>\n",
       "      <td>6/17/2021 11:5:0</td>\n",
       "      <td>6/17/2021</td>\n",
       "      <td>SCHPMT</td>\n",
       "      <td>P2P_COMMIT</td>\n",
       "      <td>P2P</td>\n",
       "      <td>6/17/2021</td>\n",
       "    </tr>\n",
       "    <tr>\n",
       "      <th>4</th>\n",
       "      <td>5</td>\n",
       "      <td>0.01</td>\n",
       "      <td>0.0</td>\n",
       "      <td>61</td>\n",
       "      <td>12</td>\n",
       "      <td>518</td>\n",
       "      <td>2/18/2018 4:7:20</td>\n",
       "      <td>comcast cable communications  llc</td>\n",
       "      <td>southwest</td>\n",
       "      <td>california</td>\n",
       "      <td>...</td>\n",
       "      <td>93313</td>\n",
       "      <td>CA</td>\n",
       "      <td>7/8/2020 11:45:37</td>\n",
       "      <td>2002-07-30 00:00:00</td>\n",
       "      <td>5/8/2021 10:0:51</td>\n",
       "      <td>5/8/2021</td>\n",
       "      <td>SCHPMT</td>\n",
       "      <td>P2P_COMMIT</td>\n",
       "      <td>P2P</td>\n",
       "      <td>5/8/2021</td>\n",
       "    </tr>\n",
       "  </tbody>\n",
       "</table>\n",
       "<p>5 rows × 24 columns</p>\n",
       "</div>"
      ],
      "text/plain": [
       "   dataset_id  TRAN_AMT  ACCT_PRE_TRAN_AVAIL_BAL  CUST_AGE  OPEN_ACCT_CT  \\\n",
       "0           1     54.25                      0.0        23             4   \n",
       "1           2    110.30                      0.0        56             3   \n",
       "2           3    515.95                      0.0        33             5   \n",
       "3           4     42.78                      0.0        60             3   \n",
       "4           5      0.01                      0.0        61            12   \n",
       "\n",
       "   WF_dvc_age        PWD_UPDT_TS                           CARR_NAME  \\\n",
       "0         634  9/18/2020 9:33:44          charter communications inc   \n",
       "1        1876  5/16/2021 17:2:31                             comcast   \n",
       "2          40                NaN  point broadband fiber holding  llc   \n",
       "3         367    2/18/2021 4:5:0                  t-mobile usa  inc.   \n",
       "4         518   2/18/2018 4:7:20   comcast cable communications  llc   \n",
       "\n",
       "       RGN_NAME STATE_PRVNC_TXT  ... CUST_ZIP CUST_STATE     PH_NUM_UPDT_TS  \\\n",
       "0     southwest      california  ...    55414         MN   7/8/2018 9:45:37   \n",
       "1      mountain        colorado  ...    77095         TX                NaN   \n",
       "2  mid atlantic        virginia  ...    94102         CA    8/28/2018 1:4:7   \n",
       "3     southwest      california  ...    93263         CA   7/3/2019 6:29:28   \n",
       "4     southwest      california  ...    93313         CA  7/8/2020 11:45:37   \n",
       "\n",
       "         CUST_SINCE_DT             TRAN_TS    TRAN_DT ACTN_CD ACTN_INTNL_TXT  \\\n",
       "0  2011-02-19 00:00:00   1/8/2021 11:33:44   1/8/2021  SCHPMT     P2P_COMMIT   \n",
       "1  2001-11-20 00:00:00    2/27/2021 7:2:31  2/27/2021  SCHPMT     P2P_COMMIT   \n",
       "2  1999-10-17 00:00:00  4/22/2021 11:25:16  4/22/2021  SCHPMT     P2P_COMMIT   \n",
       "3  1998-07-03 00:00:00    6/17/2021 11:5:0  6/17/2021  SCHPMT     P2P_COMMIT   \n",
       "4  2002-07-30 00:00:00    5/8/2021 10:0:51   5/8/2021  SCHPMT     P2P_COMMIT   \n",
       "\n",
       "  TRAN_TYPE_CD   ACTVY_DT  \n",
       "0          P2P   1/8/2021  \n",
       "1          P2P  2/27/2021  \n",
       "2          P2P  4/22/2021  \n",
       "3          P2P  6/17/2021  \n",
       "4          P2P   5/8/2021  \n",
       "\n",
       "[5 rows x 24 columns]"
      ]
     },
     "execution_count": 20,
     "metadata": {},
     "output_type": "execute_result"
    }
   ],
   "source": [
    "dftest.head(5)"
   ]
  },
  {
   "cell_type": "code",
   "execution_count": null,
   "metadata": {},
   "outputs": [],
   "source": []
  },
  {
   "cell_type": "markdown",
   "metadata": {},
   "source": [
    "The test set contains 24 variables and 6,000 records. "
   ]
  },
  {
   "cell_type": "code",
   "execution_count": 21,
   "metadata": {},
   "outputs": [
    {
     "data": {
      "text/html": [
       "<div>\n",
       "<style scoped>\n",
       "    .dataframe tbody tr th:only-of-type {\n",
       "        vertical-align: middle;\n",
       "    }\n",
       "\n",
       "    .dataframe tbody tr th {\n",
       "        vertical-align: top;\n",
       "    }\n",
       "\n",
       "    .dataframe thead th {\n",
       "        text-align: right;\n",
       "    }\n",
       "</style>\n",
       "<table border=\"1\" class=\"dataframe\">\n",
       "  <thead>\n",
       "    <tr style=\"text-align: right;\">\n",
       "      <th></th>\n",
       "      <th>dataset_id</th>\n",
       "      <th>TRAN_AMT</th>\n",
       "      <th>ACCT_PRE_TRAN_AVAIL_BAL</th>\n",
       "      <th>CUST_AGE</th>\n",
       "      <th>OPEN_ACCT_CT</th>\n",
       "      <th>WF_dvc_age</th>\n",
       "      <th>CUST_ZIP</th>\n",
       "    </tr>\n",
       "  </thead>\n",
       "  <tbody>\n",
       "    <tr>\n",
       "      <th>count</th>\n",
       "      <td>6000.000000</td>\n",
       "      <td>6000.000000</td>\n",
       "      <td>6000.000000</td>\n",
       "      <td>6000.000000</td>\n",
       "      <td>6000.000000</td>\n",
       "      <td>6000.000000</td>\n",
       "      <td>6000.000000</td>\n",
       "    </tr>\n",
       "    <tr>\n",
       "      <th>mean</th>\n",
       "      <td>3000.500000</td>\n",
       "      <td>266.761870</td>\n",
       "      <td>10707.551100</td>\n",
       "      <td>53.690333</td>\n",
       "      <td>6.644833</td>\n",
       "      <td>614.424833</td>\n",
       "      <td>74763.916167</td>\n",
       "    </tr>\n",
       "    <tr>\n",
       "      <th>std</th>\n",
       "      <td>1732.195139</td>\n",
       "      <td>300.251429</td>\n",
       "      <td>30657.706826</td>\n",
       "      <td>18.845750</td>\n",
       "      <td>9.974113</td>\n",
       "      <td>669.629549</td>\n",
       "      <td>24346.009155</td>\n",
       "    </tr>\n",
       "    <tr>\n",
       "      <th>min</th>\n",
       "      <td>1.000000</td>\n",
       "      <td>0.010000</td>\n",
       "      <td>0.000000</td>\n",
       "      <td>13.000000</td>\n",
       "      <td>0.000000</td>\n",
       "      <td>-88.000000</td>\n",
       "      <td>0.000000</td>\n",
       "    </tr>\n",
       "    <tr>\n",
       "      <th>25%</th>\n",
       "      <td>1500.750000</td>\n",
       "      <td>11.432500</td>\n",
       "      <td>0.000000</td>\n",
       "      <td>39.000000</td>\n",
       "      <td>3.000000</td>\n",
       "      <td>71.000000</td>\n",
       "      <td>75002.000000</td>\n",
       "    </tr>\n",
       "    <tr>\n",
       "      <th>50%</th>\n",
       "      <td>3000.500000</td>\n",
       "      <td>144.195000</td>\n",
       "      <td>2492.690000</td>\n",
       "      <td>59.000000</td>\n",
       "      <td>5.000000</td>\n",
       "      <td>373.500000</td>\n",
       "      <td>85086.000000</td>\n",
       "    </tr>\n",
       "    <tr>\n",
       "      <th>75%</th>\n",
       "      <td>4500.250000</td>\n",
       "      <td>488.910000</td>\n",
       "      <td>4883.027500</td>\n",
       "      <td>68.000000</td>\n",
       "      <td>7.000000</td>\n",
       "      <td>968.250000</td>\n",
       "      <td>92253.000000</td>\n",
       "    </tr>\n",
       "    <tr>\n",
       "      <th>max</th>\n",
       "      <td>6000.000000</td>\n",
       "      <td>2305.550000</td>\n",
       "      <td>323860.060000</td>\n",
       "      <td>105.000000</td>\n",
       "      <td>227.000000</td>\n",
       "      <td>2782.000000</td>\n",
       "      <td>99801.000000</td>\n",
       "    </tr>\n",
       "  </tbody>\n",
       "</table>\n",
       "</div>"
      ],
      "text/plain": [
       "        dataset_id     TRAN_AMT ACCT_PRE_TRAN_AVAIL_BAL     CUST_AGE  \\\n",
       "count  6000.000000  6000.000000             6000.000000  6000.000000   \n",
       "mean   3000.500000   266.761870            10707.551100    53.690333   \n",
       "std    1732.195139   300.251429            30657.706826    18.845750   \n",
       "min       1.000000     0.010000                0.000000    13.000000   \n",
       "25%    1500.750000    11.432500                0.000000    39.000000   \n",
       "50%    3000.500000   144.195000             2492.690000    59.000000   \n",
       "75%    4500.250000   488.910000             4883.027500    68.000000   \n",
       "max    6000.000000  2305.550000           323860.060000   105.000000   \n",
       "\n",
       "      OPEN_ACCT_CT   WF_dvc_age      CUST_ZIP  \n",
       "count  6000.000000  6000.000000   6000.000000  \n",
       "mean      6.644833   614.424833  74763.916167  \n",
       "std       9.974113   669.629549  24346.009155  \n",
       "min       0.000000   -88.000000      0.000000  \n",
       "25%       3.000000    71.000000  75002.000000  \n",
       "50%       5.000000   373.500000  85086.000000  \n",
       "75%       7.000000   968.250000  92253.000000  \n",
       "max     227.000000  2782.000000  99801.000000  "
      ]
     },
     "execution_count": 21,
     "metadata": {},
     "output_type": "execute_result"
    }
   ],
   "source": [
    "#Data exploration for numerical\n",
    "dftest.nunique(axis=0)\n",
    "dftest.describe().apply(lambda s: s.apply(lambda x: format(x, 'f')))"
   ]
  },
  {
   "cell_type": "code",
   "execution_count": 22,
   "metadata": {},
   "outputs": [
    {
     "data": {
      "text/plain": [
       "PH_NUM_UPDT_TS             0.506000\n",
       "PWD_UPDT_TS                0.219667\n",
       "CARR_NAME                  0.195833\n",
       "RGN_NAME                   0.195833\n",
       "STATE_PRVNC_TXT            0.195833\n",
       "DVC_TYPE_TXT               0.133833\n",
       "AUTHC_SCNDRY_STAT_TXT      0.004333\n",
       "CUST_STATE                 0.003667\n",
       "dataset_id                 0.000000\n",
       "TRAN_TYPE_CD               0.000000\n",
       "ACTN_INTNL_TXT             0.000000\n",
       "ACTN_CD                    0.000000\n",
       "TRAN_DT                    0.000000\n",
       "TRAN_TS                    0.000000\n",
       "CUST_SINCE_DT              0.000000\n",
       "AUTHC_PRIM_TYPE_CD         0.000000\n",
       "CUST_ZIP                   0.000000\n",
       "TRAN_AMT                   0.000000\n",
       "ALERT_TRGR_CD              0.000000\n",
       "WF_dvc_age                 0.000000\n",
       "OPEN_ACCT_CT               0.000000\n",
       "CUST_AGE                   0.000000\n",
       "ACCT_PRE_TRAN_AVAIL_BAL    0.000000\n",
       "ACTVY_DT                   0.000000\n",
       "dtype: float64"
      ]
     },
     "execution_count": 22,
     "metadata": {},
     "output_type": "execute_result"
    }
   ],
   "source": [
    "# Identify the columns with missing values\n",
    "dftest.isnull().sum().sort_values(ascending = False)/len(dftest)"
   ]
  },
  {
   "cell_type": "code",
   "execution_count": 23,
   "metadata": {},
   "outputs": [],
   "source": [
    "dftest.drop(['PWD_UPDT_TS','PH_NUM_UPDT_TS'],inplace=True,axis=1)\n",
    "\n",
    "dftest[\"CARR_NAME\"].fillna(\"Unknown\", inplace = True)\n",
    "dftest[\"RGN_NAME\"].fillna(\"Unknown\", inplace = True)\n",
    "dftest[\"STATE_PRVNC_TXT\"].fillna(\"Unknown\", inplace = True)\n",
    "\n",
    "dftest = dftest.dropna()"
   ]
  },
  {
   "cell_type": "code",
   "execution_count": 24,
   "metadata": {},
   "outputs": [
    {
     "name": "stdout",
     "output_type": "stream",
     "text": [
      "SCHPMT    5151\n",
      "Name: ACTN_CD, dtype: int64\n",
      "P2P_COMMIT    5151\n",
      "Name: ACTN_INTNL_TXT, dtype: int64\n",
      "P2P    5151\n",
      "Name: TRAN_TYPE_CD, dtype: int64\n"
     ]
    }
   ],
   "source": [
    "print(dftest['ACTN_CD'].value_counts())\n",
    "print(dftest['ACTN_INTNL_TXT'].value_counts())\n",
    "print(dftest['TRAN_TYPE_CD'].value_counts())"
   ]
  },
  {
   "cell_type": "markdown",
   "metadata": {},
   "source": [
    "Since the three columns above only have one constant and distinct unit, they offer nothing in predicitve capability. They will be removed."
   ]
  },
  {
   "cell_type": "code",
   "execution_count": 25,
   "metadata": {},
   "outputs": [],
   "source": [
    "dftest.drop(['ACTN_CD','ACTN_INTNL_TXT','TRAN_TYPE_CD'],inplace=True,axis=1)"
   ]
  },
  {
   "cell_type": "code",
   "execution_count": 26,
   "metadata": {},
   "outputs": [
    {
     "name": "stdout",
     "output_type": "stream",
     "text": [
      "2/28/2021              74\n",
      "3/3/2021               50\n",
      "6/3/2021               44\n",
      "2/5/2021               40\n",
      "2/4/2021               38\n",
      "                       ..\n",
      "2021-11-27 00:00:00     1\n",
      "2021-06-03 00:00:00     1\n",
      "2021-09-24 00:00:00     1\n",
      "2021-12-11 00:00:00     1\n",
      "2021-08-27 00:00:00     1\n",
      "Name: TRAN_DT, Length: 276, dtype: int64\n",
      "2/28/2021              74\n",
      "3/3/2021               50\n",
      "6/3/2021               44\n",
      "2/5/2021               40\n",
      "2/4/2021               38\n",
      "                       ..\n",
      "2021-11-27 00:00:00     1\n",
      "2021-06-03 00:00:00     1\n",
      "2021-09-24 00:00:00     1\n",
      "2021-12-11 00:00:00     1\n",
      "2021-08-27 00:00:00     1\n",
      "Name: ACTVY_DT, Length: 276, dtype: int64\n"
     ]
    }
   ],
   "source": [
    "print(dftest['TRAN_DT'].value_counts())\n",
    "print(dftest['ACTVY_DT'].value_counts())\n",
    "#The columns are redundant. We can remove one.\n",
    "dftest.drop(['TRAN_DT'],inplace=True,axis=1)"
   ]
  },
  {
   "cell_type": "code",
   "execution_count": 27,
   "metadata": {},
   "outputs": [],
   "source": [
    "#Remove final columns with information that is redundant or not useful such as zipcode\n",
    "dftest.drop(['dataset_id','CUST_ZIP','CUST_SINCE_DT','TRAN_TS','ACTVY_DT'], inplace = True,axis=1)"
   ]
  },
  {
   "cell_type": "code",
   "execution_count": 28,
   "metadata": {},
   "outputs": [
    {
     "data": {
      "text/plain": [
       "TRAN_AMT                   float64\n",
       "ACCT_PRE_TRAN_AVAIL_BAL    float64\n",
       "CUST_AGE                     int64\n",
       "OPEN_ACCT_CT                 int64\n",
       "WF_dvc_age                   int64\n",
       "CARR_NAME                   object\n",
       "RGN_NAME                    object\n",
       "STATE_PRVNC_TXT             object\n",
       "ALERT_TRGR_CD               object\n",
       "DVC_TYPE_TXT                object\n",
       "AUTHC_PRIM_TYPE_CD          object\n",
       "AUTHC_SCNDRY_STAT_TXT       object\n",
       "CUST_STATE                  object\n",
       "dtype: object"
      ]
     },
     "execution_count": 28,
     "metadata": {},
     "output_type": "execute_result"
    }
   ],
   "source": [
    "dftest.dtypes"
   ]
  },
  {
   "cell_type": "code",
   "execution_count": 29,
   "metadata": {},
   "outputs": [
    {
     "data": {
      "text/plain": [
       "TRAN_AMT                   float64\n",
       "ACCT_PRE_TRAN_AVAIL_BAL    float64\n",
       "CUST_AGE                     int64\n",
       "OPEN_ACCT_CT                 int64\n",
       "WF_dvc_age                   int64\n",
       "CARR_NAME                  float64\n",
       "RGN_NAME                   float64\n",
       "STATE_PRVNC_TXT            float64\n",
       "ALERT_TRGR_CD              float64\n",
       "DVC_TYPE_TXT               float64\n",
       "AUTHC_PRIM_TYPE_CD         float64\n",
       "AUTHC_SCNDRY_STAT_TXT      float64\n",
       "CUST_STATE                 float64\n",
       "dtype: object"
      ]
     },
     "execution_count": 29,
     "metadata": {},
     "output_type": "execute_result"
    }
   ],
   "source": [
    "ord_enc = OrdinalEncoder()\n",
    "dftest[\"RGN_NAME\"] = ord_enc.fit_transform(dftest[[\"RGN_NAME\"]])\n",
    "dftest[\"STATE_PRVNC_TXT\"] = ord_enc.fit_transform(dftest[[\"STATE_PRVNC_TXT\"]])\n",
    "dftest[\"CARR_NAME\"] = ord_enc.fit_transform(dftest[[\"CARR_NAME\"]])\n",
    "dftest[\"ALERT_TRGR_CD\"] = ord_enc.fit_transform(dftest[[\"ALERT_TRGR_CD\"]])\n",
    "dftest[\"DVC_TYPE_TXT\"] = ord_enc.fit_transform(dftest[[\"DVC_TYPE_TXT\"]])\n",
    "dftest[\"AUTHC_PRIM_TYPE_CD\"] = ord_enc.fit_transform(dftest[[\"AUTHC_PRIM_TYPE_CD\"]])\n",
    "dftest[\"AUTHC_SCNDRY_STAT_TXT\"] = ord_enc.fit_transform(dftest[[\"AUTHC_SCNDRY_STAT_TXT\"]])\n",
    "dftest[\"CUST_STATE\"] = ord_enc.fit_transform(dftest[[\"CUST_STATE\"]])\n",
    "dftest.dtypes"
   ]
  },
  {
   "cell_type": "code",
   "execution_count": 30,
   "metadata": {},
   "outputs": [
    {
     "data": {
      "image/png": "[encoded data removed]",
      "text/plain": [
       "<Figure size 432x288 with 2 Axes>"
      ]
     },
     "metadata": {
      "needs_background": "light"
     },
     "output_type": "display_data"
    }
   ],
   "source": [
    "#Examine correlations between variables and response\n",
    "corr = dftest.corr()\n",
    "ax = sns.heatmap(\n",
    "    corr, \n",
    "    vmin=-1, vmax=1, center=0,\n",
    "    cmap=sns.diverging_palette(20, 220, n=200),\n",
    "    square=True\n",
    ")\n",
    "ax.set_xticklabels(\n",
    "    ax.get_xticklabels(),\n",
    "    rotation=45,\n",
    "    horizontalalignment='right'\n",
    ");"
   ]
  },
  {
   "cell_type": "markdown",
   "metadata": {},
   "source": [
    "Finally, variables will be scaled so they can be used in the Data Modelling phase."
   ]
  },
  {
   "cell_type": "code",
   "execution_count": 31,
   "metadata": {},
   "outputs": [
    {
     "data": {
      "text/html": [
       "<div>\n",
       "<style scoped>\n",
       "    .dataframe tbody tr th:only-of-type {\n",
       "        vertical-align: middle;\n",
       "    }\n",
       "\n",
       "    .dataframe tbody tr th {\n",
       "        vertical-align: top;\n",
       "    }\n",
       "\n",
       "    .dataframe thead th {\n",
       "        text-align: right;\n",
       "    }\n",
       "</style>\n",
       "<table border=\"1\" class=\"dataframe\">\n",
       "  <thead>\n",
       "    <tr style=\"text-align: right;\">\n",
       "      <th></th>\n",
       "      <th>TRAN_AMT</th>\n",
       "      <th>ACCT_PRE_TRAN_AVAIL_BAL</th>\n",
       "      <th>CUST_AGE</th>\n",
       "      <th>OPEN_ACCT_CT</th>\n",
       "      <th>WF_dvc_age</th>\n",
       "      <th>CARR_NAME</th>\n",
       "      <th>RGN_NAME</th>\n",
       "      <th>STATE_PRVNC_TXT</th>\n",
       "      <th>ALERT_TRGR_CD</th>\n",
       "      <th>DVC_TYPE_TXT</th>\n",
       "      <th>AUTHC_PRIM_TYPE_CD</th>\n",
       "      <th>AUTHC_SCNDRY_STAT_TXT</th>\n",
       "      <th>CUST_STATE</th>\n",
       "      <th>FRAUD_NONFRAUD</th>\n",
       "    </tr>\n",
       "  </thead>\n",
       "  <tbody>\n",
       "    <tr>\n",
       "      <th>2</th>\n",
       "      <td>54.84</td>\n",
       "      <td>34570.63</td>\n",
       "      <td>36</td>\n",
       "      <td>8</td>\n",
       "      <td>1531</td>\n",
       "      <td>480.0</td>\n",
       "      <td>7.0</td>\n",
       "      <td>111.0</td>\n",
       "      <td>1.0</td>\n",
       "      <td>0.0</td>\n",
       "      <td>4.0</td>\n",
       "      <td>0.0</td>\n",
       "      <td>20.0</td>\n",
       "      <td>0</td>\n",
       "    </tr>\n",
       "    <tr>\n",
       "      <th>3</th>\n",
       "      <td>0.01</td>\n",
       "      <td>0.00</td>\n",
       "      <td>62</td>\n",
       "      <td>3</td>\n",
       "      <td>835</td>\n",
       "      <td>424.0</td>\n",
       "      <td>16.0</td>\n",
       "      <td>14.0</td>\n",
       "      <td>0.0</td>\n",
       "      <td>1.0</td>\n",
       "      <td>4.0</td>\n",
       "      <td>0.0</td>\n",
       "      <td>32.0</td>\n",
       "      <td>1</td>\n",
       "    </tr>\n",
       "    <tr>\n",
       "      <th>4</th>\n",
       "      <td>497.08</td>\n",
       "      <td>12725.18</td>\n",
       "      <td>81</td>\n",
       "      <td>2</td>\n",
       "      <td>1095</td>\n",
       "      <td>89.0</td>\n",
       "      <td>13.0</td>\n",
       "      <td>108.0</td>\n",
       "      <td>0.0</td>\n",
       "      <td>1.0</td>\n",
       "      <td>4.0</td>\n",
       "      <td>2.0</td>\n",
       "      <td>42.0</td>\n",
       "      <td>0</td>\n",
       "    </tr>\n",
       "    <tr>\n",
       "      <th>5</th>\n",
       "      <td>488.55</td>\n",
       "      <td>2851.44</td>\n",
       "      <td>45</td>\n",
       "      <td>8</td>\n",
       "      <td>1</td>\n",
       "      <td>462.0</td>\n",
       "      <td>16.0</td>\n",
       "      <td>14.0</td>\n",
       "      <td>1.0</td>\n",
       "      <td>1.0</td>\n",
       "      <td>3.0</td>\n",
       "      <td>0.0</td>\n",
       "      <td>5.0</td>\n",
       "      <td>0</td>\n",
       "    </tr>\n",
       "    <tr>\n",
       "      <th>7</th>\n",
       "      <td>468.40</td>\n",
       "      <td>0.00</td>\n",
       "      <td>56</td>\n",
       "      <td>6</td>\n",
       "      <td>47</td>\n",
       "      <td>424.0</td>\n",
       "      <td>16.0</td>\n",
       "      <td>14.0</td>\n",
       "      <td>1.0</td>\n",
       "      <td>1.0</td>\n",
       "      <td>4.0</td>\n",
       "      <td>0.0</td>\n",
       "      <td>4.0</td>\n",
       "      <td>1</td>\n",
       "    </tr>\n",
       "  </tbody>\n",
       "</table>\n",
       "</div>"
      ],
      "text/plain": [
       "   TRAN_AMT  ACCT_PRE_TRAN_AVAIL_BAL  CUST_AGE  OPEN_ACCT_CT  WF_dvc_age  \\\n",
       "2     54.84                 34570.63        36             8        1531   \n",
       "3      0.01                     0.00        62             3         835   \n",
       "4    497.08                 12725.18        81             2        1095   \n",
       "5    488.55                  2851.44        45             8           1   \n",
       "7    468.40                     0.00        56             6          47   \n",
       "\n",
       "   CARR_NAME  RGN_NAME  STATE_PRVNC_TXT  ALERT_TRGR_CD  DVC_TYPE_TXT  \\\n",
       "2      480.0       7.0            111.0            1.0           0.0   \n",
       "3      424.0      16.0             14.0            0.0           1.0   \n",
       "4       89.0      13.0            108.0            0.0           1.0   \n",
       "5      462.0      16.0             14.0            1.0           1.0   \n",
       "7      424.0      16.0             14.0            1.0           1.0   \n",
       "\n",
       "   AUTHC_PRIM_TYPE_CD  AUTHC_SCNDRY_STAT_TXT  CUST_STATE  FRAUD_NONFRAUD  \n",
       "2                 4.0                    0.0        20.0               0  \n",
       "3                 4.0                    0.0        32.0               1  \n",
       "4                 4.0                    2.0        42.0               0  \n",
       "5                 3.0                    0.0         5.0               0  \n",
       "7                 4.0                    0.0         4.0               1  "
      ]
     },
     "execution_count": 31,
     "metadata": {},
     "output_type": "execute_result"
    }
   ],
   "source": [
    "dftrain.head()"
   ]
  },
  {
   "cell_type": "code",
   "execution_count": 32,
   "metadata": {},
   "outputs": [
    {
     "data": {
      "text/html": [
       "<div>\n",
       "<style scoped>\n",
       "    .dataframe tbody tr th:only-of-type {\n",
       "        vertical-align: middle;\n",
       "    }\n",
       "\n",
       "    .dataframe tbody tr th {\n",
       "        vertical-align: top;\n",
       "    }\n",
       "\n",
       "    .dataframe thead th {\n",
       "        text-align: right;\n",
       "    }\n",
       "</style>\n",
       "<table border=\"1\" class=\"dataframe\">\n",
       "  <thead>\n",
       "    <tr style=\"text-align: right;\">\n",
       "      <th></th>\n",
       "      <th>TRAN_AMT</th>\n",
       "      <th>ACCT_PRE_TRAN_AVAIL_BAL</th>\n",
       "      <th>CUST_AGE</th>\n",
       "      <th>OPEN_ACCT_CT</th>\n",
       "      <th>WF_dvc_age</th>\n",
       "      <th>CARR_NAME</th>\n",
       "      <th>RGN_NAME</th>\n",
       "      <th>STATE_PRVNC_TXT</th>\n",
       "      <th>ALERT_TRGR_CD</th>\n",
       "      <th>DVC_TYPE_TXT</th>\n",
       "      <th>AUTHC_PRIM_TYPE_CD</th>\n",
       "      <th>AUTHC_SCNDRY_STAT_TXT</th>\n",
       "      <th>CUST_STATE</th>\n",
       "    </tr>\n",
       "  </thead>\n",
       "  <tbody>\n",
       "    <tr>\n",
       "      <th>0</th>\n",
       "      <td>54.25</td>\n",
       "      <td>0.0</td>\n",
       "      <td>23</td>\n",
       "      <td>4</td>\n",
       "      <td>634</td>\n",
       "      <td>54.0</td>\n",
       "      <td>14.0</td>\n",
       "      <td>13.0</td>\n",
       "      <td>0.0</td>\n",
       "      <td>0.0</td>\n",
       "      <td>4.0</td>\n",
       "      <td>0.0</td>\n",
       "      <td>22.0</td>\n",
       "    </tr>\n",
       "    <tr>\n",
       "      <th>1</th>\n",
       "      <td>110.30</td>\n",
       "      <td>0.0</td>\n",
       "      <td>56</td>\n",
       "      <td>3</td>\n",
       "      <td>1876</td>\n",
       "      <td>65.0</td>\n",
       "      <td>7.0</td>\n",
       "      <td>16.0</td>\n",
       "      <td>1.0</td>\n",
       "      <td>1.0</td>\n",
       "      <td>4.0</td>\n",
       "      <td>0.0</td>\n",
       "      <td>40.0</td>\n",
       "    </tr>\n",
       "    <tr>\n",
       "      <th>2</th>\n",
       "      <td>515.95</td>\n",
       "      <td>0.0</td>\n",
       "      <td>33</td>\n",
       "      <td>5</td>\n",
       "      <td>40</td>\n",
       "      <td>217.0</td>\n",
       "      <td>5.0</td>\n",
       "      <td>88.0</td>\n",
       "      <td>0.0</td>\n",
       "      <td>1.0</td>\n",
       "      <td>4.0</td>\n",
       "      <td>0.0</td>\n",
       "      <td>4.0</td>\n",
       "    </tr>\n",
       "    <tr>\n",
       "      <th>3</th>\n",
       "      <td>42.78</td>\n",
       "      <td>0.0</td>\n",
       "      <td>60</td>\n",
       "      <td>3</td>\n",
       "      <td>367</td>\n",
       "      <td>275.0</td>\n",
       "      <td>14.0</td>\n",
       "      <td>13.0</td>\n",
       "      <td>0.0</td>\n",
       "      <td>1.0</td>\n",
       "      <td>4.0</td>\n",
       "      <td>0.0</td>\n",
       "      <td>4.0</td>\n",
       "    </tr>\n",
       "    <tr>\n",
       "      <th>4</th>\n",
       "      <td>0.01</td>\n",
       "      <td>0.0</td>\n",
       "      <td>61</td>\n",
       "      <td>12</td>\n",
       "      <td>518</td>\n",
       "      <td>66.0</td>\n",
       "      <td>14.0</td>\n",
       "      <td>13.0</td>\n",
       "      <td>0.0</td>\n",
       "      <td>1.0</td>\n",
       "      <td>4.0</td>\n",
       "      <td>0.0</td>\n",
       "      <td>4.0</td>\n",
       "    </tr>\n",
       "  </tbody>\n",
       "</table>\n",
       "</div>"
      ],
      "text/plain": [
       "   TRAN_AMT  ACCT_PRE_TRAN_AVAIL_BAL  CUST_AGE  OPEN_ACCT_CT  WF_dvc_age  \\\n",
       "0     54.25                      0.0        23             4         634   \n",
       "1    110.30                      0.0        56             3        1876   \n",
       "2    515.95                      0.0        33             5          40   \n",
       "3     42.78                      0.0        60             3         367   \n",
       "4      0.01                      0.0        61            12         518   \n",
       "\n",
       "   CARR_NAME  RGN_NAME  STATE_PRVNC_TXT  ALERT_TRGR_CD  DVC_TYPE_TXT  \\\n",
       "0       54.0      14.0             13.0            0.0           0.0   \n",
       "1       65.0       7.0             16.0            1.0           1.0   \n",
       "2      217.0       5.0             88.0            0.0           1.0   \n",
       "3      275.0      14.0             13.0            0.0           1.0   \n",
       "4       66.0      14.0             13.0            0.0           1.0   \n",
       "\n",
       "   AUTHC_PRIM_TYPE_CD  AUTHC_SCNDRY_STAT_TXT  CUST_STATE  \n",
       "0                 4.0                    0.0        22.0  \n",
       "1                 4.0                    0.0        40.0  \n",
       "2                 4.0                    0.0         4.0  \n",
       "3                 4.0                    0.0         4.0  \n",
       "4                 4.0                    0.0         4.0  "
      ]
     },
     "execution_count": 32,
     "metadata": {},
     "output_type": "execute_result"
    }
   ],
   "source": [
    "dftest.head()"
   ]
  },
  {
   "cell_type": "code",
   "execution_count": 33,
   "metadata": {},
   "outputs": [
    {
     "data": {
      "text/html": [
       "<div>\n",
       "<style scoped>\n",
       "    .dataframe tbody tr th:only-of-type {\n",
       "        vertical-align: middle;\n",
       "    }\n",
       "\n",
       "    .dataframe tbody tr th {\n",
       "        vertical-align: top;\n",
       "    }\n",
       "\n",
       "    .dataframe thead th {\n",
       "        text-align: right;\n",
       "    }\n",
       "</style>\n",
       "<table border=\"1\" class=\"dataframe\">\n",
       "  <thead>\n",
       "    <tr style=\"text-align: right;\">\n",
       "      <th></th>\n",
       "      <th>TRAN_AMT</th>\n",
       "      <th>ACCT_PRE_TRAN_AVAIL_BAL</th>\n",
       "      <th>CUST_AGE</th>\n",
       "      <th>OPEN_ACCT_CT</th>\n",
       "      <th>WF_dvc_age</th>\n",
       "      <th>CARR_NAME</th>\n",
       "      <th>RGN_NAME</th>\n",
       "      <th>STATE_PRVNC_TXT</th>\n",
       "      <th>ALERT_TRGR_CD</th>\n",
       "      <th>DVC_TYPE_TXT</th>\n",
       "      <th>AUTHC_PRIM_TYPE_CD</th>\n",
       "      <th>AUTHC_SCNDRY_STAT_TXT</th>\n",
       "      <th>CUST_STATE</th>\n",
       "      <th>FRAUD_NONFRAUD</th>\n",
       "    </tr>\n",
       "  </thead>\n",
       "  <tbody>\n",
       "    <tr>\n",
       "      <th>2</th>\n",
       "      <td>-0.661281</td>\n",
       "      <td>0.866082</td>\n",
       "      <td>-0.957306</td>\n",
       "      <td>0.162695</td>\n",
       "      <td>1.389259</td>\n",
       "      <td>2.648744</td>\n",
       "      <td>-0.713963</td>\n",
       "      <td>2.237051</td>\n",
       "      <td>1.0</td>\n",
       "      <td>0.0</td>\n",
       "      <td>0.527535</td>\n",
       "      <td>-0.221398</td>\n",
       "      <td>0.129713</td>\n",
       "      <td>0</td>\n",
       "    </tr>\n",
       "    <tr>\n",
       "      <th>3</th>\n",
       "      <td>-0.836247</td>\n",
       "      <td>-0.335911</td>\n",
       "      <td>0.439376</td>\n",
       "      <td>-0.407930</td>\n",
       "      <td>0.342598</td>\n",
       "      <td>2.230145</td>\n",
       "      <td>0.709027</td>\n",
       "      <td>-0.457697</td>\n",
       "      <td>0.0</td>\n",
       "      <td>1.0</td>\n",
       "      <td>0.527535</td>\n",
       "      <td>-0.221398</td>\n",
       "      <td>0.877741</td>\n",
       "      <td>1</td>\n",
       "    </tr>\n",
       "    <tr>\n",
       "      <th>4</th>\n",
       "      <td>0.749935</td>\n",
       "      <td>0.106533</td>\n",
       "      <td>1.460029</td>\n",
       "      <td>-0.522055</td>\n",
       "      <td>0.733592</td>\n",
       "      <td>-0.273978</td>\n",
       "      <td>0.234697</td>\n",
       "      <td>2.153708</td>\n",
       "      <td>0.0</td>\n",
       "      <td>1.0</td>\n",
       "      <td>0.527535</td>\n",
       "      <td>4.670312</td>\n",
       "      <td>1.501098</td>\n",
       "      <td>0</td>\n",
       "    </tr>\n",
       "    <tr>\n",
       "      <th>5</th>\n",
       "      <td>0.722715</td>\n",
       "      <td>-0.236768</td>\n",
       "      <td>-0.473839</td>\n",
       "      <td>0.162695</td>\n",
       "      <td>-0.911590</td>\n",
       "      <td>2.514194</td>\n",
       "      <td>0.709027</td>\n",
       "      <td>-0.457697</td>\n",
       "      <td>1.0</td>\n",
       "      <td>1.0</td>\n",
       "      <td>-0.526059</td>\n",
       "      <td>-0.221398</td>\n",
       "      <td>-0.805322</td>\n",
       "      <td>0</td>\n",
       "    </tr>\n",
       "    <tr>\n",
       "      <th>7</th>\n",
       "      <td>0.658415</td>\n",
       "      <td>-0.335911</td>\n",
       "      <td>0.117065</td>\n",
       "      <td>-0.065555</td>\n",
       "      <td>-0.842414</td>\n",
       "      <td>2.230145</td>\n",
       "      <td>0.709027</td>\n",
       "      <td>-0.457697</td>\n",
       "      <td>1.0</td>\n",
       "      <td>1.0</td>\n",
       "      <td>0.527535</td>\n",
       "      <td>-0.221398</td>\n",
       "      <td>-0.867657</td>\n",
       "      <td>1</td>\n",
       "    </tr>\n",
       "  </tbody>\n",
       "</table>\n",
       "</div>"
      ],
      "text/plain": [
       "   TRAN_AMT  ACCT_PRE_TRAN_AVAIL_BAL  CUST_AGE  OPEN_ACCT_CT  WF_dvc_age  \\\n",
       "2 -0.661281                 0.866082 -0.957306      0.162695    1.389259   \n",
       "3 -0.836247                -0.335911  0.439376     -0.407930    0.342598   \n",
       "4  0.749935                 0.106533  1.460029     -0.522055    0.733592   \n",
       "5  0.722715                -0.236768 -0.473839      0.162695   -0.911590   \n",
       "7  0.658415                -0.335911  0.117065     -0.065555   -0.842414   \n",
       "\n",
       "   CARR_NAME  RGN_NAME  STATE_PRVNC_TXT  ALERT_TRGR_CD  DVC_TYPE_TXT  \\\n",
       "2   2.648744 -0.713963         2.237051            1.0           0.0   \n",
       "3   2.230145  0.709027        -0.457697            0.0           1.0   \n",
       "4  -0.273978  0.234697         2.153708            0.0           1.0   \n",
       "5   2.514194  0.709027        -0.457697            1.0           1.0   \n",
       "7   2.230145  0.709027        -0.457697            1.0           1.0   \n",
       "\n",
       "   AUTHC_PRIM_TYPE_CD  AUTHC_SCNDRY_STAT_TXT  CUST_STATE  FRAUD_NONFRAUD  \n",
       "2            0.527535              -0.221398    0.129713               0  \n",
       "3            0.527535              -0.221398    0.877741               1  \n",
       "4            0.527535               4.670312    1.501098               0  \n",
       "5           -0.526059              -0.221398   -0.805322               0  \n",
       "7            0.527535              -0.221398   -0.867657               1  "
      ]
     },
     "execution_count": 33,
     "metadata": {},
     "output_type": "execute_result"
    }
   ],
   "source": [
    "# scale all non-binary variables in training set\n",
    "scaler = preprocessing.StandardScaler()\n",
    "\n",
    "scaler.fit(dftrain[['TRAN_AMT','ACCT_PRE_TRAN_AVAIL_BAL','CUST_AGE','OPEN_ACCT_CT','WF_dvc_age','CARR_NAME','RGN_NAME','STATE_PRVNC_TXT','AUTHC_PRIM_TYPE_CD','AUTHC_SCNDRY_STAT_TXT','CUST_STATE']])\n",
    "\n",
    "dftrain[['TRAN_AMT','ACCT_PRE_TRAN_AVAIL_BAL','CUST_AGE','OPEN_ACCT_CT','WF_dvc_age','CARR_NAME','RGN_NAME','STATE_PRVNC_TXT','AUTHC_PRIM_TYPE_CD','AUTHC_SCNDRY_STAT_TXT','CUST_STATE']] = scaler.transform(dftrain[['TRAN_AMT','ACCT_PRE_TRAN_AVAIL_BAL','CUST_AGE','OPEN_ACCT_CT','WF_dvc_age','CARR_NAME','RGN_NAME','STATE_PRVNC_TXT','AUTHC_PRIM_TYPE_CD','AUTHC_SCNDRY_STAT_TXT','CUST_STATE']])\n",
    "\n",
    "dftrain.head()"
   ]
  },
  {
   "cell_type": "code",
   "execution_count": 34,
   "metadata": {},
   "outputs": [
    {
     "data": {
      "text/html": [
       "<div>\n",
       "<style scoped>\n",
       "    .dataframe tbody tr th:only-of-type {\n",
       "        vertical-align: middle;\n",
       "    }\n",
       "\n",
       "    .dataframe tbody tr th {\n",
       "        vertical-align: top;\n",
       "    }\n",
       "\n",
       "    .dataframe thead th {\n",
       "        text-align: right;\n",
       "    }\n",
       "</style>\n",
       "<table border=\"1\" class=\"dataframe\">\n",
       "  <thead>\n",
       "    <tr style=\"text-align: right;\">\n",
       "      <th></th>\n",
       "      <th>TRAN_AMT</th>\n",
       "      <th>ACCT_PRE_TRAN_AVAIL_BAL</th>\n",
       "      <th>CUST_AGE</th>\n",
       "      <th>OPEN_ACCT_CT</th>\n",
       "      <th>WF_dvc_age</th>\n",
       "      <th>CARR_NAME</th>\n",
       "      <th>RGN_NAME</th>\n",
       "      <th>STATE_PRVNC_TXT</th>\n",
       "      <th>ALERT_TRGR_CD</th>\n",
       "      <th>DVC_TYPE_TXT</th>\n",
       "      <th>AUTHC_PRIM_TYPE_CD</th>\n",
       "      <th>AUTHC_SCNDRY_STAT_TXT</th>\n",
       "      <th>CUST_STATE</th>\n",
       "    </tr>\n",
       "  </thead>\n",
       "  <tbody>\n",
       "    <tr>\n",
       "      <th>0</th>\n",
       "      <td>-0.670662</td>\n",
       "      <td>-0.342732</td>\n",
       "      <td>-1.631520</td>\n",
       "      <td>-0.271948</td>\n",
       "      <td>0.042148</td>\n",
       "      <td>-0.364649</td>\n",
       "      <td>0.689701</td>\n",
       "      <td>-0.426074</td>\n",
       "      <td>0.0</td>\n",
       "      <td>0.0</td>\n",
       "      <td>0.531213</td>\n",
       "      <td>-0.229209</td>\n",
       "      <td>0.304391</td>\n",
       "    </tr>\n",
       "    <tr>\n",
       "      <th>1</th>\n",
       "      <td>-0.484140</td>\n",
       "      <td>-0.342732</td>\n",
       "      <td>0.129779</td>\n",
       "      <td>-0.380673</td>\n",
       "      <td>1.911049</td>\n",
       "      <td>-0.237591</td>\n",
       "      <td>-0.582543</td>\n",
       "      <td>-0.317357</td>\n",
       "      <td>1.0</td>\n",
       "      <td>1.0</td>\n",
       "      <td>0.531213</td>\n",
       "      <td>-0.229209</td>\n",
       "      <td>1.454643</td>\n",
       "    </tr>\n",
       "    <tr>\n",
       "      <th>2</th>\n",
       "      <td>0.865780</td>\n",
       "      <td>-0.342732</td>\n",
       "      <td>-1.097793</td>\n",
       "      <td>-0.163224</td>\n",
       "      <td>-0.851674</td>\n",
       "      <td>1.518115</td>\n",
       "      <td>-0.946041</td>\n",
       "      <td>2.291851</td>\n",
       "      <td>0.0</td>\n",
       "      <td>1.0</td>\n",
       "      <td>0.531213</td>\n",
       "      <td>-0.229209</td>\n",
       "      <td>-0.845860</td>\n",
       "    </tr>\n",
       "    <tr>\n",
       "      <th>3</th>\n",
       "      <td>-0.708832</td>\n",
       "      <td>-0.342732</td>\n",
       "      <td>0.343270</td>\n",
       "      <td>-0.380673</td>\n",
       "      <td>-0.359621</td>\n",
       "      <td>2.188056</td>\n",
       "      <td>0.689701</td>\n",
       "      <td>-0.426074</td>\n",
       "      <td>0.0</td>\n",
       "      <td>1.0</td>\n",
       "      <td>0.531213</td>\n",
       "      <td>-0.229209</td>\n",
       "      <td>-0.845860</td>\n",
       "    </tr>\n",
       "    <tr>\n",
       "      <th>4</th>\n",
       "      <td>-0.851162</td>\n",
       "      <td>-0.342732</td>\n",
       "      <td>0.396643</td>\n",
       "      <td>0.597847</td>\n",
       "      <td>-0.132403</td>\n",
       "      <td>-0.226040</td>\n",
       "      <td>0.689701</td>\n",
       "      <td>-0.426074</td>\n",
       "      <td>0.0</td>\n",
       "      <td>1.0</td>\n",
       "      <td>0.531213</td>\n",
       "      <td>-0.229209</td>\n",
       "      <td>-0.845860</td>\n",
       "    </tr>\n",
       "  </tbody>\n",
       "</table>\n",
       "</div>"
      ],
      "text/plain": [
       "   TRAN_AMT  ACCT_PRE_TRAN_AVAIL_BAL  CUST_AGE  OPEN_ACCT_CT  WF_dvc_age  \\\n",
       "0 -0.670662                -0.342732 -1.631520     -0.271948    0.042148   \n",
       "1 -0.484140                -0.342732  0.129779     -0.380673    1.911049   \n",
       "2  0.865780                -0.342732 -1.097793     -0.163224   -0.851674   \n",
       "3 -0.708832                -0.342732  0.343270     -0.380673   -0.359621   \n",
       "4 -0.851162                -0.342732  0.396643      0.597847   -0.132403   \n",
       "\n",
       "   CARR_NAME  RGN_NAME  STATE_PRVNC_TXT  ALERT_TRGR_CD  DVC_TYPE_TXT  \\\n",
       "0  -0.364649  0.689701        -0.426074            0.0           0.0   \n",
       "1  -0.237591 -0.582543        -0.317357            1.0           1.0   \n",
       "2   1.518115 -0.946041         2.291851            0.0           1.0   \n",
       "3   2.188056  0.689701        -0.426074            0.0           1.0   \n",
       "4  -0.226040  0.689701        -0.426074            0.0           1.0   \n",
       "\n",
       "   AUTHC_PRIM_TYPE_CD  AUTHC_SCNDRY_STAT_TXT  CUST_STATE  \n",
       "0            0.531213              -0.229209    0.304391  \n",
       "1            0.531213              -0.229209    1.454643  \n",
       "2            0.531213              -0.229209   -0.845860  \n",
       "3            0.531213              -0.229209   -0.845860  \n",
       "4            0.531213              -0.229209   -0.845860  "
      ]
     },
     "execution_count": 34,
     "metadata": {},
     "output_type": "execute_result"
    }
   ],
   "source": [
    "# scale all non-binary variables in test set\n",
    "scaler = preprocessing.StandardScaler()\n",
    "\n",
    "scaler.fit(dftest[['TRAN_AMT','ACCT_PRE_TRAN_AVAIL_BAL','CUST_AGE','OPEN_ACCT_CT','WF_dvc_age','CARR_NAME','RGN_NAME','STATE_PRVNC_TXT','AUTHC_PRIM_TYPE_CD','AUTHC_SCNDRY_STAT_TXT','CUST_STATE']])\n",
    "\n",
    "dftest[['TRAN_AMT','ACCT_PRE_TRAN_AVAIL_BAL','CUST_AGE','OPEN_ACCT_CT','WF_dvc_age','CARR_NAME','RGN_NAME','STATE_PRVNC_TXT','AUTHC_PRIM_TYPE_CD','AUTHC_SCNDRY_STAT_TXT','CUST_STATE']] = scaler.transform(dftest[['TRAN_AMT','ACCT_PRE_TRAN_AVAIL_BAL','CUST_AGE','OPEN_ACCT_CT','WF_dvc_age','CARR_NAME','RGN_NAME','STATE_PRVNC_TXT','AUTHC_PRIM_TYPE_CD','AUTHC_SCNDRY_STAT_TXT','CUST_STATE']])\n",
    "\n",
    "dftest.head()"
   ]
  },
  {
   "cell_type": "code",
   "execution_count": 35,
   "metadata": {},
   "outputs": [],
   "source": [
    "# Create train, valid split\n",
    "train,valid = train_test_split(dftrain, test_size=0.25, random_state=1, stratify=dftrain['FRAUD_NONFRAUD'])\n",
    "\n",
    "\n",
    "train_X = train.drop(columns='FRAUD_NONFRAUD')\n",
    "train_y = train['FRAUD_NONFRAUD']\n",
    "\n",
    "valid_X = valid.drop(columns='FRAUD_NONFRAUD')\n",
    "valid_y = valid['FRAUD_NONFRAUD']\n",
    "\n",
    "test_X = dftest.copy()"
   ]
  },
  {
   "cell_type": "markdown",
   "metadata": {},
   "source": [
    "Because this data set comes from a competition, the test data provided does not have a labelled y variable to measure results (i.e. there is no 'FRAUD_NONFRAUD' column).\n",
    "\n",
    "Instead, the training data provided by the competition will be split into train and validation sets. Performance will be measured against the valid set."
   ]
  },
  {
   "cell_type": "markdown",
   "metadata": {},
   "source": [
    "## Data Modelling"
   ]
  },
  {
   "cell_type": "markdown",
   "metadata": {},
   "source": [
    "A series of models will be used to create the best chance of classifying transactions as FRAUD or NONFRAUD. \n",
    "\n",
    "The first model being used, logistic regression, will be used to build a predictor profile and also incorporate techniques to find the best set of variables overall. \n",
    "\n",
    "This knowledge will inform some of the other models being tested.\n",
    "\n",
    "Overall, the following models will be used in this study:\n",
    "\n",
    "- Model 1: Logistic Regression\n",
    "\n",
    "- Model 2: XGBoost\n",
    "\n",
    "- Model 3: \n",
    "\n",
    "- Model 4: \n",
    "\n"
   ]
  },
  {
   "cell_type": "markdown",
   "metadata": {},
   "source": [
    "#### Model 1: Logistic Regression"
   ]
  },
  {
   "cell_type": "markdown",
   "metadata": {},
   "source": [
    "Feature importance will be determined using a basic logistic regression model. Further processing will then be done to tune and find the best model possible. "
   ]
  },
  {
   "cell_type": "code",
   "execution_count": 36,
   "metadata": {},
   "outputs": [
    {
     "name": "stdout",
     "output_type": "stream",
     "text": [
      "Feature: 0, Score: -0.71224\n",
      "Feature: 1, Score: 0.04299\n",
      "Feature: 2, Score: -0.14150\n",
      "Feature: 3, Score: 0.21406\n",
      "Feature: 4, Score: 0.23602\n",
      "Feature: 5, Score: -0.11286\n",
      "Feature: 6, Score: 1.15457\n",
      "Feature: 7, Score: -0.16752\n",
      "Feature: 8, Score: -0.75334\n",
      "Feature: 9, Score: 0.86405\n",
      "Feature: 10, Score: -0.20891\n",
      "Feature: 11, Score: -0.20879\n",
      "Feature: 12, Score: -0.09925\n"
     ]
    },
    {
     "data": {
      "image/png": "[encoded data removed]",
      "text/plain": [
       "<Figure size 432x288 with 1 Axes>"
      ]
     },
     "metadata": {
      "needs_background": "light"
     },
     "output_type": "display_data"
    }
   ],
   "source": [
    "# Create base log_reg model\n",
    "\n",
    "log_reg = LogisticRegression(random_state=1, penalty='l2')\n",
    "\n",
    "# Fit model\n",
    "\n",
    "log_reg.fit(train_X, train_y)\n",
    "\n",
    "# Get feature importance\n",
    "importance = log_reg.coef_[0]\n",
    "features = ['TRAN_AMT','ACCT_PRE_TRAN_AVAIL_BAL','CUST_AGE','OPEN_ACCT_CT','WF_dvc_age',\n",
    "            'CARR_NAME', 'RGN_NAME','STATE_PRVNC_TXT', 'ALERT_TRGR_CD', 'DVC_TYPE_TXT', \n",
    "            'AUTHC_PRIM_TYPE_CD', 'AUTHC_SCNDRY_STAT_TXT', 'CUST_STATE']\n",
    "\n",
    "# Summarize feature importance\n",
    "for i,v in enumerate(importance):\n",
    "    print('Feature: %0d, Score: %.5f' % (i,v))    \n",
    "\n",
    "# Plot feature importance\n",
    "ax = plt.bar([x for x in range(len(importance))], importance)\n",
    "\n",
    "plt.show()\n",
    "\n",
    "\n",
    "#### Need to add labels to ths plot will figure it out#####\n",
    "\n",
    "##### Above 0 are features that help with class 1 predictions. Below 0 lean more towards 0 predictions #####\n",
    "### In our case we care more about the class 0, which is Fraud. hence, features selected are:\n",
    "\n",
    "\n",
    "#####Based on this information, logreg_features = ['TRAN_AMT','CUST_AGE','CARR_NAME','STATE_PRVNC_TXT','ALERT_TRGR_CD','AUTHC_PRIM_TYPE_CD', 'AUTHC_SCNDRY_STAT_TXT', 'CUST_STATE']"
   ]
  },
  {
   "cell_type": "markdown",
   "metadata": {},
   "source": [
    "Based on feature importance metrics, the features in the next code box are ones that will assist with FRAUD_NONFRAUD = 1 predictions. \n",
    "\n",
    "Now the logistic regression model will be tuned using k-fold cross-validation and gridsearch, to maximize the f1 score on predictions for the validation set. "
   ]
  },
  {
   "cell_type": "code",
   "execution_count": 41,
   "metadata": {},
   "outputs": [],
   "source": [
    "########### Logistic Regression (with k-Fold CV, Class Weights and Hyperparameter Tuning) ###########\n",
    "\n",
    "logreg_features = ['TRAN_AMT','CUST_AGE','CARR_NAME','STATE_PRVNC_TXT','ALERT_TRGR_CD',\n",
    "                   'AUTHC_PRIM_TYPE_CD', 'AUTHC_SCNDRY_STAT_TXT', 'CUST_STATE']\n",
    "\n",
    "# Create copies of train and test code for log_reg\n",
    "\n",
    "train_X_log_reg = train_X[logreg_features].copy()\n",
    "train_y_log_reg = train_y.copy()\n",
    "\n",
    "valid_X_log_reg = valid_X[features].copy()\n",
    "valid_y_log_reg = valid_y.copy()"
   ]
  },
  {
   "cell_type": "code",
   "execution_count": 44,
   "metadata": {},
   "outputs": [
    {
     "data": {
      "text/plain": [
       "''"
      ]
     },
     "execution_count": 44,
     "metadata": {},
     "output_type": "execute_result"
    }
   ],
   "source": [
    "########### Logistic Regression (with k-Fold CV, Class Weights and Hyperparameter Tuning) ###########\n",
    "\n",
    "# Gridsearch on hyperparameters (class weight, penalty and regularization) to find optimal values\n",
    "# Stratified cross-validation will be used in gridsearch to retain Class 1 records in each split\n",
    "# Performance will be scored on f1, to balance number of positive predictions made with sensitivity. \n",
    "\n",
    "\n",
    "cv = RepeatedStratifiedKFold(n_splits=5, n_repeats=3, random_state=1)\n",
    "\n",
    "w = [{0:1.0,0:0.01}, {0:10,1:0.01}, {0:100,1:0.01}, \n",
    "     {0:1.0,1:0.001}, {0:10,1:0.1}, {0:100,1:0.1}, \n",
    "     {0:10,1:0.01}, {0:1.0,1:0.01}, {0:1.0,1:0.001}, {0:1.0,1:0.005}, \n",
    "     {0:1.0,1:10} ]\n",
    "crange = np.arange(0.5, 20.0, 0.5)\n",
    "hyperparam_grid = {\"class_weight\": w\n",
    "                   ,\"C\": crange\n",
    "                   ,\"fit_intercept\": [True, False]  }\n",
    "\n",
    "log_reg = LogisticRegression(random_state=1, penalty='l2')\n",
    "\n",
    "grid = GridSearchCV(log_reg,hyperparam_grid,scoring=\"balanced_accuracy\", cv=cv, n_jobs=-1, refit=True);\n",
    "\n",
    "grid.fit(train_X_log_reg,train_y_log_reg);\n",
    "\n",
    ";"
   ]
  },
  {
   "cell_type": "code",
   "execution_count": 45,
   "metadata": {},
   "outputs": [
    {
     "name": "stdout",
     "output_type": "stream",
     "text": [
      "Best score: 0.6791787131109177 with param: {'C': 0.5, 'class_weight': {0: 1.0, 1: 0.01}, 'fit_intercept': False}\n"
     ]
    }
   ],
   "source": [
    "########### Logistic Regression (with k-Fold CV, Class Weights and Hyperparameter Tuning) ###########\n",
    "\n",
    "# Best model score and best model parameters\n",
    "\n",
    "print(f'Best score: {grid.best_score_} with param: {grid.best_params_}')"
   ]
  },
  {
   "cell_type": "code",
   "execution_count": 46,
   "metadata": {},
   "outputs": [
    {
     "data": {
      "text/plain": [
       "LogisticRegression(C=0.5, class_weight={0: 1.0, 1: 0.01}, fit_intercept=False,\n",
       "                   random_state=1)"
      ]
     },
     "execution_count": 46,
     "metadata": {},
     "output_type": "execute_result"
    }
   ],
   "source": [
    "########### Logistic Regression (with k-Fold CV, Class Weights and Hyperparameter Tuning) ###########\n",
    "\n",
    "# Fit the model with the best score\n",
    "\n",
    "log_reg = LogisticRegression(random_state=1,C=0.5,class_weight={0: 1.0, 1: 0.01}, fit_intercept=False, penalty='l2') \n",
    "log_reg.fit(train_X_log_reg,train_y_log_reg)"
   ]
  },
  {
   "cell_type": "code",
   "execution_count": null,
   "metadata": {},
   "outputs": [],
   "source": []
  },
  {
   "cell_type": "code",
   "execution_count": null,
   "metadata": {},
   "outputs": [],
   "source": []
  },
  {
   "cell_type": "code",
   "execution_count": null,
   "metadata": {},
   "outputs": [],
   "source": []
  },
  {
   "cell_type": "code",
   "execution_count": null,
   "metadata": {},
   "outputs": [],
   "source": []
  },
  {
   "cell_type": "code",
   "execution_count": null,
   "metadata": {},
   "outputs": [],
   "source": []
  },
  {
   "cell_type": "markdown",
   "metadata": {},
   "source": [
    "## Model Evaluation"
   ]
  },
  {
   "cell_type": "code",
   "execution_count": 47,
   "metadata": {},
   "outputs": [],
   "source": [
    "########### Make Predictions, Plot CM and Evaluation Metrics ###########\n",
    "\n",
    "# Make predictions\n",
    "#knn_pred = knn.predict(valid_X)    Replace with final model\n",
    " \n",
    "log_reg_pred = log_reg.predict(valid_X[logreg_features])\n",
    "\n",
    "#boost_tree_pred = boost_tree.predict(valid_X) Replace with final model\n",
    " \n",
    "\n",
    "#xgboost_pred = xgboost.predict(valid_X) Replace with final model\n",
    " \n"
   ]
  },
  {
   "cell_type": "code",
   "execution_count": 48,
   "metadata": {},
   "outputs": [],
   "source": [
    "########### Make Predictions, Plot CM and Evaluation Metrics ###########\n",
    "\n",
    "# Create CM tables\n",
    "\n",
    "#cm_knn = confusion_matrix(valid_y, knn_pred)     Replace\n",
    "\n",
    "cm_log_reg = confusion_matrix(valid_y, log_reg_pred)\n",
    "\n",
    "#cm_boost_tree = confusion_matrix(valid_y, boost_tree_pred)    Replace\n",
    "\n",
    "#cm_xgboost = confusion_matrix(valid_y, xgboost_pred)          Replace"
   ]
  },
  {
   "cell_type": "code",
   "execution_count": 49,
   "metadata": {},
   "outputs": [
    {
     "data": {
      "image/png": "[encoded data removed]",
      "text/plain": [
       "<Figure size 864x864 with 4 Axes>"
      ]
     },
     "metadata": {
      "needs_background": "light"
     },
     "output_type": "display_data"
    }
   ],
   "source": [
    "# Plot CM's\n",
    "\n",
    "plt.figure(figsize=(12,12))\n",
    "plt.suptitle('Confusion Matrices for All Models', fontsize=30,fontweight='bold')\n",
    "\n",
    "plt.subplot(2,2,1)    #### Replace with model we end up using\n",
    "plt1 = sns.heatmap(cm_log_reg, cmap='YlGnBu', annot=True, xticklabels=[0,1], yticklabels=[0,1], cbar=False,fmt='g')\n",
    "plt1.set_title('Replace This',fontsize=14,fontweight='bold')\n",
    "plt1.set_xlabel(xlabel='Predicted',fontsize=14)\n",
    "plt1.set_ylabel(ylabel='Actual',fontsize=14)\n",
    "\n",
    "plt.subplot(2,2,2)    \n",
    "plt2 = sns.heatmap(cm_log_reg, cmap='YlGnBu', annot=True, xticklabels=[0,1], yticklabels=[0,1], cbar=False,fmt='g')\n",
    "plt2.set_title('Logistic Regresion',fontsize=14,fontweight='bold')\n",
    "plt2.set_xlabel(xlabel='Predicted',fontsize=14)\n",
    "plt2.set_ylabel(ylabel='Actual',fontsize=14)\n",
    "\n",
    "\n",
    "plt.subplot(2,2,3)  #### Replace with model we end up using\n",
    "plt3 = sns.heatmap(cm_log_reg, cmap='YlGnBu', annot=True, xticklabels=[0,1], yticklabels=[0,1], cbar=False,fmt='g')\n",
    "plt3.set_title('Replace this',fontsize=14,fontweight='bold')\n",
    "plt3.set_xlabel(xlabel='Predicted',fontsize=14)\n",
    "plt3.set_ylabel(ylabel='Actual',fontsize=14)\n",
    "\n",
    "\n",
    "plt.subplot(2,2,4)   #### Replace with model we end up using\n",
    "plt4 = sns.heatmap(cm_log_reg, cmap='YlGnBu', annot=True, xticklabels=[0,1], yticklabels=[0,1], cbar=False,fmt='g')\n",
    "plt4.set_title('Replace this',fontsize=14,fontweight='bold')\n",
    "plt4.set_xlabel(xlabel='Predicted',fontsize=14)\n",
    "plt4.set_ylabel(ylabel='Actual',fontsize=14)\n",
    "\n",
    "\n",
    "plt.show()"
   ]
  },
  {
   "cell_type": "code",
   "execution_count": 51,
   "metadata": {},
   "outputs": [
    {
     "name": "stdout",
     "output_type": "stream",
     "text": [
      "867\n",
      "766\n",
      "38\n",
      "1365\n"
     ]
    }
   ],
   "source": [
    "print(cm_log_reg[1][1])\n",
    "print(cm_log_reg[0][0])\n",
    "print(cm_log_reg[0][1])\n",
    "print(cm_log_reg[1][0])"
   ]
  },
  {
   "cell_type": "code",
   "execution_count": 52,
   "metadata": {},
   "outputs": [
    {
     "name": "stdout",
     "output_type": "stream",
     "text": [
      "| model               |   accuracy |   recall |   specificity |   precision |    f1 |\n",
      "|:--------------------|-----------:|---------:|--------------:|------------:|------:|\n",
      "| Logistic Regression |      0.538 |    0.953 |         0.388 |       0.359 | 0.522 |\n"
     ]
    }
   ],
   "source": [
    "########### Make Predictions, Plot CM and Evaluation Metrics ###########\n",
    "\n",
    "# Evaluation Metrics\n",
    "eval_list = []\n",
    "\n",
    "def eval_metrics(cm, model):\n",
    "    \n",
    "    model = model\n",
    "\n",
    "##### These numbers have been flipped to account for the fact that Class 0 is the primary class of interest in our problem set\n",
    "#### i.e TP are now Actual = 0 and Predicted 0, TN is Actual = 1 and Predicted =1, and so on. \n",
    "\n",
    "    TN = cm[1][1]\n",
    "    TP = cm[0][0]\n",
    "    FN = cm[0][1]\n",
    "    FP = cm[1][0]\n",
    "\n",
    "    accuracy = round((TP+TN)/(TP+FP+FN+TN),3)\n",
    "    recall = round((TP)/(TP+FN),3)\n",
    "    specificity = round((TN)/(TN+FP),3)\n",
    "    precision = round((TP)/(TP+FP),3)\n",
    "    f1 = round((2*precision*recall)/(precision+recall),3)\n",
    "    \n",
    "    eval_list.append({'model': model, 'accuracy': accuracy, 'recall': recall,\n",
    "                        'specificity': specificity, 'precision': precision, 'f1': f1})\n",
    "    \n",
    "#eval_metrics(cm_knn, 'kNN')   ### Replace with whichever model you'd like Chris\n",
    "eval_metrics(cm_log_reg, 'Logistic Regression')\n",
    "#eval_metrics(cm_boost_tree, 'Boosted Trees')   ### Replace with whichever model you'd like Chris\n",
    "#eval_metrics(cm_xgboost, 'XGBoost')   ### Bikram to set up XGBoost\n",
    "\n",
    "eval_df = pd.DataFrame(eval_list).set_index('model')\n",
    "\n",
    "print(eval_df.to_markdown())\n",
    "   "
   ]
  },
  {
   "cell_type": "code",
   "execution_count": null,
   "metadata": {},
   "outputs": [],
   "source": []
  }
 ],
 "metadata": {
  "kernelspec": {
   "display_name": "Python 3 (ipykernel)",
   "language": "python",
   "name": "python3"
  },
  "language_info": {
   "codemirror_mode": {
    "name": "ipython",
    "version": 3
   },
   "file_extension": ".py",
   "mimetype": "text/x-python",
   "name": "python",
   "nbconvert_exporter": "python",
   "pygments_lexer": "ipython3",
   "version": "3.9.6"
  }
 },
 "nbformat": 4,
 "nbformat_minor": 4
}
