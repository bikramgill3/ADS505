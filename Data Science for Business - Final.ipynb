{
 "cells": [
  {
   "cell_type": "markdown",
   "metadata": {},
   "source": [
    "# Data Science for Business - Final Project\n",
    "By Cole Bailey - Bikram Gill - Christopher Richardson"
   ]
  },
  {
   "cell_type": "markdown",
   "metadata": {},
   "source": [
    "## Background"
   ]
  },
  {
   "cell_type": "markdown",
   "metadata": {},
   "source": [
    "Banks are required to report suspected vulnerable (elder and dependent adult) financial exploitation. Today, much of this activity is limited to human interaction (bankers working with customers on the phone or in person), through which bankers may pick up queues, or red flags or customers self-reporting scams or financial abuse to their financial institution. Digital payments have a degree of reported fraud and claims, with the assumption that much more unreported losses occur, especially perpetrated against older adults (60 years of age or older). \n",
    "\n",
    "As digital payments continue to expand across all demographics, research shows that older adults are showing the biggest uptick in adoption during the 2020/21 period due to the pandemic. Currently, digital payment data is not analyzed specifically under the vulnerable (elder and dependent adult) financial exploitation lens. Banks are required to report elder financial abuse but, unless a customer reports fraud and files a claim, financial abuse can go undetected and repeated fraud via digital payments can continue without the banks’ knowledge. Without detection models, a large amount of fraud is left unreported by consumers and elder and vulnerable adult populations will be at greater risk of being targeted and losing savings to fraudulent payments.\n",
    "\n",
    "Banks need better methods to help protect elder and vulnerable adults against fraud in the digital payments landscape. Predictive modeling may also be applied in some form to alert consumers and bankers in advance of a fraud attempt and potentially pre-empt certain transactions and monetary losses. As the older adult segment continues to adopt digital technology, including digital payments, banks need better ways to predict and analyze transaction data to detect high risk payment patterns or transaction attributes that signal high risk for fraud, especially for older and vulnerable adult customers, which could be targeted by scammers."
   ]
  },
  {
   "cell_type": "markdown",
   "metadata": {},
   "source": [
    "## Importation of Packages"
   ]
  },
  {
   "cell_type": "code",
   "execution_count": 35,
   "metadata": {},
   "outputs": [],
   "source": [
    "import pandas as pd\n",
    "import numpy as np\n",
    "import random\n",
    "import seaborn as sns\n",
    "import matplotlib.pyplot as plt\n",
    "import matplotlib.pylab as pylab\n",
    "import scikitplot as skplt\n",
    "import statsmodels.api as sm\n",
    "\n",
    "\n",
    "from scipy import stats\n",
    "\n",
    "from sklearn.discriminant_analysis import LinearDiscriminantAnalysis\n",
    "from sklearn.ensemble import RandomForestClassifier\n",
    "from sklearn.linear_model import LogisticRegression, LogisticRegressionCV, LinearRegression\n",
    "from sklearn.metrics import classification_report, confusion_matrix, accuracy_score, recall_score, balanced_accuracy_score\n",
    "from sklearn.model_selection import train_test_split,cross_val_score, GridSearchCV, RepeatedStratifiedKFold\n",
    "from sklearn.naive_bayes import GaussianNB\n",
    "from sklearn.neighbors import KNeighborsClassifier\n",
    "from sklearn.preprocessing import KBinsDiscretizer, StandardScaler\n",
    "from sklearn.tree import DecisionTreeRegressor, DecisionTreeClassifier\n",
    "from xgboost import XGBClassifier\n",
    "\n",
    "\n",
    "pd.options.mode.chained_assignment = None\n",
    "%matplotlib inline"
   ]
  },
  {
   "cell_type": "code",
   "execution_count": 2,
   "metadata": {},
   "outputs": [],
   "source": [
    "# Load in the data\n",
    "\n",
    "dftrain = pd.read_csv(\"data/Train_Set.csv\")\n",
    "\n",
    "#Opting to keep the test and train sets separated to keep align with competition requirements\n",
    "# EDA and preprocess steps to be duplicated on each DF"
   ]
  },
  {
   "cell_type": "markdown",
   "metadata": {},
   "source": [
    "## Explatory Data Analysis"
   ]
  },
  {
   "cell_type": "markdown",
   "metadata": {},
   "source": [
    "Training Set"
   ]
  },
  {
   "cell_type": "code",
   "execution_count": 3,
   "metadata": {},
   "outputs": [
    {
     "data": {
      "text/html": [
       "<div>\n",
       "<style scoped>\n",
       "    .dataframe tbody tr th:only-of-type {\n",
       "        vertical-align: middle;\n",
       "    }\n",
       "\n",
       "    .dataframe tbody tr th {\n",
       "        vertical-align: top;\n",
       "    }\n",
       "\n",
       "    .dataframe thead th {\n",
       "        text-align: right;\n",
       "    }\n",
       "</style>\n",
       "<table border=\"1\" class=\"dataframe\">\n",
       "  <thead>\n",
       "    <tr style=\"text-align: right;\">\n",
       "      <th></th>\n",
       "      <th>TRAN_AMT</th>\n",
       "      <th>ACCT_PRE_TRAN_AVAIL_BAL</th>\n",
       "      <th>CUST_AGE</th>\n",
       "      <th>OPEN_ACCT_CT</th>\n",
       "      <th>WF_dvc_age</th>\n",
       "      <th>PWD_UPDT_TS</th>\n",
       "      <th>CARR_NAME</th>\n",
       "      <th>RGN_NAME</th>\n",
       "      <th>STATE_PRVNC_TXT</th>\n",
       "      <th>ALERT_TRGR_CD</th>\n",
       "      <th>...</th>\n",
       "      <th>CUST_STATE</th>\n",
       "      <th>PH_NUM_UPDT_TS</th>\n",
       "      <th>CUST_SINCE_DT</th>\n",
       "      <th>TRAN_TS</th>\n",
       "      <th>TRAN_DT</th>\n",
       "      <th>ACTN_CD</th>\n",
       "      <th>ACTN_INTNL_TXT</th>\n",
       "      <th>TRAN_TYPE_CD</th>\n",
       "      <th>ACTVY_DT</th>\n",
       "      <th>FRAUD_NONFRAUD</th>\n",
       "    </tr>\n",
       "  </thead>\n",
       "  <tbody>\n",
       "    <tr>\n",
       "      <th>0</th>\n",
       "      <td>5.38</td>\n",
       "      <td>23619.91</td>\n",
       "      <td>47</td>\n",
       "      <td>4</td>\n",
       "      <td>2777</td>\n",
       "      <td>1/16/2018 11:3:58</td>\n",
       "      <td>cox communications inc.</td>\n",
       "      <td>southwest</td>\n",
       "      <td>nevada</td>\n",
       "      <td>MOBL</td>\n",
       "      <td>...</td>\n",
       "      <td>NV</td>\n",
       "      <td>2/24/2021 15:55:10</td>\n",
       "      <td>1993-01-06 00:00:00</td>\n",
       "      <td>5/3/2021 18:3:58</td>\n",
       "      <td>5/3/2021</td>\n",
       "      <td>SCHPMT</td>\n",
       "      <td>P2P_COMMIT</td>\n",
       "      <td>P2P</td>\n",
       "      <td>5/3/2021</td>\n",
       "      <td>Non-Fraud</td>\n",
       "    </tr>\n",
       "    <tr>\n",
       "      <th>1</th>\n",
       "      <td>65.19</td>\n",
       "      <td>0.00</td>\n",
       "      <td>45</td>\n",
       "      <td>5</td>\n",
       "      <td>2721</td>\n",
       "      <td>NaN</td>\n",
       "      <td>charter communications</td>\n",
       "      <td>southwest</td>\n",
       "      <td>california</td>\n",
       "      <td>MOBL</td>\n",
       "      <td>...</td>\n",
       "      <td>CA</td>\n",
       "      <td>NaN</td>\n",
       "      <td>1971-01-07 00:00:00</td>\n",
       "      <td>1/13/2021 19:19:37</td>\n",
       "      <td>1/13/2021</td>\n",
       "      <td>SCHPMT</td>\n",
       "      <td>P2P_COMMIT</td>\n",
       "      <td>P2P</td>\n",
       "      <td>1/13/2021</td>\n",
       "      <td>Non-Fraud</td>\n",
       "    </tr>\n",
       "    <tr>\n",
       "      <th>2</th>\n",
       "      <td>54.84</td>\n",
       "      <td>34570.63</td>\n",
       "      <td>36</td>\n",
       "      <td>8</td>\n",
       "      <td>1531</td>\n",
       "      <td>12/22/2021 10:42:51</td>\n",
       "      <td>utah broadband llc</td>\n",
       "      <td>mountain</td>\n",
       "      <td>utah</td>\n",
       "      <td>ONLN</td>\n",
       "      <td>...</td>\n",
       "      <td>MD</td>\n",
       "      <td>5/5/2019 1:8:39</td>\n",
       "      <td>1994-02-01 00:00:00</td>\n",
       "      <td>4/8/2021 9:42:51</td>\n",
       "      <td>4/8/2021</td>\n",
       "      <td>SCHPMT</td>\n",
       "      <td>P2P_COMMIT</td>\n",
       "      <td>P2P</td>\n",
       "      <td>4/8/2021</td>\n",
       "      <td>Fraud</td>\n",
       "    </tr>\n",
       "    <tr>\n",
       "      <th>3</th>\n",
       "      <td>0.01</td>\n",
       "      <td>0.00</td>\n",
       "      <td>62</td>\n",
       "      <td>3</td>\n",
       "      <td>835</td>\n",
       "      <td>2/8/2020 7:28:31</td>\n",
       "      <td>t-mobile usa  inc.</td>\n",
       "      <td>southwest</td>\n",
       "      <td>california</td>\n",
       "      <td>MOBL</td>\n",
       "      <td>...</td>\n",
       "      <td>NV</td>\n",
       "      <td>2/16/2019 6:45:37</td>\n",
       "      <td>2001-11-01 00:00:00</td>\n",
       "      <td>8/10/2021 15:28:31</td>\n",
       "      <td>8/10/2021</td>\n",
       "      <td>SCHPMT</td>\n",
       "      <td>P2P_COMMIT</td>\n",
       "      <td>P2P</td>\n",
       "      <td>8/10/2021</td>\n",
       "      <td>Non-Fraud</td>\n",
       "    </tr>\n",
       "    <tr>\n",
       "      <th>4</th>\n",
       "      <td>497.08</td>\n",
       "      <td>12725.18</td>\n",
       "      <td>81</td>\n",
       "      <td>2</td>\n",
       "      <td>1095</td>\n",
       "      <td>12/28/2020 12:12:44</td>\n",
       "      <td>cogent communications</td>\n",
       "      <td>south central</td>\n",
       "      <td>texas</td>\n",
       "      <td>MOBL</td>\n",
       "      <td>...</td>\n",
       "      <td>UT</td>\n",
       "      <td>5/8/2020 10:27:6</td>\n",
       "      <td>1987-02-07 00:00:00</td>\n",
       "      <td>6/27/2021 11:12:44</td>\n",
       "      <td>6/27/2021</td>\n",
       "      <td>SCHPMT</td>\n",
       "      <td>P2P_COMMIT</td>\n",
       "      <td>P2P</td>\n",
       "      <td>6/27/2021</td>\n",
       "      <td>Fraud</td>\n",
       "    </tr>\n",
       "  </tbody>\n",
       "</table>\n",
       "<p>5 rows × 24 columns</p>\n",
       "</div>"
      ],
      "text/plain": [
       "   TRAN_AMT  ACCT_PRE_TRAN_AVAIL_BAL  CUST_AGE  OPEN_ACCT_CT  WF_dvc_age  \\\n",
       "0      5.38                 23619.91        47             4        2777   \n",
       "1     65.19                     0.00        45             5        2721   \n",
       "2     54.84                 34570.63        36             8        1531   \n",
       "3      0.01                     0.00        62             3         835   \n",
       "4    497.08                 12725.18        81             2        1095   \n",
       "\n",
       "           PWD_UPDT_TS                CARR_NAME       RGN_NAME  \\\n",
       "0    1/16/2018 11:3:58  cox communications inc.      southwest   \n",
       "1                  NaN   charter communications      southwest   \n",
       "2  12/22/2021 10:42:51       utah broadband llc       mountain   \n",
       "3     2/8/2020 7:28:31       t-mobile usa  inc.      southwest   \n",
       "4  12/28/2020 12:12:44    cogent communications  south central   \n",
       "\n",
       "  STATE_PRVNC_TXT ALERT_TRGR_CD  ... CUST_STATE      PH_NUM_UPDT_TS  \\\n",
       "0          nevada          MOBL  ...         NV  2/24/2021 15:55:10   \n",
       "1      california          MOBL  ...         CA                 NaN   \n",
       "2            utah          ONLN  ...         MD     5/5/2019 1:8:39   \n",
       "3      california          MOBL  ...         NV   2/16/2019 6:45:37   \n",
       "4           texas          MOBL  ...         UT    5/8/2020 10:27:6   \n",
       "\n",
       "         CUST_SINCE_DT             TRAN_TS    TRAN_DT ACTN_CD ACTN_INTNL_TXT  \\\n",
       "0  1993-01-06 00:00:00    5/3/2021 18:3:58   5/3/2021  SCHPMT     P2P_COMMIT   \n",
       "1  1971-01-07 00:00:00  1/13/2021 19:19:37  1/13/2021  SCHPMT     P2P_COMMIT   \n",
       "2  1994-02-01 00:00:00    4/8/2021 9:42:51   4/8/2021  SCHPMT     P2P_COMMIT   \n",
       "3  2001-11-01 00:00:00  8/10/2021 15:28:31  8/10/2021  SCHPMT     P2P_COMMIT   \n",
       "4  1987-02-07 00:00:00  6/27/2021 11:12:44  6/27/2021  SCHPMT     P2P_COMMIT   \n",
       "\n",
       "  TRAN_TYPE_CD   ACTVY_DT FRAUD_NONFRAUD  \n",
       "0          P2P   5/3/2021      Non-Fraud  \n",
       "1          P2P  1/13/2021      Non-Fraud  \n",
       "2          P2P   4/8/2021          Fraud  \n",
       "3          P2P  8/10/2021      Non-Fraud  \n",
       "4          P2P  6/27/2021          Fraud  \n",
       "\n",
       "[5 rows x 24 columns]"
      ]
     },
     "execution_count": 3,
     "metadata": {},
     "output_type": "execute_result"
    }
   ],
   "source": [
    "dftrain.head(5)"
   ]
  },
  {
   "cell_type": "markdown",
   "metadata": {},
   "source": [
    "The test set contains 24 variables and 6,000 records. \n",
    "The train set contains 24 variables and 14,000 records."
   ]
  },
  {
   "cell_type": "code",
   "execution_count": 4,
   "metadata": {},
   "outputs": [
    {
     "data": {
      "text/html": [
       "<div>\n",
       "<style scoped>\n",
       "    .dataframe tbody tr th:only-of-type {\n",
       "        vertical-align: middle;\n",
       "    }\n",
       "\n",
       "    .dataframe tbody tr th {\n",
       "        vertical-align: top;\n",
       "    }\n",
       "\n",
       "    .dataframe thead th {\n",
       "        text-align: right;\n",
       "    }\n",
       "</style>\n",
       "<table border=\"1\" class=\"dataframe\">\n",
       "  <thead>\n",
       "    <tr style=\"text-align: right;\">\n",
       "      <th></th>\n",
       "      <th>TRAN_AMT</th>\n",
       "      <th>ACCT_PRE_TRAN_AVAIL_BAL</th>\n",
       "      <th>CUST_AGE</th>\n",
       "      <th>OPEN_ACCT_CT</th>\n",
       "      <th>WF_dvc_age</th>\n",
       "      <th>CUST_ZIP</th>\n",
       "    </tr>\n",
       "  </thead>\n",
       "  <tbody>\n",
       "    <tr>\n",
       "      <th>count</th>\n",
       "      <td>14000.000000</td>\n",
       "      <td>14000.000000</td>\n",
       "      <td>14000.000000</td>\n",
       "      <td>14000.000000</td>\n",
       "      <td>14000.000000</td>\n",
       "      <td>14000.000000</td>\n",
       "    </tr>\n",
       "    <tr>\n",
       "      <th>mean</th>\n",
       "      <td>275.377747</td>\n",
       "      <td>10233.110609</td>\n",
       "      <td>53.937214</td>\n",
       "      <td>6.666714</td>\n",
       "      <td>611.061571</td>\n",
       "      <td>74007.681071</td>\n",
       "    </tr>\n",
       "    <tr>\n",
       "      <th>std</th>\n",
       "      <td>317.892333</td>\n",
       "      <td>29967.453812</td>\n",
       "      <td>18.829836</td>\n",
       "      <td>9.059419</td>\n",
       "      <td>668.113489</td>\n",
       "      <td>24948.053588</td>\n",
       "    </tr>\n",
       "    <tr>\n",
       "      <th>min</th>\n",
       "      <td>0.010000</td>\n",
       "      <td>0.000000</td>\n",
       "      <td>13.000000</td>\n",
       "      <td>0.000000</td>\n",
       "      <td>-117.000000</td>\n",
       "      <td>0.000000</td>\n",
       "    </tr>\n",
       "    <tr>\n",
       "      <th>25%</th>\n",
       "      <td>11.322500</td>\n",
       "      <td>0.000000</td>\n",
       "      <td>39.000000</td>\n",
       "      <td>3.000000</td>\n",
       "      <td>75.000000</td>\n",
       "      <td>63123.000000</td>\n",
       "    </tr>\n",
       "    <tr>\n",
       "      <th>50%</th>\n",
       "      <td>161.355000</td>\n",
       "      <td>2410.395000</td>\n",
       "      <td>59.000000</td>\n",
       "      <td>5.000000</td>\n",
       "      <td>365.500000</td>\n",
       "      <td>85037.000000</td>\n",
       "    </tr>\n",
       "    <tr>\n",
       "      <th>75%</th>\n",
       "      <td>488.822500</td>\n",
       "      <td>4732.695000</td>\n",
       "      <td>68.000000</td>\n",
       "      <td>7.000000</td>\n",
       "      <td>961.000000</td>\n",
       "      <td>92201.000000</td>\n",
       "    </tr>\n",
       "    <tr>\n",
       "      <th>max</th>\n",
       "      <td>2376.060000</td>\n",
       "      <td>361519.050000</td>\n",
       "      <td>105.000000</td>\n",
       "      <td>227.000000</td>\n",
       "      <td>2783.000000</td>\n",
       "      <td>99835.000000</td>\n",
       "    </tr>\n",
       "  </tbody>\n",
       "</table>\n",
       "</div>"
      ],
      "text/plain": [
       "           TRAN_AMT ACCT_PRE_TRAN_AVAIL_BAL      CUST_AGE  OPEN_ACCT_CT  \\\n",
       "count  14000.000000            14000.000000  14000.000000  14000.000000   \n",
       "mean     275.377747            10233.110609     53.937214      6.666714   \n",
       "std      317.892333            29967.453812     18.829836      9.059419   \n",
       "min        0.010000                0.000000     13.000000      0.000000   \n",
       "25%       11.322500                0.000000     39.000000      3.000000   \n",
       "50%      161.355000             2410.395000     59.000000      5.000000   \n",
       "75%      488.822500             4732.695000     68.000000      7.000000   \n",
       "max     2376.060000           361519.050000    105.000000    227.000000   \n",
       "\n",
       "         WF_dvc_age      CUST_ZIP  \n",
       "count  14000.000000  14000.000000  \n",
       "mean     611.061571  74007.681071  \n",
       "std      668.113489  24948.053588  \n",
       "min     -117.000000      0.000000  \n",
       "25%       75.000000  63123.000000  \n",
       "50%      365.500000  85037.000000  \n",
       "75%      961.000000  92201.000000  \n",
       "max     2783.000000  99835.000000  "
      ]
     },
     "execution_count": 4,
     "metadata": {},
     "output_type": "execute_result"
    }
   ],
   "source": [
    "#Data exploration for numerical\n",
    "dftrain.nunique(axis=0)\n",
    "dftrain.describe().apply(lambda s: s.apply(lambda x: format(x, 'f')))"
   ]
  },
  {
   "cell_type": "code",
   "execution_count": 5,
   "metadata": {},
   "outputs": [
    {
     "data": {
      "text/plain": [
       "Non-Fraud    9836\n",
       "Fraud        4164\n",
       "Name: FRAUD_NONFRAUD, dtype: int64"
      ]
     },
     "execution_count": 5,
     "metadata": {},
     "output_type": "execute_result"
    }
   ],
   "source": [
    "dftrain['FRAUD_NONFRAUD'].value_counts()"
   ]
  },
  {
   "cell_type": "code",
   "execution_count": 6,
   "metadata": {},
   "outputs": [],
   "source": [
    "#value of this column needs to be 0 (FRAUD) and 1 (NonFraud)\n",
    "dict_edu = {\"FRAUD_NONFRAUD\": {\"Fraud\" : 1, \"Non-Fraud\" :0}}\n",
    "dftrain.replace(dict_edu, inplace = True)"
   ]
  },
  {
   "cell_type": "code",
   "execution_count": 7,
   "metadata": {},
   "outputs": [
    {
     "data": {
      "image/png": "[encoded data removed]",
      "text/plain": [
       "<Figure size 720x432 with 1 Axes>"
      ]
     },
     "metadata": {
      "needs_background": "light"
     },
     "output_type": "display_data"
    }
   ],
   "source": [
    "ax = dftrain['FRAUD_NONFRAUD'].value_counts().plot(kind='bar', figsize=(10, 6), fontsize=13, color='green')\n",
    "ax.set_title('Fraud Counts (0 = Fraud, 1 = Non-Fraud)', size=20, pad=30)\n",
    "ax.set_ylabel('Results', fontsize=14)\n",
    "#display values\n",
    "for i in ax.patches:\n",
    "    ax.text(i.get_x() + 0.19, i.get_height() + 700, str(round(i.get_height(), 2)), fontsize=15)"
   ]
  },
  {
   "cell_type": "code",
   "execution_count": 8,
   "metadata": {},
   "outputs": [
    {
     "data": {
      "text/plain": [
       "PH_NUM_UPDT_TS             0.504357\n",
       "PWD_UPDT_TS                0.223214\n",
       "CARR_NAME                  0.193500\n",
       "RGN_NAME                   0.193500\n",
       "STATE_PRVNC_TXT            0.193500\n",
       "DVC_TYPE_TXT               0.125786\n",
       "AUTHC_SCNDRY_STAT_TXT      0.005286\n",
       "CUST_STATE                 0.002571\n",
       "ACTVY_DT                   0.000000\n",
       "TRAN_TYPE_CD               0.000000\n",
       "ACTN_INTNL_TXT             0.000000\n",
       "ACTN_CD                    0.000000\n",
       "TRAN_DT                    0.000000\n",
       "TRAN_TS                    0.000000\n",
       "CUST_SINCE_DT              0.000000\n",
       "TRAN_AMT                   0.000000\n",
       "CUST_ZIP                   0.000000\n",
       "ACCT_PRE_TRAN_AVAIL_BAL    0.000000\n",
       "AUTHC_PRIM_TYPE_CD         0.000000\n",
       "ALERT_TRGR_CD              0.000000\n",
       "WF_dvc_age                 0.000000\n",
       "OPEN_ACCT_CT               0.000000\n",
       "CUST_AGE                   0.000000\n",
       "FRAUD_NONFRAUD             0.000000\n",
       "dtype: float64"
      ]
     },
     "execution_count": 8,
     "metadata": {},
     "output_type": "execute_result"
    }
   ],
   "source": [
    "# Identify the columns with missing values\n",
    "dftrain.isnull().sum().sort_values(ascending = False)/len(dftrain)"
   ]
  },
  {
   "cell_type": "markdown",
   "metadata": {},
   "source": [
    "There are eight variables with missing values. Six of those variables have at least 10% of the total data missing. Since 'PH_NUM_UPDT_TS' is a date and more than 50% of the data is missing, this variable will be removed as it is unreliable. 'PWD_UPDT_TS' will be removed for the same reasons although it is missing roughly 22% of rows. For 'CARR_NAME','RGN_NAME','STATE_PRVNC_TXT', these null values will be separated into a category of 'unknown'. Lastly, we will remove the rest of the rows containing nulls since the total nulls left is very low and will not obscure the data further."
   ]
  },
  {
   "cell_type": "code",
   "execution_count": 9,
   "metadata": {},
   "outputs": [],
   "source": [
    "dftrain.drop(['PWD_UPDT_TS','PH_NUM_UPDT_TS'],inplace=True,axis=1)\n",
    "\n",
    "dftrain[\"CARR_NAME\"].fillna(\"Unknown\", inplace = True)\n",
    "dftrain[\"RGN_NAME\"].fillna(\"Unknown\", inplace = True)\n",
    "dftrain[\"STATE_PRVNC_TXT\"].fillna(\"Unknown\", inplace = True)\n",
    "\n",
    "dftrain = dftrain.dropna()"
   ]
  },
  {
   "cell_type": "code",
   "execution_count": 10,
   "metadata": {},
   "outputs": [
    {
     "name": "stdout",
     "output_type": "stream",
     "text": [
      "SCHPMT    12141\n",
      "Name: ACTN_CD, dtype: int64\n",
      "P2P_COMMIT    12141\n",
      "Name: ACTN_INTNL_TXT, dtype: int64\n",
      "P2P    12141\n",
      "Name: TRAN_TYPE_CD, dtype: int64\n"
     ]
    }
   ],
   "source": [
    "print(dftrain['ACTN_CD'].value_counts())\n",
    "print(dftrain['ACTN_INTNL_TXT'].value_counts())\n",
    "print(dftrain['TRAN_TYPE_CD'].value_counts())"
   ]
  },
  {
   "cell_type": "markdown",
   "metadata": {},
   "source": [
    "Since the three columns above only have one constant and distinct unit, they offer nothing in predicitve capability. They will be removed."
   ]
  },
  {
   "cell_type": "code",
   "execution_count": 11,
   "metadata": {},
   "outputs": [],
   "source": [
    "dftrain.drop(['ACTN_CD','ACTN_INTNL_TXT','TRAN_TYPE_CD'],inplace=True,axis=1)\n"
   ]
  },
  {
   "cell_type": "code",
   "execution_count": 12,
   "metadata": {},
   "outputs": [
    {
     "name": "stdout",
     "output_type": "stream",
     "text": [
      "2/28/2021              178\n",
      "3/3/2021               115\n",
      "3/5/2021               102\n",
      "6/30/2021               98\n",
      "3/1/2021                97\n",
      "                      ... \n",
      "2021-10-29 00:00:00      1\n",
      "2021-12-20 00:00:00      1\n",
      "2021-05-24 00:00:00      1\n",
      "2021-07-03 00:00:00      1\n",
      "2021-11-10 00:00:00      1\n",
      "Name: TRAN_DT, Length: 334, dtype: int64\n",
      "----------------------------------------\n",
      "2/28/2021              178\n",
      "3/3/2021               115\n",
      "3/5/2021               102\n",
      "6/30/2021               98\n",
      "3/1/2021                97\n",
      "                      ... \n",
      "2021-10-29 00:00:00      1\n",
      "2021-12-20 00:00:00      1\n",
      "2021-05-24 00:00:00      1\n",
      "2021-07-03 00:00:00      1\n",
      "2021-11-10 00:00:00      1\n",
      "Name: ACTVY_DT, Length: 334, dtype: int64\n"
     ]
    }
   ],
   "source": [
    "print(dftrain['TRAN_DT'].value_counts())\n",
    "print('--'*20)\n",
    "print(dftrain['ACTVY_DT'].value_counts())\n",
    "\n",
    "#The columns are redundant. We can remove one.\n",
    "dftrain.drop(['TRAN_DT'],inplace=True,axis=1)"
   ]
  },
  {
   "cell_type": "code",
   "execution_count": 13,
   "metadata": {},
   "outputs": [],
   "source": [
    "#Remove final columns with information that is redundant or not useful such as zipcode\n",
    "dftrain.drop(['CUST_ZIP','CUST_SINCE_DT','TRAN_TS','ACTVY_DT'], inplace = True,axis=1)"
   ]
  },
  {
   "cell_type": "markdown",
   "metadata": {},
   "source": [
    "Now we will look at feautures withhigh cardinality. These feautures give the model a difficult time to find patterns and analyze feautures outside the training set."
   ]
  },
  {
   "cell_type": "code",
   "execution_count": 14,
   "metadata": {},
   "outputs": [
    {
     "data": {
      "text/plain": [
       "TRAN_AMT                   float64\n",
       "ACCT_PRE_TRAN_AVAIL_BAL    float64\n",
       "CUST_AGE                     int64\n",
       "OPEN_ACCT_CT                 int64\n",
       "WF_dvc_age                   int64\n",
       "CARR_NAME                   object\n",
       "RGN_NAME                    object\n",
       "STATE_PRVNC_TXT             object\n",
       "ALERT_TRGR_CD               object\n",
       "DVC_TYPE_TXT                object\n",
       "AUTHC_PRIM_TYPE_CD          object\n",
       "AUTHC_SCNDRY_STAT_TXT       object\n",
       "CUST_STATE                  object\n",
       "FRAUD_NONFRAUD               int64\n",
       "dtype: object"
      ]
     },
     "execution_count": 14,
     "metadata": {},
     "output_type": "execute_result"
    }
   ],
   "source": [
    "dftrain.dtypes"
   ]
  },
  {
   "cell_type": "code",
   "execution_count": 15,
   "metadata": {},
   "outputs": [],
   "source": [
    "# obj_df = dftrain.select_dtypes(include=['object']).copy()\n",
    "# obj_df.head()"
   ]
  },
  {
   "cell_type": "code",
   "execution_count": 16,
   "metadata": {},
   "outputs": [],
   "source": [
    "# obj_df[\"STATE_PRVNC_TXT\"] = obj_df[\"STATE_PRVNC_TXT\"].astype('category')\n",
    "# obj_df[\"RGN_NAME\"] = obj_df[\"RGN_NAME\"].astype('category')\n",
    "# obj_df[\"CARR_NAME\"] = obj_df[\"CARR_NAME\"].astype('category')\n",
    "# obj_df[\"DVC_TYPE_TXT\"] = obj_df[\"DVC_TYPE_TXT\"].astype('category')\n",
    "# obj_df[\"CUST_STATE\"] = obj_df[\"CUST_STATE\"].astype('category')\n",
    "# obj_df[\"AUTHC_PRIM_TYPE_CD\"] = obj_df[\"AUTHC_PRIM_TYPE_CD\"].astype('category')\n",
    "# obj_df[\"AUTHC_SCNDRY_STAT_TXT\"] = obj_df[\"AUTHC_SCNDRY_STAT_TXT\"].astype('category')\n",
    "# obj_df[\"ALERT_TRGR_CD\"] = obj_df[\"ALERT_TRGR_CD\"].astype('category')\n",
    "# obj_df.dtypes"
   ]
  },
  {
   "cell_type": "code",
   "execution_count": 17,
   "metadata": {},
   "outputs": [],
   "source": [
    "# obj_df[\"ALERT_TRGR_CD\"] = obj_df[\"ALERT_TRGR_CD\"].cat.codes\n",
    "# obj_df[\"STATE_PRVNC_TXT\"] = obj_df[\"STATE_PRVNC_TXT\"].cat.codes\n",
    "# obj_df[\"RGN_NAME\"] = obj_df[\"RGN_NAME\"].cat.codes\n",
    "# obj_df[\"CARR_NAME\"] = obj_df[\"CARR_NAME\"].cat.codes\n",
    "# obj_df[\"DVC_TYPE_TXT\"] = obj_df[\"DVC_TYPE_TXT\"].cat.codes\n",
    "# obj_df[\"CUST_STATE\"] = obj_df[\"CUST_STATE\"].cat.codes\n",
    "# obj_df[\"AUTHC_PRIM_TYPE_CD\"] = obj_df[\"AUTHC_PRIM_TYPE_CD\"].cat.codes\n",
    "# obj_df[\"AUTHC_SCNDRY_STAT_TXT\"] = obj_df[\"AUTHC_SCNDRY_STAT_TXT\"].cat.codes\n",
    "# obj_df.head()"
   ]
  },
  {
   "cell_type": "code",
   "execution_count": 18,
   "metadata": {},
   "outputs": [
    {
     "data": {
      "text/plain": [
       "TRAN_AMT                   float64\n",
       "ACCT_PRE_TRAN_AVAIL_BAL    float64\n",
       "CUST_AGE                     int64\n",
       "OPEN_ACCT_CT                 int64\n",
       "WF_dvc_age                   int64\n",
       "CARR_NAME                  float64\n",
       "RGN_NAME                   float64\n",
       "STATE_PRVNC_TXT            float64\n",
       "ALERT_TRGR_CD              float64\n",
       "DVC_TYPE_TXT               float64\n",
       "AUTHC_PRIM_TYPE_CD         float64\n",
       "AUTHC_SCNDRY_STAT_TXT      float64\n",
       "CUST_STATE                 float64\n",
       "FRAUD_NONFRAUD               int64\n",
       "dtype: object"
      ]
     },
     "execution_count": 18,
     "metadata": {},
     "output_type": "execute_result"
    }
   ],
   "source": [
    "from sklearn.preprocessing import OrdinalEncoder\n",
    "\n",
    "ord_enc = OrdinalEncoder()\n",
    "dftrain[\"RGN_NAME\"] = ord_enc.fit_transform(dftrain[[\"RGN_NAME\"]])\n",
    "dftrain[\"STATE_PRVNC_TXT\"] = ord_enc.fit_transform(dftrain[[\"STATE_PRVNC_TXT\"]])\n",
    "dftrain[\"CARR_NAME\"] = ord_enc.fit_transform(dftrain[[\"CARR_NAME\"]])\n",
    "dftrain[\"ALERT_TRGR_CD\"] = ord_enc.fit_transform(dftrain[[\"ALERT_TRGR_CD\"]])\n",
    "dftrain[\"DVC_TYPE_TXT\"] = ord_enc.fit_transform(dftrain[[\"DVC_TYPE_TXT\"]])\n",
    "dftrain[\"AUTHC_PRIM_TYPE_CD\"] = ord_enc.fit_transform(dftrain[[\"AUTHC_PRIM_TYPE_CD\"]])\n",
    "dftrain[\"AUTHC_SCNDRY_STAT_TXT\"] = ord_enc.fit_transform(dftrain[[\"AUTHC_SCNDRY_STAT_TXT\"]])\n",
    "dftrain[\"CUST_STATE\"] = ord_enc.fit_transform(dftrain[[\"CUST_STATE\"]])\n",
    "dftrain.dtypes"
   ]
  },
  {
   "cell_type": "code",
   "execution_count": 20,
   "metadata": {},
   "outputs": [
    {
     "data": {
      "text/plain": [
       "<AxesSubplot:>"
      ]
     },
     "execution_count": 20,
     "metadata": {},
     "output_type": "execute_result"
    },
    {
     "data": {
      "image/png": "[encoded data removed]",
      "text/plain": [
       "<Figure size 792x648 with 2 Axes>"
      ]
     },
     "metadata": {
      "needs_background": "light"
     },
     "output_type": "display_data"
    }
   ],
   "source": [
    "#Examine correlations between variables and response\n",
    "corr = dftrain.corr()\n",
    "\n",
    "mask = np.triu(np.ones_like(corr, dtype=bool))\n",
    "\n",
    "# Set up the matplotlib figure\n",
    "f, ax = plt.subplots(figsize=(11, 9))\n",
    "\n",
    "# Generate a custom diverging colormap\n",
    "cmap = sns.diverging_palette(230, 20, as_cmap=True)\n",
    "\n",
    "# Draw the heatmap with the mask and correct aspect ratio\n",
    "sns.heatmap(corr, mask=mask, cmap=cmap,\n",
    "            square=True, linewidths=.5)"
   ]
  },
  {
   "cell_type": "markdown",
   "metadata": {},
   "source": [
    "Finally, variables will be scaled so they can be used in the Data Modelling phase."
   ]
  },
  {
   "cell_type": "code",
   "execution_count": null,
   "metadata": {},
   "outputs": [],
   "source": [
    "dftrain.head()"
   ]
  },
  {
   "cell_type": "code",
   "execution_count": 24,
   "metadata": {},
   "outputs": [],
   "source": [
    "predictors = ['ACCT_PRE_TRAN_AVAIL_BAL',\n",
    "              'AUTHC_PRIM_TYPE_CD',\n",
    "              'AUTHC_SCNDRY_STAT_TXT',\n",
    "              'CARR_NAME',\n",
    "              'CUST_AGE',\n",
    "              'CUST_STATE',\n",
    "              'OPEN_ACCT_CT',\n",
    "              'RGN_NAME',\n",
    "              'STATE_PRVNC_TXT',\n",
    "              'TRAN_AMT',\n",
    "              'WF_dvc_age']\n",
    "\n",
    "# Create train, valid split\n",
    "train, valid = train_test_split(dftrain, test_size=0.25, random_state=1, stratify=dftrain['FRAUD_NONFRAUD'])\n",
    "\n",
    "# scale all non-binary variables in training set\n",
    "scaler = StandardScaler()\n",
    "\n",
    "# fit on training df\n",
    "scaler.fit(train[predictors])\n",
    "\n",
    "# transform train & valid/test DFs\n",
    "# write over existing columns w/ scaled versions\n",
    "train[predictors] = scaler.transform(train[predictors])\n",
    "valid[predictors] = scaler.transform(valid[predictors])\n",
    "\n",
    "train_X = train.drop(columns='FRAUD_NONFRAUD')\n",
    "train_y = train['FRAUD_NONFRAUD']\n",
    "\n",
    "valid_X = valid.drop(columns='FRAUD_NONFRAUD')\n",
    "valid_y = valid['FRAUD_NONFRAUD']"
   ]
  },
  {
   "cell_type": "markdown",
   "metadata": {},
   "source": [
    "Because this data set comes from a competition, the test data provided does not have a labelled y variable to measure results (i.e. there is no 'FRAUD_NONFRAUD' column).\n",
    "\n",
    "Instead, the training data provided by the competition will be split into train and validation sets. Performance will be measured against the valid set."
   ]
  },
  {
   "cell_type": "markdown",
   "metadata": {},
   "source": [
    "## Data Modelling"
   ]
  },
  {
   "cell_type": "markdown",
   "metadata": {},
   "source": [
    "A series of models will be used to create the best chance of classifying transactions as FRAUD or NONFRAUD. \n",
    "\n",
    "The first model being used, logistic regression, will be used to build a predictor profile and also incorporate techniques to find the best set of variables overall. \n",
    "\n",
    "This knowledge will inform some of the other models being tested.\n",
    "\n",
    "Overall, the following models will be used in this study:\n",
    "\n",
    "- Model 1: Logistic Regression\n",
    "\n",
    "- Model 2: XGBoost\n",
    "\n",
    "- Model 3: \n",
    "\n",
    "- Model 4: \n",
    "\n"
   ]
  },
  {
   "cell_type": "markdown",
   "metadata": {},
   "source": [
    "#### Model 1: Logistic Regression"
   ]
  },
  {
   "cell_type": "markdown",
   "metadata": {},
   "source": [
    "Feature importance will be determined using a basic logistic regression model. Further processing will then be done to tune and find the best model possible. "
   ]
  },
  {
   "cell_type": "code",
   "execution_count": 25,
   "metadata": {},
   "outputs": [
    {
     "name": "stdout",
     "output_type": "stream",
     "text": [
      "Feature: 0, Score: 0.67689\n",
      "Feature: 1, Score: -0.04457\n",
      "Feature: 2, Score: 0.08727\n",
      "Feature: 3, Score: -0.17888\n",
      "Feature: 4, Score: -0.23774\n",
      "Feature: 5, Score: 0.14155\n",
      "Feature: 6, Score: -1.11296\n",
      "Feature: 7, Score: 0.16350\n",
      "Feature: 8, Score: 0.63454\n",
      "Feature: 9, Score: -0.83783\n",
      "Feature: 10, Score: 0.19958\n",
      "Feature: 11, Score: 0.18152\n",
      "Feature: 12, Score: 0.08835\n"
     ]
    },
    {
     "data": {
      "image/png": "[encoded data removed]",
      "text/plain": [
       "<Figure size 432x288 with 1 Axes>"
      ]
     },
     "metadata": {
      "needs_background": "light"
     },
     "output_type": "display_data"
    }
   ],
   "source": [
    "# Create base log_reg model\n",
    "\n",
    "log_reg = LogisticRegression(random_state=1, penalty='l2')\n",
    "\n",
    "# Fit model\n",
    "\n",
    "log_reg.fit(train_X, train_y)\n",
    "\n",
    "# Get feature importance\n",
    "importance = log_reg.coef_[0]\n",
    "features = ['TRAN_AMT','ACCT_PRE_TRAN_AVAIL_BAL','CUST_AGE','OPEN_ACCT_CT','WF_dvc_age',\n",
    "            'CARR_NAME', 'RGN_NAME','STATE_PRVNC_TXT', 'ALERT_TRGR_CD', 'DVC_TYPE_TXT', \n",
    "            'AUTHC_PRIM_TYPE_CD', 'AUTHC_SCNDRY_STAT_TXT', 'CUST_STATE']\n",
    "\n",
    "# Summarize feature importance\n",
    "for i,v in enumerate(importance):\n",
    "    print('Feature: %0d, Score: %.5f' % (i,v))    \n",
    "\n",
    "# Plot feature importance\n",
    "ax = plt.bar([x for x in range(len(importance))], importance)\n",
    "\n",
    "plt.show()\n",
    "\n",
    "\n",
    "#### Need to add labels to ths plot will figure it out#####\n",
    "\n",
    "##### Above 0 are features that help with class 1 predictions. Below 0 lean more towards 0 predictions #####\n",
    "### In our case we care more about the class 0, which is Fraud. hence, features selected are:\n",
    "\n",
    "\n",
    "#####Based on this information, logreg_features = ['TRAN_AMT','CUST_AGE','CARR_NAME','STATE_PRVNC_TXT','ALERT_TRGR_CD','AUTHC_PRIM_TYPE_CD', 'AUTHC_SCNDRY_STAT_TXT', 'CUST_STATE']"
   ]
  },
  {
   "cell_type": "markdown",
   "metadata": {},
   "source": [
    "Based on feature importance metrics, the features in the next code box are ones that will assist with FRAUD_NONFRAUD = 1 predictions. \n",
    "\n",
    "Now the logistic regression model will be tuned using k-fold cross-validation and gridsearch, to maximize the f1 score on predictions for the validation set. "
   ]
  },
  {
   "cell_type": "code",
   "execution_count": 26,
   "metadata": {},
   "outputs": [],
   "source": [
    "########### Logistic Regression (with k-Fold CV, Class Weights and Hyperparameter Tuning) ###########\n",
    "\n",
    "logreg_features = ['TRAN_AMT','CUST_AGE','CARR_NAME','STATE_PRVNC_TXT','ALERT_TRGR_CD',\n",
    "                   'AUTHC_PRIM_TYPE_CD', 'AUTHC_SCNDRY_STAT_TXT', 'CUST_STATE']\n",
    "\n",
    "# Create copies of train and test code for log_reg\n",
    "\n",
    "train_X_log_reg = train_X[logreg_features].copy()\n",
    "train_y_log_reg = train_y.copy()\n",
    "\n",
    "valid_X_log_reg = valid_X[logreg_features].copy()\n",
    "valid_y_log_reg = valid_y.copy()"
   ]
  },
  {
   "cell_type": "code",
   "execution_count": null,
   "metadata": {},
   "outputs": [],
   "source": [
    "# ########### Logistic Regression (with k-Fold CV, Class Weights and Hyperparameter Tuning) ###########\n",
    "\n",
    "# # Gridsearch on hyperparameters (class weight, penalty and regularization) to find optimal values\n",
    "# # Stratified cross-validation will be used in gridsearch to retain Class 1 records in each split\n",
    "# # Performance will be scored on f1, to balance number of positive predictions made with sensitivity. \n",
    "\n",
    "\n",
    "# cv = RepeatedStratifiedKFold(n_splits=5, n_repeats=3, random_state=1)\n",
    "\n",
    "# w = [{0:1.0,0:0.01}, {0:10,1:0.01}, {0:100,1:0.01}, \n",
    "#      {0:1.0,1:0.001}, {0:10,1:0.1}, {0:100,1:0.1}, \n",
    "#      {0:10,1:0.01}, {0:1.0,1:0.01}, {0:1.0,1:0.001}, {0:1.0,1:0.005}, \n",
    "#      {0:1.0,1:10} ]\n",
    "# crange = np.arange(0.5, 20.0, 0.5)\n",
    "# hyperparam_grid = {\"class_weight\": w\n",
    "#                    ,\"C\": crange\n",
    "#                    ,\"fit_intercept\": [True, False]  }\n",
    "\n",
    "# log_reg = LogisticRegression(random_state=1, penalty='l2')\n",
    "\n",
    "# grid = GridSearchCV(log_reg,hyperparam_grid,scoring=\"balanced_accuracy\", cv=cv, n_jobs=-1, refit=True);\n",
    "\n",
    "# grid.fit(train_X_log_reg,train_y_log_reg);\n",
    "\n",
    "# ;"
   ]
  },
  {
   "cell_type": "code",
   "execution_count": null,
   "metadata": {},
   "outputs": [],
   "source": [
    "# ########### Logistic Regression (with k-Fold CV, Class Weights and Hyperparameter Tuning) ###########\n",
    "\n",
    "# # Best model score and best model parameters\n",
    "\n",
    "# print(f'Best score: {grid.best_score_} with param: {grid.best_params_}')"
   ]
  },
  {
   "cell_type": "code",
   "execution_count": 27,
   "metadata": {},
   "outputs": [
    {
     "data": {
      "text/plain": [
       "LogisticRegression(C=0.5, class_weight={0: 1.0, 1: 0.01}, fit_intercept=False,\n",
       "                   random_state=1)"
      ]
     },
     "execution_count": 27,
     "metadata": {},
     "output_type": "execute_result"
    }
   ],
   "source": [
    "########### Logistic Regression (with k-Fold CV, Class Weights and Hyperparameter Tuning) ###########\n",
    "\n",
    "# Fit the model with the best score\n",
    "\n",
    "log_reg = LogisticRegression(random_state=1,C=0.5,class_weight={0: 1.0, 1: 0.01}, fit_intercept=False, penalty='l2') \n",
    "log_reg.fit(train_X_log_reg,train_y_log_reg)"
   ]
  },
  {
   "cell_type": "markdown",
   "metadata": {},
   "source": [
    "#### Model 2: XGBoost"
   ]
  },
  {
   "cell_type": "markdown",
   "metadata": {},
   "source": [
    "Features will be chosen based on the findings from logistic regression (feature importance)."
   ]
  },
  {
   "cell_type": "code",
   "execution_count": 28,
   "metadata": {},
   "outputs": [],
   "source": [
    "########### XGBoost (with k-Fold CV and Hyperparameter Tuning) ###########\n",
    "\n",
    "xgboost_features = ['TRAN_AMT','CUST_AGE','CARR_NAME','STATE_PRVNC_TXT','ALERT_TRGR_CD',\n",
    "                   'AUTHC_PRIM_TYPE_CD', 'AUTHC_SCNDRY_STAT_TXT', 'CUST_STATE']\n",
    "\n",
    "# Create copies of train and test code for log_reg\n",
    "\n",
    "train_X_xgboost = train_X[xgboost_features].copy()\n",
    "train_y_xgboost = train_y.copy()\n",
    "\n",
    "valid_X_xgboost = valid_X[xgboost_features].copy()\n",
    "valid_y_xgboost = valid_y.copy()"
   ]
  },
  {
   "cell_type": "code",
   "execution_count": 30,
   "metadata": {},
   "outputs": [],
   "source": [
    "# ########### XGBoost (with k-Fold CV and Hyperparameter Tuning) ###########\n",
    "\n",
    "# # Gridsearch will test weights hyperparameter with k-fold cv to find the best combination\n",
    "# # Weights parameter will add weighting for positive class\n",
    "\n",
    "# cv = RepeatedStratifiedKFold(n_splits=5, n_repeats=3, random_state=1)\n",
    "\n",
    "# param_grid = {\n",
    "#     'max_depth': [5, 6, 7, 8], \n",
    "#     'booster': ['gbtree','dart'],\n",
    "#     'learning_rate': [0.0001, 0.001, 0.01, 0.1]\n",
    "# }\n",
    "\n",
    "# xgboost = XGBClassifier(random_state=1,use_label_encoder=False, eval_metric='logloss')\n",
    "\n",
    "# grid3 = GridSearchCV(xgboost,param_grid,scoring=\"balanced_accuracy\", cv=cv, n_jobs=-1, refit=True)\n",
    "\n",
    "# grid3.fit(train_X_xgboost,train_y_xgboost)\n",
    "\n",
    "# ;"
   ]
  },
  {
   "cell_type": "code",
   "execution_count": null,
   "metadata": {},
   "outputs": [],
   "source": [
    "# ########### XGBoost (with k-Fold CV and Hyperparameter Tuning) ###########\n",
    "\n",
    "# # Best model score and best model parameters\n",
    "\n",
    "# print(f'Best score: {grid3.best_score_} with param: {grid3.best_params_}')"
   ]
  },
  {
   "cell_type": "code",
   "execution_count": 31,
   "metadata": {},
   "outputs": [],
   "source": [
    "########### XGBoost (with k-Fold CV and Hyperparameter Tuning) ###########\n",
    "\n",
    "# Fit the model with the best score\n",
    "\n",
    "xgboost = XGBClassifier(random_state=1,use_label_encoder=False,eval_metric='logloss',booster='gbtree',learning_rate=0.1,max_depth=7) \n",
    "xg_boost = xgboost.fit(train_X_xgboost,train_y_xgboost)"
   ]
  },
  {
   "cell_type": "markdown",
   "metadata": {},
   "source": [
    "#### Model 3: Linear Discriminant Analysis"
   ]
  },
  {
   "cell_type": "markdown",
   "metadata": {},
   "source": [
    "##### LDA Base"
   ]
  },
  {
   "cell_type": "code",
   "execution_count": 36,
   "metadata": {},
   "outputs": [
    {
     "name": "stdout",
     "output_type": "stream",
     "text": [
      "[[2019  213]\n",
      " [ 313  491]]\n",
      "              precision    recall  f1-score   support\n",
      "\n",
      "           0       0.87      0.90      0.88      2232\n",
      "           1       0.70      0.61      0.65       804\n",
      "\n",
      "    accuracy                           0.83      3036\n",
      "   macro avg       0.78      0.76      0.77      3036\n",
      "weighted avg       0.82      0.83      0.82      3036\n",
      "\n"
     ]
    }
   ],
   "source": [
    "# Create base log_reg model\n",
    "\n",
    "LDA_base = LinearDiscriminantAnalysis()\n",
    "\n",
    "# Fit model\n",
    "\n",
    "LDA_base.fit(X=train_X, y=train_y)\n",
    "\n",
    "lda_base_preds = LDA_base.predict(valid_X)\n",
    "\n",
    "print(confusion_matrix(valid_y, lda_base_preds))\n",
    "print(classification_report(valid_y, lda_base_preds))"
   ]
  },
  {
   "cell_type": "markdown",
   "metadata": {},
   "source": [
    "##### LDA w/ Logistic Regression Selected Features"
   ]
  },
  {
   "cell_type": "code",
   "execution_count": 37,
   "metadata": {},
   "outputs": [
    {
     "name": "stdout",
     "output_type": "stream",
     "text": [
      "[[2123  109]\n",
      " [ 604  200]]\n",
      "              precision    recall  f1-score   support\n",
      "\n",
      "           0       0.78      0.95      0.86      2232\n",
      "           1       0.65      0.25      0.36       804\n",
      "\n",
      "    accuracy                           0.77      3036\n",
      "   macro avg       0.71      0.60      0.61      3036\n",
      "weighted avg       0.74      0.77      0.72      3036\n",
      "\n"
     ]
    }
   ],
   "source": [
    "# logistic regression selected features\n",
    "logistic_features = ['TRAN_AMT','CUST_AGE','CARR_NAME','STATE_PRVNC_TXT','ALERT_TRGR_CD',\n",
    "                   'AUTHC_PRIM_TYPE_CD', 'AUTHC_SCNDRY_STAT_TXT', 'CUST_STATE']\n",
    "\n",
    "# Create base log_reg model\n",
    "log_features_LDA = LinearDiscriminantAnalysis()\n",
    "\n",
    "# Fit model\n",
    "log_features_LDA.fit(X=train_X[logistic_features], y=train_y)\n",
    "\n",
    "log_feature_lda_preds = log_features_LDA.predict(valid_X[logistic_features])\n",
    "\n",
    "print(confusion_matrix(valid_y, log_feature_lda_preds))\n",
    "print(classification_report(valid_y, log_feature_lda_preds))"
   ]
  },
  {
   "cell_type": "markdown",
   "metadata": {},
   "source": [
    "##### LDA Feature Selection by Coeff cutoff"
   ]
  },
  {
   "cell_type": "code",
   "execution_count": 38,
   "metadata": {},
   "outputs": [
    {
     "data": {
      "text/html": [
       "<div>\n",
       "<style scoped>\n",
       "    .dataframe tbody tr th:only-of-type {\n",
       "        vertical-align: middle;\n",
       "    }\n",
       "\n",
       "    .dataframe tbody tr th {\n",
       "        vertical-align: top;\n",
       "    }\n",
       "\n",
       "    .dataframe thead th {\n",
       "        text-align: right;\n",
       "    }\n",
       "</style>\n",
       "<table border=\"1\" class=\"dataframe\">\n",
       "  <thead>\n",
       "    <tr style=\"text-align: right;\">\n",
       "      <th></th>\n",
       "      <th>Feature</th>\n",
       "      <th>Coeffs</th>\n",
       "      <th>Abs_Coeffs</th>\n",
       "    </tr>\n",
       "  </thead>\n",
       "  <tbody>\n",
       "    <tr>\n",
       "      <th>6</th>\n",
       "      <td>RGN_NAME</td>\n",
       "      <td>-1.535455</td>\n",
       "      <td>1.535455</td>\n",
       "    </tr>\n",
       "    <tr>\n",
       "      <th>0</th>\n",
       "      <td>Intercept</td>\n",
       "      <td>-1.257394</td>\n",
       "      <td>1.257394</td>\n",
       "    </tr>\n",
       "    <tr>\n",
       "      <th>9</th>\n",
       "      <td>DVC_TYPE_TXT</td>\n",
       "      <td>-0.934280</td>\n",
       "      <td>0.934280</td>\n",
       "    </tr>\n",
       "    <tr>\n",
       "      <th>0</th>\n",
       "      <td>TRAN_AMT</td>\n",
       "      <td>0.822012</td>\n",
       "      <td>0.822012</td>\n",
       "    </tr>\n",
       "    <tr>\n",
       "      <th>8</th>\n",
       "      <td>ALERT_TRGR_CD</td>\n",
       "      <td>0.642319</td>\n",
       "      <td>0.642319</td>\n",
       "    </tr>\n",
       "    <tr>\n",
       "      <th>4</th>\n",
       "      <td>WF_dvc_age</td>\n",
       "      <td>-0.230617</td>\n",
       "      <td>0.230617</td>\n",
       "    </tr>\n",
       "    <tr>\n",
       "      <th>11</th>\n",
       "      <td>AUTHC_SCNDRY_STAT_TXT</td>\n",
       "      <td>0.203207</td>\n",
       "      <td>0.203207</td>\n",
       "    </tr>\n",
       "    <tr>\n",
       "      <th>10</th>\n",
       "      <td>AUTHC_PRIM_TYPE_CD</td>\n",
       "      <td>0.197610</td>\n",
       "      <td>0.197610</td>\n",
       "    </tr>\n",
       "    <tr>\n",
       "      <th>3</th>\n",
       "      <td>OPEN_ACCT_CT</td>\n",
       "      <td>-0.164278</td>\n",
       "      <td>0.164278</td>\n",
       "    </tr>\n",
       "    <tr>\n",
       "      <th>5</th>\n",
       "      <td>CARR_NAME</td>\n",
       "      <td>0.138268</td>\n",
       "      <td>0.138268</td>\n",
       "    </tr>\n",
       "    <tr>\n",
       "      <th>2</th>\n",
       "      <td>CUST_AGE</td>\n",
       "      <td>0.104143</td>\n",
       "      <td>0.104143</td>\n",
       "    </tr>\n",
       "    <tr>\n",
       "      <th>12</th>\n",
       "      <td>CUST_STATE</td>\n",
       "      <td>0.091822</td>\n",
       "      <td>0.091822</td>\n",
       "    </tr>\n",
       "    <tr>\n",
       "      <th>7</th>\n",
       "      <td>STATE_PRVNC_TXT</td>\n",
       "      <td>0.077061</td>\n",
       "      <td>0.077061</td>\n",
       "    </tr>\n",
       "    <tr>\n",
       "      <th>1</th>\n",
       "      <td>ACCT_PRE_TRAN_AVAIL_BAL</td>\n",
       "      <td>-0.052952</td>\n",
       "      <td>0.052952</td>\n",
       "    </tr>\n",
       "  </tbody>\n",
       "</table>\n",
       "</div>"
      ],
      "text/plain": [
       "                    Feature    Coeffs  Abs_Coeffs\n",
       "6                  RGN_NAME -1.535455    1.535455\n",
       "0                 Intercept -1.257394    1.257394\n",
       "9              DVC_TYPE_TXT -0.934280    0.934280\n",
       "0                  TRAN_AMT  0.822012    0.822012\n",
       "8             ALERT_TRGR_CD  0.642319    0.642319\n",
       "4                WF_dvc_age -0.230617    0.230617\n",
       "11    AUTHC_SCNDRY_STAT_TXT  0.203207    0.203207\n",
       "10       AUTHC_PRIM_TYPE_CD  0.197610    0.197610\n",
       "3              OPEN_ACCT_CT -0.164278    0.164278\n",
       "5                 CARR_NAME  0.138268    0.138268\n",
       "2                  CUST_AGE  0.104143    0.104143\n",
       "12               CUST_STATE  0.091822    0.091822\n",
       "7           STATE_PRVNC_TXT  0.077061    0.077061\n",
       "1   ACCT_PRE_TRAN_AVAIL_BAL -0.052952    0.052952"
      ]
     },
     "execution_count": 38,
     "metadata": {},
     "output_type": "execute_result"
    }
   ],
   "source": [
    "# let's remove certain low coefficient features and compare it to our model with all features\n",
    "lda_base_coef_df = pd.DataFrame.from_dict({'Feature': list(train_X.columns),\n",
    "                        'Coeffs': LDA_base.coef_.tolist()[0]})\n",
    "\n",
    "# add in intercept point into above dataframe\n",
    "intercept_df = pd.DataFrame.from_dict({'Feature': ['Intercept'],\n",
    "                                       'Coeffs': LDA_base.intercept_})\n",
    "# add in intercept\n",
    "lda_base_coef_df = lda_base_coef_df.append(intercept_df)\n",
    "\n",
    "lda_base_coef_df['Abs_Coeffs'] = abs(lda_base_coef_df['Coeffs'])\n",
    "\n",
    "lda_base_coef_df.sort_values(by='Abs_Coeffs', ascending=False)"
   ]
  },
  {
   "cell_type": "code",
   "execution_count": 42,
   "metadata": {},
   "outputs": [
    {
     "name": "stdout",
     "output_type": "stream",
     "text": [
      "Total feature count is 10 out of 13.\n"
     ]
    },
    {
     "data": {
      "text/plain": [
       "['TRAN_AMT',\n",
       " 'CUST_AGE',\n",
       " 'OPEN_ACCT_CT',\n",
       " 'WF_dvc_age',\n",
       " 'CARR_NAME',\n",
       " 'RGN_NAME',\n",
       " 'ALERT_TRGR_CD',\n",
       " 'DVC_TYPE_TXT',\n",
       " 'AUTHC_PRIM_TYPE_CD',\n",
       " 'AUTHC_SCNDRY_STAT_TXT']"
      ]
     },
     "execution_count": 42,
     "metadata": {},
     "output_type": "execute_result"
    }
   ],
   "source": [
    "bool_ = lda_base_coef_df['Abs_Coeffs'] > .1\n",
    "lda_selected_coeffs = list(lda_base_coef_df.loc[bool_, 'Feature'])\n",
    "lda_selected_coeffs.remove('Intercept') # happens inplaces\n",
    "print('Total feature count is',len(lda_selected_coeffs), 'out of 13.')\n",
    "lda_selected_coeffs"
   ]
  },
  {
   "cell_type": "code",
   "execution_count": 44,
   "metadata": {},
   "outputs": [
    {
     "name": "stdout",
     "output_type": "stream",
     "text": [
      "[[2018  214]\n",
      " [ 320  484]]\n",
      "              precision    recall  f1-score   support\n",
      "\n",
      "           0       0.86      0.90      0.88      2232\n",
      "           1       0.69      0.60      0.64       804\n",
      "\n",
      "    accuracy                           0.82      3036\n",
      "   macro avg       0.78      0.75      0.76      3036\n",
      "weighted avg       0.82      0.82      0.82      3036\n",
      "\n"
     ]
    }
   ],
   "source": [
    "# Create base log_reg model\n",
    "LDA_w_subset = LinearDiscriminantAnalysis()\n",
    "\n",
    "# Fit model\n",
    "LDA_w_subset.fit(X=train_X[lda_selected_coeffs], y=train_y)\n",
    "\n",
    "lda_subset_preds = LDA_w_subset.predict(valid_X[lda_selected_coeffs])\n",
    "\n",
    "print(confusion_matrix(valid_y, lda_subset_preds))\n",
    "print(classification_report(valid_y, lda_subset_preds))"
   ]
  },
  {
   "cell_type": "code",
   "execution_count": 47,
   "metadata": {},
   "outputs": [],
   "source": [
    "# Create base log_reg model\n",
    "\n",
    "LDA_base = LinearDiscriminantAnalysis()\n",
    "\n",
    "# Fit model\n",
    "\n",
    "LDA_base.fit(X=train_X, y=train_y)\n",
    "\n",
    "lda_base_preds = LDA_base.predict(valid_X)\n"
   ]
  },
  {
   "cell_type": "code",
   "execution_count": 49,
   "metadata": {},
   "outputs": [
    {
     "data": {
      "text/plain": [
       "array([0.65      , 0.64246425, 0.64347826, 0.65513514, 0.63839286])"
      ]
     },
     "execution_count": 49,
     "metadata": {},
     "output_type": "execute_result"
    }
   ],
   "source": [
    "cross_val_score(LDA_base, train_X, train_y, cv=5, n_jobs=-1, scoring='f1')"
   ]
  },
  {
   "cell_type": "markdown",
   "metadata": {},
   "source": [
    "Utilizing feature reduction via eliminating features with low coefficients appear to do mild damage to our the LDA performance."
   ]
  },
  {
   "cell_type": "markdown",
   "metadata": {},
   "source": [
    "### Model 4: KNN"
   ]
  },
  {
   "cell_type": "code",
   "execution_count": 50,
   "metadata": {},
   "outputs": [],
   "source": [
    "results = []\n",
    "for k in range(4, 20):\n",
    "    knn = KNeighborsClassifier(n_neighbors=k).fit(train_X, train_y) \n",
    "    results.append({'k': k,\n",
    "                    'accuracy': accuracy_score(valid_y, knn.predict(valid_X)) })\n",
    "# Convert results to a pandas data frame results = pd.DataFrame(results) print(results)"
   ]
  },
  {
   "cell_type": "code",
   "execution_count": 51,
   "metadata": {},
   "outputs": [
    {
     "name": "stdout",
     "output_type": "stream",
     "text": [
      "     k  accuracy\n",
      "0    4  0.852767\n",
      "1    5  0.859354\n",
      "2    6  0.864625\n",
      "3    7  0.862319\n",
      "4    8  0.863966\n",
      "5    9  0.865283\n",
      "6   10  0.861989\n",
      "7   11  0.863636\n",
      "8   12  0.862978\n",
      "9   13  0.864954\n",
      "10  14  0.865942\n",
      "11  15  0.866271\n",
      "12  16  0.865283\n",
      "13  17  0.863307\n",
      "14  18  0.864954\n",
      "15  19  0.867918\n"
     ]
    }
   ],
   "source": [
    "results = pd.DataFrame(results)\n",
    "print(results)"
   ]
  },
  {
   "cell_type": "markdown",
   "metadata": {
    "tags": []
   },
   "source": [
    "#### K=8"
   ]
  },
  {
   "cell_type": "code",
   "execution_count": 58,
   "metadata": {},
   "outputs": [
    {
     "name": "stdout",
     "output_type": "stream",
     "text": [
      "[[2096  136]\n",
      " [ 273  531]]\n",
      "              precision    recall  f1-score   support\n",
      "\n",
      "           0       0.88      0.94      0.91      2232\n",
      "           1       0.80      0.66      0.72       804\n",
      "\n",
      "    accuracy                           0.87      3036\n",
      "   macro avg       0.84      0.80      0.82      3036\n",
      "weighted avg       0.86      0.87      0.86      3036\n",
      "\n"
     ]
    }
   ],
   "source": [
    "knn = KNeighborsClassifier(n_neighbors=8).fit(train_X, train_y)\n",
    "knn_preds = knn.predict(valid_X)\n",
    "print(confusion_matrix(valid_y, knn_preds))\n",
    "print(classification_report(valid_y, knn_preds))"
   ]
  },
  {
   "cell_type": "code",
   "execution_count": 54,
   "metadata": {},
   "outputs": [
    {
     "data": {
      "text/plain": [
       "array([0.62033195, 0.62655602, 0.63692946, 0.65560166, 0.64389234])"
      ]
     },
     "execution_count": 54,
     "metadata": {},
     "output_type": "execute_result"
    }
   ],
   "source": [
    "cross_val_score(knn, train_X, train_y, cv=5, n_jobs=-1, scoring='recall')"
   ]
  },
  {
   "cell_type": "markdown",
   "metadata": {},
   "source": [
    "#### K=9"
   ]
  },
  {
   "cell_type": "code",
   "execution_count": 56,
   "metadata": {},
   "outputs": [
    {
     "name": "stdout",
     "output_type": "stream",
     "text": [
      "[[2126  106]\n",
      " [ 307  497]]\n",
      "              precision    recall  f1-score   support\n",
      "\n",
      "           0       0.87      0.95      0.91      2232\n",
      "           1       0.82      0.62      0.71       804\n",
      "\n",
      "    accuracy                           0.86      3036\n",
      "   macro avg       0.85      0.79      0.81      3036\n",
      "weighted avg       0.86      0.86      0.86      3036\n",
      "\n"
     ]
    }
   ],
   "source": [
    "knn = KNeighborsClassifier(n_neighbors=9).fit(train_X, train_y)\n",
    "knn_preds = knn.predict(valid_X)\n",
    "print(confusion_matrix(valid_y, knn_preds))\n",
    "print(classification_report(valid_y, knn_preds))"
   ]
  },
  {
   "cell_type": "code",
   "execution_count": 57,
   "metadata": {},
   "outputs": [
    {
     "data": {
      "text/plain": [
       "array([0.59543568, 0.58506224, 0.60165975, 0.61618257, 0.59834369])"
      ]
     },
     "execution_count": 57,
     "metadata": {},
     "output_type": "execute_result"
    }
   ],
   "source": [
    "cross_val_score(knn, train_X, train_y, cv=5, n_jobs=-1, scoring='recall')"
   ]
  },
  {
   "cell_type": "markdown",
   "metadata": {},
   "source": [
    "## Model Evaluation"
   ]
  },
  {
   "cell_type": "code",
   "execution_count": 62,
   "metadata": {},
   "outputs": [],
   "source": [
    "########### Make Predictions, Plot CM and Evaluation Metrics ###########\n",
    "\n",
    "# Make predictions\n",
    " \n",
    "log_reg_pred = log_reg.predict(valid_X_log_reg)\n",
    "\n",
    "xgboost_pred = xgboost.predict(valid_X_xgboost)\n",
    "\n",
    "lda_red = LDA_base.predict(valid_X)\n",
    "\n",
    "knn_pred = knn.predict(valid_X)"
   ]
  },
  {
   "cell_type": "code",
   "execution_count": 63,
   "metadata": {},
   "outputs": [],
   "source": [
    "########### Make Predictions, Plot CM and Evaluation Metrics ###########\n",
    "\n",
    "# Create CM tables\n",
    "\n",
    "cm_log_reg = confusion_matrix(valid_y, log_reg_pred)\n",
    "\n",
    "cm_xgboost = confusion_matrix(valid_y, xgboost_pred)\n",
    "\n",
    "cm_lda = confusion_matrix(valid_y, lda_red)\n",
    "\n",
    "cm_knn = confusion_matrix(valid_y, knn_pred)\n"
   ]
  },
  {
   "cell_type": "code",
   "execution_count": 64,
   "metadata": {},
   "outputs": [
    {
     "data": {
      "image/png": "[encoded data removed]",
      "text/plain": [
       "<Figure size 864x864 with 4 Axes>"
      ]
     },
     "metadata": {
      "needs_background": "light"
     },
     "output_type": "display_data"
    }
   ],
   "source": [
    "# Plot CM's\n",
    "\n",
    "plt.figure(figsize=(12,12))\n",
    "plt.suptitle('Confusion Matrices for All Models', fontsize=30,fontweight='bold')\n",
    "\n",
    "plt.subplot(2,2,1)\n",
    "plt1 = sns.heatmap(cm_log_reg, cmap='YlGnBu', annot=True, xticklabels=[0,1], yticklabels=[0,1], cbar=False,fmt='g')\n",
    "plt1.set_title('Logistic Regresion',fontsize=14,fontweight='bold')\n",
    "plt1.set_xlabel(xlabel='Predicted',fontsize=14)\n",
    "plt1.set_ylabel(ylabel='Actual',fontsize=14)\n",
    "\n",
    "plt.subplot(2,2,2)    \n",
    "plt2 = sns.heatmap(cm_xgboost, cmap='YlGnBu', annot=True, xticklabels=[0,1], yticklabels=[0,1], cbar=False,fmt='g')\n",
    "plt2.set_title('XGBoost',fontsize=14,fontweight='bold')\n",
    "plt2.set_xlabel(xlabel='Predicted',fontsize=14)\n",
    "plt2.set_ylabel(ylabel='Actual',fontsize=14)\n",
    "\n",
    "\n",
    "plt.subplot(2,2,3)  #### Replace with model we end up using\n",
    "plt3 = sns.heatmap(cm_log_reg, cmap='YlGnBu', annot=True, xticklabels=[0,1], yticklabels=[0,1], cbar=False,fmt='g')\n",
    "plt3.set_title('Replace this',fontsize=14,fontweight='bold')\n",
    "plt3.set_xlabel(xlabel='Predicted',fontsize=14)\n",
    "plt3.set_ylabel(ylabel='Actual',fontsize=14)\n",
    "\n",
    "\n",
    "plt.subplot(2,2,4)   #### Replace with model we end up using\n",
    "plt4 = sns.heatmap(cm_log_reg, cmap='YlGnBu', annot=True, xticklabels=[0,1], yticklabels=[0,1], cbar=False,fmt='g')\n",
    "plt4.set_title('Replace this',fontsize=14,fontweight='bold')\n",
    "plt4.set_xlabel(xlabel='Predicted',fontsize=14)\n",
    "plt4.set_ylabel(ylabel='Actual',fontsize=14)\n",
    "\n",
    "\n",
    "plt.show()"
   ]
  },
  {
   "cell_type": "code",
   "execution_count": 65,
   "metadata": {},
   "outputs": [
    {
     "name": "stdout",
     "output_type": "stream",
     "text": [
      "246\n",
      "1888\n",
      "344\n",
      "558\n"
     ]
    }
   ],
   "source": [
    "print(cm_log_reg[1][1])\n",
    "print(cm_log_reg[0][0])\n",
    "print(cm_log_reg[0][1])\n",
    "print(cm_log_reg[1][0])"
   ]
  },
  {
   "cell_type": "code",
   "execution_count": 67,
   "metadata": {},
   "outputs": [
    {
     "name": "stdout",
     "output_type": "stream",
     "text": [
      "| model                        |   accuracy |   recall |   specificity |   precision |    f1 |\n",
      "|:-----------------------------|-----------:|---------:|--------------:|------------:|------:|\n",
      "| Logistic Regression          |      0.703 |    0.846 |         0.306 |       0.772 | 0.807 |\n",
      "| XGBoost                      |      0.938 |    0.968 |         0.856 |       0.949 | 0.958 |\n",
      "| kNN                          |      0.865 |    0.939 |         0.66  |       0.885 | 0.911 |\n",
      "| Linear Discriminant Analysis |      0.827 |    0.905 |         0.611 |       0.866 | 0.885 |\n"
     ]
    }
   ],
   "source": [
    "########### Make Predictions, Plot CM and Evaluation Metrics ###########\n",
    "\n",
    "# Evaluation Metrics\n",
    "eval_list = []\n",
    "\n",
    "def eval_metrics(cm, model):\n",
    "    \n",
    "    model = model\n",
    "\n",
    "##### These numbers have been flipped to account for the fact that Class 0 is the primary class of interest in our problem set\n",
    "#### i.e TP are now Actual = 0 and Predicted 0, TN is Actual = 1 and Predicted =1, and so on. \n",
    "\n",
    "    TN = cm[1][1]\n",
    "    TP = cm[0][0]\n",
    "    FN = cm[0][1]\n",
    "    FP = cm[1][0]\n",
    "\n",
    "    accuracy = round((TP+TN)/(TP+FP+FN+TN),3)\n",
    "    recall = round((TP)/(TP+FN),3)\n",
    "    specificity = round((TN)/(TN+FP),3)\n",
    "    precision = round((TP)/(TP+FP),3)\n",
    "    f1 = round((2*precision*recall)/(precision+recall),3)\n",
    "    \n",
    "    eval_list.append({'model': model, 'accuracy': accuracy, 'recall': recall,\n",
    "                        'specificity': specificity, 'precision': precision, 'f1': f1})\n",
    "    \n",
    "eval_metrics(cm_log_reg, 'Logistic Regression')\n",
    "eval_metrics(cm_xgboost, 'XGBoost')\n",
    "eval_metrics(cm_knn, 'kNN') \n",
    "eval_metrics(cm_lda, 'Linear Discriminant Analysis')\n",
    "\n",
    "eval_df = pd.DataFrame(eval_list).set_index('model')\n",
    "\n",
    "print(eval_df.to_markdown())\n",
    "   "
   ]
  },
  {
   "cell_type": "code",
   "execution_count": null,
   "metadata": {},
   "outputs": [],
   "source": []
  }
 ],
 "metadata": {
  "kernelspec": {
   "display_name": "Python 3",
   "language": "python",
   "name": "python3"
  },
  "language_info": {
   "codemirror_mode": {
    "name": "ipython",
    "version": 3
   },
   "file_extension": ".py",
   "mimetype": "text/x-python",
   "name": "python",
   "nbconvert_exporter": "python",
   "pygments_lexer": "ipython3",
   "version": "3.8.8"
  }
 },
 "nbformat": 4,
 "nbformat_minor": 4
}
